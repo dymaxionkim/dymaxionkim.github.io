{
 "cells": [
  {
   "cell_type": "markdown",
   "metadata": {
    "slideshow": {
     "slide_type": "slide"
    }
   },
   "source": [
    "# 6교시 : Z88 Aurora, ElmerFEM으로 구조해석 하고 Paraview로 결과 만들어 보기"
   ]
  },
  {
   "cell_type": "markdown",
   "metadata": {
    "slideshow": {
     "slide_type": "slide"
    }
   },
   "source": [
    "## 6.1. Z88Aurora\n"
   ]
  },
  {
   "cell_type": "markdown",
   "metadata": {
    "slideshow": {
     "slide_type": "subslide"
    }
   },
   "source": [
    "### Z88Aurora의 능력\n",
    "\n",
    "* 외부 소프트웨어와의 파일 교환시 약간의 제한\n",
    "* 복잡한 STEP 파일 임포트시 실패 확률 있음\n",
    "* 해석 계산 속도는 가장 빠른 수준\n",
    "* 선형탄성, 비선형초탄성, 모드, 열전도 해석 가능\n",
    "* 다물체 해석 불가능"
   ]
  },
  {
   "cell_type": "markdown",
   "metadata": {
    "slideshow": {
     "slide_type": "subslide"
    }
   },
   "source": [
    "### Z88의 사용법\n",
    "\n",
    "* Spider를 통해 순차적으로 쉽게 작업 가능\n",
    "* 신속하게 생산성 높게 빠른 결과를 얻는데 적합\n",
    "\n",
    "![](http://3.bp.blogspot.com/-S-gujh_jRr0/VS-6F1SX7HI/AAAAAAAAa_Y/jcUCNj6FqP4/s1600/20150416_002.png)"
   ]
  },
  {
   "cell_type": "markdown",
   "metadata": {
    "slideshow": {
     "slide_type": "subslide"
    }
   },
   "source": [
    "### 해석 대상 부품 모델링하기\n",
    "\n",
    "* 스퍼기어 하나를 그려보자.\n",
    "* 기어 치형을 그리는 수단\n",
    "\n",
    "> FreeCAD 내장 기어 생성기 사용 (저정밀도)\n",
    "\n",
    "> GPG 프로그램(윈도우용)을 사용 : http://dymaxionkim.blogspot.com/2012/11/gpg-v08.html\n",
    "\n",
    "> 온라인 기어 작도 서비스 (저정밀) : http://geargenerator.com\n",
    "\n",
    "> 온라인 기어 작도 서비스 (고정밀) : http://hessmer.org/gears/InvoluteSpurGearBuilder.html\n",
    "\n",
    "> 무료 기어 작도 소프트웨어 사용 (저정밀) : http://www.emachineshop.com/machine-shop/Free-Gear-Design-Software/page506.html\n",
    "\n",
    "> FGPG 스크립트 프로그램을 사용 (고정밀) : https://github.com/dymaxionkim/FGPG\n",
    "\n"
   ]
  },
  {
   "cell_type": "markdown",
   "metadata": {
    "slideshow": {
     "slide_type": "subslide"
    }
   },
   "source": [
    "![](http://3.bp.blogspot.com/-bRQU6Ir5Hxg/VS-6F4fu3lI/AAAAAAAAa_c/AtQhOeI-BaQ/s1600/20150416_001.png)"
   ]
  },
  {
   "cell_type": "markdown",
   "metadata": {
    "slideshow": {
     "slide_type": "subslide"
    }
   },
   "source": [
    "### 3D 데이타 불러올 때 유의점\n",
    "\n",
    "* STEP 파일을 직접 불러올 때 형상이 깨지는 경우에는, 외부 3D 소프트웨어를 이용하여 직접 STL 파일을 생성한 후 그것을 불러들이는 것이 유리함."
   ]
  },
  {
   "cell_type": "markdown",
   "metadata": {
    "slideshow": {
     "slide_type": "subslide"
    }
   },
   "source": [
    "![](http://4.bp.blogspot.com/-rnUErvBeauU/VS-6Gd95XjI/AAAAAAAAa_k/ldZ3AQYultY/s1600/20150416_004.png)"
   ]
  },
  {
   "cell_type": "markdown",
   "metadata": {
    "slideshow": {
     "slide_type": "subslide"
    }
   },
   "source": [
    "![](http://2.bp.blogspot.com/-aZIOr3ezxPA/VS-6GxPxDiI/AAAAAAAAa_o/RPbnATsPOPc/s1600/20150416_005.png)"
   ]
  },
  {
   "cell_type": "markdown",
   "metadata": {
    "slideshow": {
     "slide_type": "subslide"
    }
   },
   "source": [
    "### Mesh 생성"
   ]
  },
  {
   "cell_type": "markdown",
   "metadata": {
    "slideshow": {
     "slide_type": "subslide"
    }
   },
   "source": [
    "![](http://4.bp.blogspot.com/-XanN5CkjsNQ/VS-6HERiD7I/AAAAAAAAa_w/zxJdV6dIG5k/s1600/20150416_006.png)"
   ]
  },
  {
   "cell_type": "markdown",
   "metadata": {
    "slideshow": {
     "slide_type": "subslide"
    }
   },
   "source": [
    "### 경계조건 설정\n",
    "\n",
    "* 가급적 Surface를 선택하지 말고, node로 선택할 것."
   ]
  },
  {
   "cell_type": "markdown",
   "metadata": {
    "slideshow": {
     "slide_type": "subslide"
    }
   },
   "source": [
    "![](http://2.bp.blogspot.com/-b8m2t9k-J0U/VS-6HR8we9I/AAAAAAAAbAc/CyqVUdRkpEM/s1600/20150416_007.png)"
   ]
  },
  {
   "cell_type": "markdown",
   "metadata": {
    "slideshow": {
     "slide_type": "subslide"
    }
   },
   "source": [
    "### 재질 부여"
   ]
  },
  {
   "cell_type": "markdown",
   "metadata": {
    "slideshow": {
     "slide_type": "subslide"
    }
   },
   "source": [
    "![](http://4.bp.blogspot.com/-xzJ4Kn7g25M/VS-6HrhcYiI/AAAAAAAAa_0/fRdrebQdrmU/s1600/20150416_008.png)"
   ]
  },
  {
   "cell_type": "markdown",
   "metadata": {
    "slideshow": {
     "slide_type": "subslide"
    }
   },
   "source": [
    "### 경계조건 부여할 영역 지정"
   ]
  },
  {
   "cell_type": "markdown",
   "metadata": {
    "slideshow": {
     "slide_type": "subslide"
    }
   },
   "source": [
    "![](http://2.bp.blogspot.com/-siYlEHyAwpg/VS-6IB1bHmI/AAAAAAAAbAI/Mqq13U-6IEA/s1600/20150416_009.png)"
   ]
  },
  {
   "cell_type": "markdown",
   "metadata": {
    "slideshow": {
     "slide_type": "subslide"
    }
   },
   "source": [
    "### 솔버 지정 및 계산 시작"
   ]
  },
  {
   "cell_type": "markdown",
   "metadata": {
    "slideshow": {
     "slide_type": "subslide"
    }
   },
   "source": [
    "![](http://3.bp.blogspot.com/-n2CZa9K9IN0/VS-6IRf5bvI/AAAAAAAAbAA/zlcFmbXM7YU/s1600/20150416_010.png)"
   ]
  },
  {
   "cell_type": "markdown",
   "metadata": {
    "slideshow": {
     "slide_type": "subslide"
    }
   },
   "source": [
    "### 포스트 프로세싱"
   ]
  },
  {
   "cell_type": "markdown",
   "metadata": {
    "slideshow": {
     "slide_type": "subslide"
    }
   },
   "source": [
    "![](http://1.bp.blogspot.com/-eE4Jy_mEklw/VS-6JFw6UtI/AAAAAAAAbAQ/S5gGmV0wYJ8/s1600/20150416_011.png)"
   ]
  },
  {
   "cell_type": "markdown",
   "metadata": {
    "slideshow": {
     "slide_type": "subslide"
    }
   },
   "source": [
    "![](http://1.bp.blogspot.com/-QHXlDsMWguc/VS-6JlKlAhI/AAAAAAAAbAY/-kkJ7u7Q0eM/s1600/20150416_012.png)"
   ]
  },
  {
   "cell_type": "markdown",
   "metadata": {
    "slideshow": {
     "slide_type": "subslide"
    }
   },
   "source": [
    "![](http://1.bp.blogspot.com/-UHnWTIoHBWg/VS-6KCo1LsI/AAAAAAAAbAg/nrcEHOdMTx0/s1600/20150416_013.png)"
   ]
  },
  {
   "cell_type": "markdown",
   "metadata": {
    "slideshow": {
     "slide_type": "subslide"
    }
   },
   "source": [
    "### 결과 데이타\n",
    "\n",
    "* 결과 데이타는 VTK로 만들어내지 못한다.\n",
    "* STL 파일을 출력할 수 있을 뿐이므로 제한적임."
   ]
  },
  {
   "cell_type": "markdown",
   "metadata": {
    "slideshow": {
     "slide_type": "slide"
    }
   },
   "source": [
    "## 6.2. Elmer"
   ]
  },
  {
   "cell_type": "markdown",
   "metadata": {
    "slideshow": {
     "slide_type": "subslide"
    }
   },
   "source": [
    "### Elmer의 능력\n",
    "\n",
    "* 몇 가지 프로그램들의 집합으로 구성되어 있으며, 유기적으로 연계됨.\n",
    "\n",
    "> ElmerGUI, ElmerGrid, ElmerSolver, MATC, ElmerPOST, ElmerVTK\n",
    "\n",
    "* VTK 포멧으로 결과 출력이 가능해 Paraview와 연계 사용 가능.\n"
   ]
  },
  {
   "cell_type": "markdown",
   "metadata": {
    "slideshow": {
     "slide_type": "subslide"
    }
   },
   "source": [
    "* ElmerGUI\n",
    "  1. 입력파일을 자동 생성하는데 편리.\n",
    "  2. 단순한 사용방법으로 쉽게 적응 가능."
   ]
  },
  {
   "cell_type": "markdown",
   "metadata": {
    "slideshow": {
     "slide_type": "subslide"
    }
   },
   "source": [
    "* ElmerGrid\n",
    "  1. NetGen 기반으로 Mesh 생성.\n",
    "  2. 터미널 명령으로 조건을 줘서 스크립트화하여 자동 Mesh 생성하는데 유리."
   ]
  },
  {
   "cell_type": "markdown",
   "metadata": {
    "slideshow": {
     "slide_type": "subslide"
    }
   },
   "source": [
    "* ElmerSolver\n",
    "  1. 유용한 솔버가 잘 셋팅되어 있음.\n",
    "  2. 필요시 Fortran으로 직접 솔버를 만들어서 구동 가능.\n",
    "  3. Fortran 컴파일러는 Elmer 패키지에 자체 내장되어 있음.\n",
    "  4. 터미널 명령으로 솔버만 구동 가능."
   ]
  },
  {
   "cell_type": "markdown",
   "metadata": {
    "slideshow": {
     "slide_type": "subslide"
    }
   },
   "source": [
    "* MATC\n",
    "  1. 입력파일에 들어가는 파라미터들을 다양한 조건, 함수로 통제 가능\n",
    "  2. 문법이 간단함"
   ]
  },
  {
   "cell_type": "markdown",
   "metadata": {
    "slideshow": {
     "slide_type": "subslide"
    }
   },
   "source": [
    "* ElmerPOST\n",
    "  1. 자체 포스트 프로세서.\n",
    "  2. 현재는 업데이트가 중단됨."
   ]
  },
  {
   "cell_type": "markdown",
   "metadata": {
    "slideshow": {
     "slide_type": "subslide"
    }
   },
   "source": [
    "* ElmerVTK\n",
    "  1. VTK 기반으로 새로 만들어진 자체 포스트 프로세서.\n",
    "  2. 단점은 물체의 변형된 상태를 보여주지 못함 (대신 Color 및 Glipe 로 파악 가능)"
   ]
  },
  {
   "cell_type": "markdown",
   "metadata": {
    "slideshow": {
     "slide_type": "slide"
    }
   },
   "source": [
    "### Elmer로 기본적인 선형 탄성 해석해 보기\n",
    "\n",
    "* http://dymaxionkim.blogspot.kr/2015/04/open-source-cae-toolchain-3.html"
   ]
  },
  {
   "cell_type": "markdown",
   "metadata": {
    "slideshow": {
     "slide_type": "subslide"
    }
   },
   "source": [
    "![](http://3.bp.blogspot.com/-7Q4hY-mM6e8/VSr988itROI/AAAAAAAAa6k/SiRorMgRLXY/s1600/20150413_001.png)"
   ]
  },
  {
   "cell_type": "markdown",
   "metadata": {
    "slideshow": {
     "slide_type": "subslide"
    }
   },
   "source": [
    "![](http://4.bp.blogspot.com/-mxqXiLjMuyg/VSr985UqU3I/AAAAAAAAa6g/Wf1MubwLazE/s1600/20150413_002.png)"
   ]
  },
  {
   "cell_type": "markdown",
   "metadata": {
    "slideshow": {
     "slide_type": "subslide"
    }
   },
   "source": [
    "![](http://4.bp.blogspot.com/-9jKafnHKDNQ/VSr981ACnqI/AAAAAAAAa6c/Y6iU6mZ-QzQ/s1600/20150413_003.png)"
   ]
  },
  {
   "cell_type": "markdown",
   "metadata": {
    "slideshow": {
     "slide_type": "subslide"
    }
   },
   "source": [
    "![](http://4.bp.blogspot.com/-77FDbCgxUfw/VSr99oUUEkI/AAAAAAAAa64/HLJ7b8lxUeM/s1600/20150413_004.png)"
   ]
  },
  {
   "cell_type": "markdown",
   "metadata": {
    "slideshow": {
     "slide_type": "subslide"
    }
   },
   "source": [
    "![](http://4.bp.blogspot.com/-wsfkJFR5FAI/VSr992aJt5I/AAAAAAAAa6s/TqxpIDxaP5I/s1600/20150413_005.png)"
   ]
  },
  {
   "cell_type": "markdown",
   "metadata": {
    "slideshow": {
     "slide_type": "subslide"
    }
   },
   "source": [
    "![](http://1.bp.blogspot.com/-GoGWMfps7OQ/VSr9-Bnq5nI/AAAAAAAAa6w/CLXkVT4vR3o/s1600/20150413_006.png)"
   ]
  },
  {
   "cell_type": "markdown",
   "metadata": {
    "slideshow": {
     "slide_type": "subslide"
    }
   },
   "source": [
    "![](http://1.bp.blogspot.com/-BQfyb-KmKn4/VSr9-j_5ucI/AAAAAAAAa7M/ILI2XLL7Hd0/s1600/20150413_007.png)"
   ]
  },
  {
   "cell_type": "markdown",
   "metadata": {
    "slideshow": {
     "slide_type": "subslide"
    }
   },
   "source": [
    "![](http://1.bp.blogspot.com/-zXlapsxo8M0/VSr9-5kcaKI/AAAAAAAAa7A/RmBcmcIUxtA/s1600/20150413_008.png)"
   ]
  },
  {
   "cell_type": "markdown",
   "metadata": {
    "slideshow": {
     "slide_type": "subslide"
    }
   },
   "source": [
    "![](http://1.bp.blogspot.com/-npoy6o1T-Xw/VSr9_RctA6I/AAAAAAAAa7I/jYa6yNtHmdM/s1600/20150413_009.png)"
   ]
  },
  {
   "cell_type": "markdown",
   "metadata": {
    "slideshow": {
     "slide_type": "subslide"
    }
   },
   "source": [
    "![](http://4.bp.blogspot.com/-CJu18pmERGE/VSr9_5AE17I/AAAAAAAAa7Q/6b691AK8zow/s1600/20150413_010.png)"
   ]
  },
  {
   "cell_type": "markdown",
   "metadata": {
    "slideshow": {
     "slide_type": "subslide"
    }
   },
   "source": [
    "![](http://3.bp.blogspot.com/-n54wxlSiGaE/VSr-Aadfj4I/AAAAAAAAa7c/ooeS8JgvXxw/s1600/20150413_011.png)"
   ]
  },
  {
   "cell_type": "markdown",
   "metadata": {
    "slideshow": {
     "slide_type": "subslide"
    }
   },
   "source": [
    "![](http://3.bp.blogspot.com/-O-83v7jdt50/VSr-Aqv_ZsI/AAAAAAAAa7o/-FVCopts5Cg/s1600/20150413_012.png)"
   ]
  },
  {
   "cell_type": "markdown",
   "metadata": {
    "slideshow": {
     "slide_type": "subslide"
    }
   },
   "source": [
    "![](http://4.bp.blogspot.com/-AlaN6yzL7Jw/VSr-A3VE7zI/AAAAAAAAa7k/3EXEx4UGgQ4/s1600/20150413_013.png)"
   ]
  },
  {
   "cell_type": "markdown",
   "metadata": {
    "slideshow": {
     "slide_type": "subslide"
    }
   },
   "source": [
    "![](http://4.bp.blogspot.com/-NEpCBW3acQM/VSsH9MKSI3I/AAAAAAAAa8c/wPDPbSZmV6Y/s1600/20150413_38.png)"
   ]
  },
  {
   "cell_type": "markdown",
   "metadata": {
    "slideshow": {
     "slide_type": "subslide"
    }
   },
   "source": [
    "![](http://4.bp.blogspot.com/-UvpZ5mj2Mjw/VSr-BaeIJBI/AAAAAAAAa7s/5W_ruG58K_c/s1600/20150413_014.png)"
   ]
  }
 ],
 "metadata": {
  "_draft": {
   "nbviewer_url": "https://gist.github.com/ccb70aafe567cd45d3ba12e2a87aa6ba"
  },
  "anaconda-cloud": {},
  "celltoolbar": "Slideshow",
  "gist": {
   "data": {
    "description": "mdwiki_Education/KIRIA/0306_Z88 Aurora, ElmerFEM으로 구조해석 하고 Paraview로 결과 만들어 보기.ipynb",
    "public": true
   },
   "id": "ccb70aafe567cd45d3ba12e2a87aa6ba"
  },
  "kernelspec": {
   "display_name": "Python [conda root]",
   "language": "python",
   "name": "conda-root-py"
  },
  "language_info": {
   "codemirror_mode": {
    "name": "ipython",
    "version": 3
   },
   "file_extension": ".py",
   "mimetype": "text/x-python",
   "name": "python",
   "nbconvert_exporter": "python",
   "pygments_lexer": "ipython3",
   "version": "3.5.2"
  },
  "nav_menu": {},
  "toc": {
   "navigate_menu": true,
   "number_sections": true,
   "sideBar": true,
   "threshold": 6,
   "toc_cell": false,
   "toc_section_display": "block",
   "toc_window_display": false
  }
 },
 "nbformat": 4,
 "nbformat_minor": 0
}
