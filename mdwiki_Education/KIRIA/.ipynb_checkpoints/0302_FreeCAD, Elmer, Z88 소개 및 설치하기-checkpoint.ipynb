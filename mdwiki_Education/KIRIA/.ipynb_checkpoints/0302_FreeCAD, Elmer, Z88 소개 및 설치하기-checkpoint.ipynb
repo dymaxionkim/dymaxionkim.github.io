{
 "cells": [
  {
   "cell_type": "markdown",
   "metadata": {
    "slideshow": {
     "slide_type": "slide"
    }
   },
   "source": [
    "# 2교시 : FreeCAD, Elmer, Z88 소개 및 설치하기"
   ]
  },
  {
   "cell_type": "markdown",
   "metadata": {
    "slideshow": {
     "slide_type": "slide"
    }
   },
   "source": [
    "## 2.1. FreeCAD, Netgen, CalculiX\n",
    "\n",
    "![](http://www.freecadweb.org/tracker/images/mantis_logo.png)\n",
    "![](http://www.iue.tuwien.ac.at/cse/images/static_content/projects/netgen-logo.jpg)\n",
    "![](http://www.dhondt.de/GSStress.gif)"
   ]
  },
  {
   "cell_type": "markdown",
   "metadata": {
    "slideshow": {
     "slide_type": "subslide"
    }
   },
   "source": [
    "### FreeCAD?\n",
    "\n",
    "* http://www.freecadweb.org/\n",
    "* 3D CAD\n",
    "* Based on Open Cascade, Python"
   ]
  },
  {
   "cell_type": "markdown",
   "metadata": {
    "slideshow": {
     "slide_type": "subslide"
    }
   },
   "source": [
    "### CalculiX?\n",
    "\n",
    "* http://www.dhondt.de/\n",
    "* A Free Software Three-Dimensional Structural Finite Element Program\n",
    "* Abaqus와 비슷함 (.inp 형식의 설정 파일 사용)\n",
    "* 자체 Pre.Post-Processor가 약하기 때문에 보통 다른 것들과 붙여서 사용함.\n",
    "* 여기서는 FreeCAD에 붙여서 설치, 기본적인 사항만 해 보기로 함."
   ]
  },
  {
   "cell_type": "markdown",
   "metadata": {},
   "source": [
    "### CalculiX Native 예제\n",
    "\n",
    "* http://dip28p.web.fc2.com/"
   ]
  },
  {
   "cell_type": "markdown",
   "metadata": {
    "slideshow": {
     "slide_type": "subslide"
    }
   },
   "source": [
    "### CalcuiX의 사업화 사례\n",
    "\n",
    "* http://www.mtu.de/\n",
    "* https://www.openaircraft.com/\n",
    "* http://www.calculixforwin.com/\n",
    "* http://www.bconverged.com/\n",
    "* http://ameblo.jp/jishii/"
   ]
  },
  {
   "cell_type": "markdown",
   "metadata": {
    "slideshow": {
     "slide_type": "subslide"
    }
   },
   "source": [
    "### FreeCAD, CalculiX 설치\n",
    "\n",
    "* Mesh Generator로는 Netgen이 함께 설치된다.\n",
    "\n",
    "```\n",
    "sudo add-apt-repository ppa:freecad-maintainers/freecad-stable\n",
    "sudo apt-get update\n",
    "sudo apt-get install freecad calculix-ccx netgen\n",
    "```"
   ]
  },
  {
   "cell_type": "markdown",
   "metadata": {
    "slideshow": {
     "slide_type": "subslide"
    }
   },
   "source": [
    "\n",
    "### Netgen이 실행되지 않는 버그 수정\n",
    "\n",
    "* 출처 : https://sourceforge.net/p/netgen-mesher/discussion/905307/thread/946ccfc2/\n",
    "* 현재 버전의 Netgen이 실행되지 않는 버그가 있다.\n",
    "* Netgen 실행 스크립트 중에 하나에 오기된 부분이 있어 그러하므로 수정해 주면 된다.\n",
    "* 터미널로 편집기 열기\n",
    "```\n",
    "sudo l3afpad /usr/share/netgen/drawing.tcl\n",
    "```\n",
    "* 다음 내용이 있는 부분 찾기\n",
    "```\n",
    "if {[catch {togl .ndraw -width 400 -height 300 -rgba true -double true -depth true -privatecmap false -stereo false -indirect true }] } { ....\n",
    "```\n",
    "* 여기서 `-indirect true`라고 되어 있는 부분을 `-indirect false`로 바꿔준다.\n"
   ]
  },
  {
   "cell_type": "markdown",
   "metadata": {
    "slideshow": {
     "slide_type": "subslide"
    }
   },
   "source": [
    "### FreeCAD, CaculiX 예제\n",
    "\n",
    "* http://dymaxionkim.blogspot.kr/2015/05/open-source-cae-toolchain-14-fem-with.html\n"
   ]
  },
  {
   "cell_type": "markdown",
   "metadata": {
    "slideshow": {
     "slide_type": "slide"
    }
   },
   "source": [
    "## 2.2. Elmer\n",
    "\n",
    "![](https://www.csc.fi/image/layout_set_logo?img_id=134053&t=1464500987499)\n"
   ]
  },
  {
   "cell_type": "markdown",
   "metadata": {
    "slideshow": {
     "slide_type": "subslide"
    }
   },
   "source": [
    "### Elmer?\n",
    "\n",
    "* Multi-Physics, PDE\n",
    "* http://prace.it4i.cz/sites/prace.it4i.cz/files/pss14_elmer_intro.pdf\n",
    "* https://www.csc.fi/web/elmer\n",
    "* http://www.elmerfem.org/\n",
    "* https://github.com/ElmerCSC/elmerfem\n",
    "* http://www.elmerfem.org/forum/viewforum.php?f=1&sid=134fb96c09be1a611c618c96e99b1fc9\n"
   ]
  },
  {
   "cell_type": "markdown",
   "metadata": {
    "slideshow": {
     "slide_type": "subslide"
    }
   },
   "source": [
    "### Elmer의 사업화 사례\n",
    "\n",
    "* http://www.studiogarattoni.com/\n",
    "* http://digitalcreation-s.co.jp/\n",
    "* http://www.fortissimo-project.eu/\n",
    "* http://www.idrasimulation.com/"
   ]
  },
  {
   "cell_type": "markdown",
   "metadata": {
    "slideshow": {
     "slide_type": "subslide"
    }
   },
   "source": [
    "### Elmer 설치\n",
    "\n",
    "```\n",
    "sudo apt-add-repository ppa:elmer-csc-ubuntu/elmer-csc-ppa\n",
    "sudo apt-get update\n",
    "sudo apt-get install elmerfem-csc\n",
    "```"
   ]
  },
  {
   "cell_type": "markdown",
   "metadata": {
    "slideshow": {
     "slide_type": "subslide"
    }
   },
   "source": [
    "### Elmer 시작 방법\n",
    "\n",
    "#### 방법1 : 터미널에서 다음 명령어 입력\n",
    "```\n",
    "ElmerGUI\n",
    "```\n"
   ]
  },
  {
   "cell_type": "markdown",
   "metadata": {
    "slideshow": {
     "slide_type": "subslide"
    }
   },
   "source": [
    "#### 방법2 : 실행 아이콘을 수동으로 등록하기\n",
    "  * 다음 명령을 터미널에 입력.\n",
    "```\n",
    "cd ~\n",
    "wget https://raw.githubusercontent.com/dankamongmen/sprezzos-world/master/packaging/elmerfem/debian/ElmerGUI.desktop\n",
    "sudo mv ~/ElmerGUI.desktop /usr/share/applications/\n",
    "```"
   ]
  },
  {
   "cell_type": "markdown",
   "metadata": {
    "slideshow": {
     "slide_type": "subslide"
    }
   },
   "source": [
    "  * 아이콘 그림 파일을 받아서 연결.\n",
    "  ```\n",
    "  sudo mkdir /usr/share/ElmerGUI/icons\n",
    "  cd ~\n",
    "  wget https://raw.githubusercontent.com/tehnick/elmerfem/master/ElmerGUI/Application/icons/Mesh3D.png\n",
    "  sudo mv ~/Mesh3D.png /usr/share/ElmerGUI/icons\n",
    "  ```"
   ]
  },
  {
   "cell_type": "markdown",
   "metadata": {
    "slideshow": {
     "slide_type": "subslide"
    }
   },
   "source": [
    "### Elmer 예제\n",
    "\n",
    "* CFD : http://dymaxionkim.blogspot.com/2015/06/natural-convection-cfd-with-elmer.html\n",
    "* Contact : http://dymaxionkim.blogspot.com/2015/06/mechanical-contact-analysis-with-elmer.html\n",
    "* Elastic in Transient : http://dymaxionkim.blogspot.kr/2015/04/open-source-cae-toolchain-10-fem-with.html\n",
    "* Elastic in Impicit Dynamics : http://dymaxionkim.blogspot.com/2015/06/transient-linear-elastic-with-elmer.html"
   ]
  },
  {
   "cell_type": "markdown",
   "metadata": {
    "slideshow": {
     "slide_type": "subslide"
    }
   },
   "source": [
    "### Elmer 기타 참고자료\n",
    "\n",
    "* Using Elmer with other pre- and post processors : http://www.nic.funet.fi/index/elmer/course/may2010/ElmerWithOtherSoftware_May2010.pdf\n",
    "* Beyond ElmerGUI : http://web.csc.fi/english/csc/courses/archive/material/svali2011/0530Mon/BeyondElmerGUI\n",
    "* Post-processing utilities : http://www.nic.funet.fi/index/elmer/slides/ElmerCourseWarsaw2014October/ElmerPostProcessing_2014Oct.pdf\n",
    "* Multi-physics simulations for electrical machine development : http://www.vtt.fi/inf/julkaisut/muut/2015/VTT-R-04618-15.pdf\n",
    "* Overview of Elmer : http://www.arek.pajak.info.pl/wp-content/uploads/2013/09/ElmerOverview.pdf\n",
    "* Elmer Parallel Computations : http://www.nic.funet.fi/index/elmer/course/may2010/Handsout_ElmerParallelComputations.pdf"
   ]
  },
  {
   "cell_type": "markdown",
   "metadata": {
    "slideshow": {
     "slide_type": "slide"
    }
   },
   "source": [
    "## 2.3. Z88 Aurora\n",
    "![](http://z88.de/wp-content/uploads/2014/08/Aurora_R1.png)"
   ]
  },
  {
   "cell_type": "markdown",
   "metadata": {
    "slideshow": {
     "slide_type": "subslide"
    }
   },
   "source": [
    "### Z88 Aurora?\n",
    "\n",
    "* http://en.z88.de/\n",
    "* Linear, Non-Linear, Thermal, Frequency\n",
    "* Opimization (Z88Arion)\n",
    "* 1985~ (30년)간 독일 바이로이트 대학교 프랑크 리그 교수 (Dr.Frank Rieg) 팀이 개발.\n",
    "* C Code Base\n",
    "* Z88(Solver), Aurora(GUI for FEA), Arion(GUI for Opt.)"
   ]
  },
  {
   "cell_type": "markdown",
   "metadata": {
    "slideshow": {
     "slide_type": "subslide"
    }
   },
   "source": [
    "### Z88 Aurora 참고 사항\n",
    "\n",
    "* 오랫동안 적절한 업그레이드 속도 유지중\n",
    "* 비교적 안정적임\n",
    "* UI가 우수한 편\n",
    "* 멀티바디 해석 불가능 (접촉 등)"
   ]
  },
  {
   "cell_type": "markdown",
   "metadata": {
    "slideshow": {
     "slide_type": "subslide"
    }
   },
   "source": [
    "### Z88 Aurora 설치\n",
    "\n",
    "* http://download.z88.de/z88aurora/V3/install_unix_en.pdf\n",
    "```\n",
    "cd ~/\n",
    "wget http://download.z88.de/z88aurora/V3/Z88AuroraV3_en.tar.gz\n",
    "gunzip Z88AuroraV3_en.tar.gz\n",
    "tar -xvf Z88AuroraV3_en.tar\n",
    "cd Z88AuroraV3\n",
    "chmod 777 *\n",
    "cd bin/ubuntu64 respectively cd bin/suse64\n",
    "chmod 777 *\n",
    "```"
   ]
  },
  {
   "cell_type": "markdown",
   "metadata": {
    "slideshow": {
     "slide_type": "subslide"
    }
   },
   "source": [
    "### Z88Aurora 시작 방법\n",
    "\n",
    "#### 터미널에서 다음 명령어 입력\n",
    "```\n",
    "cd ~/Z88AuroraV3/bin/ubuntu64\n",
    "./aurorastartv3\n",
    "```\n",
    "* 단축아이콘을 만드는 것은 어렵다.\n",
    "* 실행파일이 불러오는 요소들이 상대경로로 설정되어 있어 일일이 해킹해야 하기 때문."
   ]
  },
  {
   "cell_type": "markdown",
   "metadata": {
    "slideshow": {
     "slide_type": "subslide"
    }
   },
   "source": [
    "### Z88 Aurora 사용방법\n",
    "\n",
    "* 실행파일 : ~/Z88AuroraV3/bin/ubuntu64/aurorastartv3\n",
    "* 사용자 설명서 : http://download.z88.de/z88aurora/V3/userguide.pdf\n",
    "* 이론 해설서 : http://download.z88.de/z88aurora/V3/theoryguide.pdf\n",
    "* 예제 따라하기 : http://download.z88.de/z88aurora/V3/examplemanuals.zip\n",
    "* 예제 파일 : http://download.z88.de/z88aurora/V3/examples.zip"
   ]
  }
 ],
 "metadata": {
  "_draft": {
   "nbviewer_url": "https://gist.github.com/eb991b8476c5608ef4b09b166a4f8d66"
  },
  "anaconda-cloud": {},
  "celltoolbar": "Slideshow",
  "gist": {
   "data": {
    "description": "github/KIRIA_Education/02_Script_Programming.ipynb",
    "public": true
   },
   "id": "eb991b8476c5608ef4b09b166a4f8d66"
  },
  "kernelspec": {
   "display_name": "Python [conda root]",
   "language": "python",
   "name": "conda-root-py"
  },
  "language_info": {
   "codemirror_mode": {
    "name": "ipython",
    "version": 3
   },
   "file_extension": ".py",
   "mimetype": "text/x-python",
   "name": "python",
   "nbconvert_exporter": "python",
   "pygments_lexer": "ipython3",
   "version": "3.5.2"
  },
  "nav_menu": {},
  "toc": {
   "navigate_menu": true,
   "number_sections": true,
   "sideBar": true,
   "threshold": 6,
   "toc_cell": false,
   "toc_section_display": "block",
   "toc_window_display": false
  }
 },
 "nbformat": 4,
 "nbformat_minor": 0
}
