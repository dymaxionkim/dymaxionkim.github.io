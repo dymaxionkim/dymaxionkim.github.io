{
 "cells": [
  {
   "cell_type": "markdown",
   "metadata": {
    "slideshow": {
     "slide_type": "slide"
    }
   },
   "source": [
    "![robot-1107_v02_132x100](https://cloud.githubusercontent.com/assets/12775748/11586629/cc78e47e-9ab7-11e5-8ed8-0a12610c0988.png)\n"
   ]
  },
  {
   "cell_type": "markdown",
   "metadata": {
    "slideshow": {
     "slide_type": "slide"
    }
   },
   "source": [
    "## 1일차\n",
    "### 수업내용 : 새로운 기술을 나의 제품 개발 과정에 접목해 보자!\n",
    "\n",
    "* 1교시 : 왜?\n",
    "* 2교시 : 새로운 패러다임?\n",
    "* 3교시 : 로봇 구조설계자를 위한 강력한 오픈소스 소프트웨어들\n",
    "* 4교시 : 실무에 적용하면 이렇게 좋아진다!\n",
    "* 점심시간\n",
    "* 5교시 : 시스템 구축하기 : VirtualBox 가상머신에 CubLinux 설치하기\n",
    "* 6교시 : 시스템 구축하기 : VirtualBox 가상머신에 CubLinux 설치하기\n",
    "* 7교시 : 시스템 구축하기 : 시스템 환경 구성하면서 Linux 사용방법 익히기\n",
    "* 8교시 : 시스템 구축하기 : 시스템 환경 구성하면서 Linux 사용방법 익히기\n"
   ]
  },
  {
   "cell_type": "markdown",
   "metadata": {
    "slideshow": {
     "slide_type": "slide"
    }
   },
   "source": [
    "# 1교시 : 왜?"
   ]
  },
  {
   "cell_type": "markdown",
   "metadata": {
    "slideshow": {
     "slide_type": "slide"
    }
   },
   "source": [
    "## 1.1. Speaker"
   ]
  },
  {
   "cell_type": "markdown",
   "metadata": {
    "slideshow": {
     "slide_type": "subslide"
    }
   },
   "source": [
    "\n",
    "## Who\n",
    "* Name : Kim,Dong-ho\n",
    "* Email : dymaxion.kim@gmail.com\n",
    "* Job : Mechanical Engineer / Mechanical Designer\n",
    "* Interested in\n",
    "\n",
    "   Easy Engineering with Free/Open Source Softwares\n",
    "\n",
    "   Dexterous Light-Weight Manipulator\n"
   ]
  },
  {
   "cell_type": "markdown",
   "metadata": {
    "slideshow": {
     "slide_type": "subslide"
    }
   },
   "source": [
    "\n",
    "## My Sites\n",
    "* SNS ::: [Google Plus](https://plus.google.com/u/0/+DymaxionKim)\n",
    "* Youtube ::: [Youtube Chanel](https://www.youtube.com/channel/UCFiY-7XHuvE6tNbF35qRcFA)\n",
    "* Blog ::: [Blog in Google Blogspot](http://dymaxionkim.blogspot.kr/)\n",
    "* Wiki ::: [Personal Wiki](http://dymaxionkim.github.io)\n",
    "* Github ::: [https://github.com/dymaxionkim](https://github.com/dymaxionkim)\n"
   ]
  },
  {
   "cell_type": "markdown",
   "metadata": {
    "slideshow": {
     "slide_type": "subslide"
    }
   },
   "source": [
    "\n",
    "## Brief Career\n",
    "**I have some experiences in Semiconductor Inspections, Consumer Devices, Robotics and some Military Devices.**\n",
    "* 1997~2000 ::: 1DOF Inverted Pendulum / 4DOF Rig for 35mm Camera / 6DOF Motion Control Camera\n",
    "* 2001~2003 ::: Fine Tungsten Needle by ElectroChemical MEMS Process for Chip Probe Station / Wafer Deprocessing Inspection Machine / Wafer Decapper Inspection Machine\n",
    "* 2003~2006 ::: LCD TV / NoteBook / CellPhone / Various Consumer Devices\n",
    "* 2006~2007 ::: Marine Devices (Steering, Throttle Lever)\n",
    "* 2009~2012 ::: Human Sized Low-Cost Light Weight Redundent Manipulators\n",
    "* 2007~2015 ::: Education Devices / Humanoid Robots / Articulated & Scara Manipulators / Holonomic Mobile Robots / Human Carring Mobile Robot\n",
    "* 2015~ ::: RCWS\n"
   ]
  },
  {
   "cell_type": "markdown",
   "metadata": {
    "slideshow": {
     "slide_type": "slide"
    }
   },
   "source": [
    "## 1.2. Audience"
   ]
  },
  {
   "cell_type": "markdown",
   "metadata": {
    "slideshow": {
     "slide_type": "subslide"
    }
   },
   "source": [
    "### Information Sheet\n",
    "\n",
    "* 나이/직업/기술수준(상중하) :\n",
    "* 주력 CAD 소프트웨어 : \n",
    "* 개발 아이템 : \n",
    "* Matlab 사용 경험 :\n",
    "* FEA 경험 :\n",
    "* 고민중인 공학적 문제 :\n"
   ]
  },
  {
   "cell_type": "markdown",
   "metadata": {
    "slideshow": {
     "slide_type": "slide"
    }
   },
   "source": [
    "## 1.3. Mechanical Designer"
   ]
  },
  {
   "cell_type": "markdown",
   "metadata": {
    "slideshow": {
     "slide_type": "subslide"
    }
   },
   "source": [
    "### Mechanical Designer (Ideal)\n",
    "\n",
    "* Change the World.\n",
    "* Tony Stark."
   ]
  },
  {
   "cell_type": "markdown",
   "metadata": {
    "slideshow": {
     "slide_type": "subslide"
    }
   },
   "source": [
    "### Mechanical Designer in Korea (Reality)\n",
    "\n",
    "* PM과 경영진의 압박! (일정 압박 + 비용 절감 압박)\n",
    "* 두 번의 기회가 주어지지 않는 경우가 많아졌다.\n",
    "* 10년전과 비교해서 주변 상황이 엄청 열악해져 있다...\n",
    "* '갑을관계 시스템'의 한 가운데 있다.\n",
    "* 전자공학, 소프트웨어공학 분야를 하는 엔지니어들이 은근히 무시하는 경향이 있다.\n",
    "* 영업부서에서는 그냥 노예 취급하는 것 같다.\n",
    "* 설계자 = 시키는대로 그림 그리는 사람 정도로 인식하는 사람도 많다.\n",
    "* 밤새워 일해도 누가 알아주지 않는다.\n",
    "* 막상 문제 해결을 위한 권한이 제대로 주어지지 않는 경우가 많다.\n"
   ]
  },
  {
   "cell_type": "markdown",
   "metadata": {
    "slideshow": {
     "slide_type": "subslide"
    }
   },
   "source": [
    "### Traditional Work Flow\n",
    "\n",
    "* 제품 모델링 + 부품도면 작성\n",
    "* 시제품 제작\n",
    "* 시제품 검증\n",
    "* 설계 업데이트\n",
    "* 테스트/인증\n",
    "* 생산이관\n",
    "* 생산 팔로우업\n"
   ]
  },
  {
   "cell_type": "markdown",
   "metadata": {
    "slideshow": {
     "slide_type": "subslide"
    }
   },
   "source": [
    "### 설계자는 제조업 혁신의 핵심이다.\n",
    "\n",
    "* 혁신의 진정한 의미는 문제를 해결했는지 여부이다.\n",
    "* 아무리 특이한 방법이나 디자인이더라도, 문제를 해결하지 못하면 혁신이라고 부를 수 없다.\n"
   ]
  },
  {
   "cell_type": "markdown",
   "metadata": {
    "slideshow": {
     "slide_type": "subslide"
    }
   },
   "source": [
    "### 설계자만이 누릴 수 있는 특권이 있다.\n",
    "\n",
    "* 진정한 기술적 문제를 설계자 이외에 아무도 이해하지 못한다.\n",
    "* 물리학을 입으로 하는 사람들이 꼭 있다.\n",
    "* 하지만 설계자는 직접 계산하고 검증 한다.\n",
    "* 그것이 일반인과의 차이점이다.\n",
    "* 해당 제품의 처음부터 끝까지 아는 사람은 설계자 뿐이다.\n",
    "* 중소기업 수준의 시스템에서는 설계자 리스크를 근본적으로 피할 수 없다는 점을 인정해야 한다."
   ]
  },
  {
   "cell_type": "markdown",
   "metadata": {
    "slideshow": {
     "slide_type": "subslide"
    }
   },
   "source": [
    "### 제조업 기반의 선진국\n",
    "\n",
    "* 독일, 일본, 대만\n",
    "* 독일과 일본은 여전히 제조업이 전체 GDP의 절반 이상을 점유.\n"
   ]
  },
  {
   "cell_type": "markdown",
   "metadata": {
    "slideshow": {
     "slide_type": "subslide"
    }
   },
   "source": [
    "### 생존, 경쟁, 제조업 붕괴 조짐\n",
    "\n",
    "* 중국\n",
    "* 미국\n",
    "* 일본\n",
    "* 유럽"
   ]
  },
  {
   "cell_type": "markdown",
   "metadata": {
    "slideshow": {
     "slide_type": "subslide"
    }
   },
   "source": [
    "### Politics\n",
    "\n",
    "* 대한민국은 '관계지향적 사회', '저신용 사회'라는 지적이 있다.\n",
    "* 인관관계에 능란하고 임기응변이 강한 센스있는 사람이 출세하는 경향이 강하다.\n",
    "* 고지식하고 깊이 파고드는 엔지니어는 이런 분위기에서는 바보취급당하기 쉽다.\n",
    "* 하지만 문제를 정말로 해결하기 위해서는 그런 엔지니어가 없으면 안된다.\n",
    "* 소위 '입개발자' 보다는, 실제 문제를 해결하는 엔지니어가 많이 나오기를 기대한다.\n"
   ]
  },
  {
   "cell_type": "markdown",
   "metadata": {
    "slideshow": {
     "slide_type": "subslide"
    }
   },
   "source": [
    "### 사람이 미래다.\n",
    "\n",
    "* T자형 인재?\n",
    "* 보통 T자형 인재를 말하는 사람은 막상 자기 자신은 T자형 인재가 아닌 경우가 많더라는...\n",
    "* 깊이있는 전문기술을 '아웃소싱'으로만 떠맡기려는 것이 과연 T자형 인재일까?\n",
    "* 엔지니어는 엔지니어 다워야 빛을 발한다."
   ]
  },
  {
   "cell_type": "markdown",
   "metadata": {
    "slideshow": {
     "slide_type": "subslide"
    }
   },
   "source": [
    "### 회사의 요구\n",
    "\n",
    "* 독불장군은 싫다. (Followership)\n",
    "* 개발 기간을 더 단축시켜라. (Rapid Dev.)\n",
    "* 더 저렴하게 만들어라. (Low Cost)\n",
    "* 품질 문제가 없도록 하라. (Quality)\n",
    "* 엔지니어링은 알아서 해라. (No Attention)\n",
    "* 값비싼 공학 소프트웨어는 사주기 싫다. (No Money)\n",
    "* A/S 부담은 최소한으로 줄이고 싶다. (Light Resource)\n",
    "* 생산에 걸리는 시간을 단축시켜라. (Manufacturing)\n",
    "* 고객 요구 사양을 무조건 맞춰라. (Customization)\n"
   ]
  },
  {
   "cell_type": "markdown",
   "metadata": {
    "slideshow": {
     "slide_type": "subslide"
    }
   },
   "source": [
    "### 고객의 묵시적 요구\n",
    "\n",
    "* 고장 안나게 해 달라. (Reliability)\n",
    "* 사용하기 쉽게 해 달라. (Exclusive Design)\n",
    "* 예뻐야 된다. (Style & Detail)\n",
    "* 문제가 생기면 즉시 해결되어야 한다. (Quick Maintenance)"
   ]
  },
  {
   "cell_type": "markdown",
   "metadata": {
    "slideshow": {
     "slide_type": "subslide"
    }
   },
   "source": [
    "### New Type\n",
    "\n",
    "* 3D 모델링, 도면 그리기로 불충분\n",
    "* 품질경영 개념 장착, 적극적 역할\n",
    "* 수치해석 능력 장착\n",
    "* 예산 절감 해결책 제시 필요\n",
    "* 매카트로닉스 전반에 관한 지식 필요\n",
    "* 최신 소프트웨어 공학 방법론을 받아들여 혁신 주도"
   ]
  },
  {
   "cell_type": "markdown",
   "metadata": {
    "slideshow": {
     "slide_type": "subslide"
    }
   },
   "source": [
    "### 회사, 고객, 시대적 요구를 모두 충족시키려면?\n",
    "\n",
    "* 공부를 더 해야 한다.\n",
    "* 강력한 도구가 필요하다.\n",
    "* 돈을 쓰면 안된다.\n"
   ]
  },
  {
   "cell_type": "markdown",
   "metadata": {
    "slideshow": {
     "slide_type": "slide"
    }
   },
   "source": [
    "## 1.4. Problems"
   ]
  },
  {
   "cell_type": "markdown",
   "metadata": {
    "slideshow": {
     "slide_type": "subslide"
    }
   },
   "source": [
    "### 돈 문제\n",
    "\n",
    "* **고급 해석툴** ::: 수천만원~수억원.  매년 수천만원의 고정비용.\n",
    "* **염가 해석툴** ::: 수천만원. 매년 수백만원의 고정비용.\n",
    "* **MATLAB (고급수치해석)** : 학교에서는 마음대로 쓸 수 있었지만, 회사에서는?\n",
    "* **CAD 옵션 해석툴** : 기능/해석범위에 제한.  옵션 도입을 요청하면 거절당할 확률 90%."
   ]
  },
  {
   "cell_type": "markdown",
   "metadata": {
    "slideshow": {
     "slide_type": "subslide"
    }
   },
   "source": [
    "### 사용 빈도 문제\n",
    "\n",
    "* 고가의 해석 툴을 도입하더라도, 실제 해석을 제대로 해 볼 기회는 자주 오지 않는다.\n",
    "* 해석에 몰두하면 '일 안하고 쓸데없는 짓만 한다'는 핀잔.\n",
    "* 결국 일년에 1~2건 정도 해석해 보는데 만족하게 됨.\n",
    "* 실제로는 프로젝트당 해석문제는 5~10건 정도 발생한다고 보는게 맞음."
   ]
  },
  {
   "cell_type": "markdown",
   "metadata": {
    "slideshow": {
     "slide_type": "subslide"
    }
   },
   "source": [
    "### 경영진이 느끼는 체감 효과가 적다.\n",
    "\n",
    "* 경영진은 주로 Bean Counters(콩알 세는 사람; 회계/관리형 타입).\n",
    "* 경영진은 기술 문제를 얼마나 제대로 해결하는지 그 과정에는 관심이 없다.\n",
    "* 보통 해석문제는, 장시간 노력해서 얻어진 결과물은 허무하게 간단하기 때문에, 경영자들은 '이걸 뭐하러 수천만원 들여서 해 주나'하는 생각을 하기 쉽다.\n",
    "* 결국 경영진은 엔지니어링에 예산을 배정해 주지 않으려고 한다."
   ]
  },
  {
   "cell_type": "markdown",
   "metadata": {
    "slideshow": {
     "slide_type": "subslide"
    }
   },
   "source": [
    "### 엔지니어링 아웃소싱\n",
    "\n",
    "* 어려운 해석문제를 해결하기 위해 대학,연구소,전문 엔지니어링 업체에 외주를 주는 경우.\n",
    "* 기본적으로 케이스당 수천만원 정도 비용으로 책정됨.\n",
    "* 장점은...  전문가가 믿을 수 있는 답을 찾아준다는 점.\n",
    "* 단점은...  가격이 비싸서 마음대로 하기 힘들고, 사후 지원 받기는 현실적으로 어려움(먹튀?).\n",
    "* 결정적으로 회사에 기술 축적 효과가 전혀 없음.\n",
    "* 인하우스 설계 엔지니어의 역할이 축소되고 종속되게 됨.\n",
    "* 역설적으로, 최고의 답을 찾기 위해서는 발주를 주는 회사의 설계 엔지니어가 해석문제에 대해 깊은 이해와 지식이 있어야 가능하다는 것.\n",
    "* 좋은 문제여야 좋은 답이 나오기 때문."
   ]
  },
  {
   "cell_type": "markdown",
   "metadata": {
    "slideshow": {
     "slide_type": "subslide"
    }
   },
   "source": [
    "### 무지(無知)의 문제\n",
    "\n",
    "* 제조업이 세계적으로 어떻게 진화하고 있는지 모르는 것.\n",
    "* 로봇 산업이 어떻게 돌파구를 찾고 있는지 모르는 것.\n",
    "* 조금 어려운 이론만 나오면 고개를 돌리는 습관.\n",
    "* 스페셜리스트를 천시하는 문화."
   ]
  },
  {
   "cell_type": "markdown",
   "metadata": {
    "slideshow": {
     "slide_type": "subslide"
    }
   },
   "source": [
    "### 조직의 관성\n",
    "\n",
    "* 모든 조직은 관료주의적 속성을 가짐.\n",
    "* 혁신적 시도를 거부,방해,비난하는 경우가 많음.\n",
    "* 조직내 알력, 부정적인 의미의 사내정치\n",
    "* 인습,텃세,탐욕,열등감 등의 심리적 요인"
   ]
  },
  {
   "cell_type": "markdown",
   "metadata": {
    "slideshow": {
     "slide_type": "slide"
    }
   },
   "source": [
    "## 1.5. Solutions"
   ]
  },
  {
   "cell_type": "markdown",
   "metadata": {
    "slideshow": {
     "slide_type": "subslide"
    }
   },
   "source": [
    "### 돈 문제\n",
    "\n",
    "* 공짜로 해결할 수 있는 방법을 찾으면 된다.\n",
    "* 제일 먼저 공짜 소프트웨어를 찾아보자.\n",
    "* 결국 해답은 FOSS 뿐."
   ]
  },
  {
   "cell_type": "markdown",
   "metadata": {
    "slideshow": {
     "slide_type": "subslide"
    }
   },
   "source": [
    "### 사용 빈도 문제\n",
    "\n",
    "* 회사에서 다루는 해석 문제는 주로 특정 부분에 한정되기 때문에 정규화하기가 쉽다.\n",
    "* 문제를 정규화해서 표준적인 해석 레시피를 만들어두자.\n",
    "* 그 다음부터는 아주 빠르게 문제 해결이 가능해 진다.\n",
    "* 빠르게 문제 해결이 되면, 해석을 더 자주 수행할 수 있다.\n",
    "* 해석에 필요한 연산은 백그라운드로 실행시켜 두면 된다.\n",
    "* 설계-해석을 틱-톡 리듬을 타면서 매끄럽게 수행 가능하다."
   ]
  },
  {
   "cell_type": "markdown",
   "metadata": {
    "slideshow": {
     "slide_type": "subslide"
    }
   },
   "source": [
    "### 경영진을 꼬시는 방법\n",
    "\n",
    "* 돈 안든다는 점이 제일 크게 어필.\n",
    "* 해석후 반드시 결과 리포팅을 배포한다.  경영진은 보고받는 것을 좋아한다.\n",
    "* 프로젝트 과정에서, 성공적인 결과가 나왔을 때는 하하하 웃으면서 크게 떠벌린다. (아 재수없어!)\n",
    "* 경영진이 말도 안되는 문제를 해결하라고 요구할 때는 일단 검토하겠다고 한 후, 해석을 통한 결과를 근거로 가부를 추후에 보고한다."
   ]
  },
  {
   "cell_type": "markdown",
   "metadata": {
    "slideshow": {
     "slide_type": "subslide"
    }
   },
   "source": [
    "### 아웃소싱\n",
    "\n",
    "* FOSS로 대부분의 문제를 해결 가능하지만, 모든 문제를 스스로 해결하기는 현실적으로 어렵다.\n",
    "* 때문에 난이도가 높거나 중요한 문제는 해석 아웃소싱을 피할 수 없다.\n",
    "* 다만 이 경우에도, 해석 엔지니어와 '대화'와 '토론'이 가능한 지식을 갖추면 일이 더 잘된다.\n",
    "* '이 회사 설계자는 말이 통하는군'이라는 소리를 들을 수 있다.\n",
    "* 때로는 해석 엔지니어링 전문 업체의 엔지니어보다 내가 더 문제를 잘 이해하고 있다는 느낌까지 받는 경험을 할 수 있다."
   ]
  },
  {
   "cell_type": "markdown",
   "metadata": {
    "slideshow": {
     "slide_type": "subslide"
    }
   },
   "source": [
    "### '엔지니어에게는 족보가 없다.'\n",
    "\n",
    "* Synthesis - Analysis - Reporting 과정을 반복하면서 완성도를 올려가는 사이클.\n",
    "* 이 사이클을 통해 자연스럽게 과학적 방법론에 충실할 수 있게 된다.\n",
    "* '내가 해 봐서 아는데'라는 듣기 싫은 선배의 잘난체를 예의바르게 엔지니어의 방식으로 극복 가능.\n",
    "* '쓸데없는 소리 하지 말고 시키는대로 해'라는 경영진의 권력에 의한 압력을 극복하는 수단.\n",
    "* 강압에 의해 불합리한 설계를 하더라도, 나중에 왜 문제가 생길 수 밖에 없게 되었는지 해명이 가능.\n",
    "* 잘못하면 설계자가 다 뒤집어쓰는 사태에 대한 보험."
   ]
  },
  {
   "cell_type": "markdown",
   "metadata": {
    "slideshow": {
     "slide_type": "slide"
    }
   },
   "source": [
    "## 1.6. 결론은?"
   ]
  },
  {
   "cell_type": "markdown",
   "metadata": {
    "slideshow": {
     "slide_type": "subslide"
    }
   },
   "source": [
    "### FOSS를 쓰자는 것이 오늘의 메시지 입니다.\n",
    "\n",
    "* 자연스럽게 품질경영 시스템과 매칭시켜 나가기 위한 준비가 됩니다.\n",
    "* 소프트웨어를 사용하기 위해 낑낑대다 보면 자기도 모르게 기계공학 이론이 빵빵해 집니다.\n",
    "* 저절로 소프트웨어 세계에서 발생하는 혁신들을 기계공학 분야에 접목시켜나가게 됩니다.\n",
    "* 설계를 더 잘 할 수 있게 됩니다.\n",
    "* 회사에 도움이 됩니다.\n",
    "* 나의 발전에 도움이 됩니다."
   ]
  },
  {
   "cell_type": "markdown",
   "metadata": {
    "slideshow": {
     "slide_type": "subslide"
    }
   },
   "source": [
    "### FOSS를 사용하는 댓가\n",
    "\n",
    "* 아무리 좋더라도 단점이 있게 마련.  댓가를 치루어야 합니다.\n",
    "* 최초 입문 단계에서는 익숙치 않은 툴체인 때문에, 환경 설치부터 어렵습니다.\n",
    "* 한국내 사용자 생태계가 활성화되어 있지 않기 때문에, 대부분의 도움은 미국,유럽쪽 자료에 의존해야 합니다.\n",
    "* 복합적인 문제를 풀 수 있는 단계까지 가려면, 엄청난 노력이 필요합니다.\n",
    "* '엄청난 노력'을 쏟기는 현실적으로 어렵기 때문에, 문제를 분해해서 간단한 문제들로 만들어 하나씩 해결해 나가는 전략을 취할 수 있습니다.\n",
    "* 주변에서 오타쿠 취급을 합니다. (오타쿠가 아니라능!)"
   ]
  },
  {
   "cell_type": "markdown",
   "metadata": {
    "slideshow": {
     "slide_type": "subslide"
    }
   },
   "source": [
    "### FOSS 사용 전략\n",
    "\n",
    "* 쌍권총 = Coding + FEA Solver\n",
    "* 기관총 = One day for One Problem (한 문제는 하루 안에 해결하는 빠른 템포)\n",
    "* 자동기관총 = 문제를 정형화해서 정립하고, 재사용률을 높인다.\n",
    "* 원샷투킬 = 문제를 푼 흔적이 그대로 문서화되도록.  나중에 별도로 문서 작성하는 중복 업무는 생략.\n"
   ]
  }
 ],
 "metadata": {
  "_draft": {
   "nbviewer_url": "https://gist.github.com/232903c9f78f433c6302fb6754e1e9f2"
  },
  "anaconda-cloud": {},
  "celltoolbar": "Slideshow",
  "gist": {
   "data": {
    "description": "mdwiki_Education/KIRIA/0101_왜.ipynb",
    "public": true
   },
   "id": "232903c9f78f433c6302fb6754e1e9f2"
  },
  "kernelspec": {
   "display_name": "Python [conda root]",
   "language": "python",
   "name": "conda-root-py"
  },
  "language_info": {
   "codemirror_mode": {
    "name": "ipython",
    "version": 3
   },
   "file_extension": ".py",
   "mimetype": "text/x-python",
   "name": "python",
   "nbconvert_exporter": "python",
   "pygments_lexer": "ipython3",
   "version": "3.5.2"
  },
  "nav_menu": {},
  "toc": {
   "navigate_menu": true,
   "number_sections": true,
   "sideBar": true,
   "threshold": 6,
   "toc_cell": false,
   "toc_section_display": "block",
   "toc_window_display": false
  }
 },
 "nbformat": 4,
 "nbformat_minor": 0
}
