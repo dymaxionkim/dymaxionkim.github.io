{
 "cells": [
  {
   "cell_type": "markdown",
   "metadata": {
    "slideshow": {
     "slide_type": "slide"
    }
   },
   "source": [
    "# 6교시 : 시스템 구축하기 : VirtualBox 가상머신에 CubLinux 설치하기"
   ]
  },
  {
   "cell_type": "markdown",
   "metadata": {
    "slideshow": {
     "slide_type": "slide"
    }
   },
   "source": [
    "## 6.1. CubLinux 둘러보기"
   ]
  },
  {
   "cell_type": "markdown",
   "metadata": {
    "slideshow": {
     "slide_type": "subslide"
    }
   },
   "source": [
    "### GUI 환경 살펴보기\n",
    "\n",
    "* X-Window\n",
    "* Display(Login) Manager : LightDM\n",
    "* Window Manager : OpenBox\n",
    "* Dock : Plank\n",
    "* System Tray : lxPanel\n",
    "* File Manager : files (Nautilus Fork)"
   ]
  },
  {
   "cell_type": "markdown",
   "metadata": {
    "slideshow": {
     "slide_type": "slide"
    }
   },
   "source": [
    "## 6.2. 패키지 관리 툴"
   ]
  },
  {
   "cell_type": "markdown",
   "metadata": {
    "slideshow": {
     "slide_type": "subslide"
    }
   },
   "source": [
    "### APT\n",
    "\n",
    "* Ubuntu의 기반인 Debian 배포판의 패키지 관리 도구\n",
    "* 애플 및 MS 앱스토어 같은 것들의 조상님\n",
    "* 터미널에서 커맨드 명령으로 사용\n",
    "* 예시\n",
    "```\n",
    "sudo apt-get update\n",
    "sudo apt-get upgrade\n",
    "sudo apt-get install pcmanfm\n",
    "```\n",
    "* https://blog.outsider.ne.kr/346\n"
   ]
  },
  {
   "cell_type": "markdown",
   "metadata": {
    "slideshow": {
     "slide_type": "subslide"
    }
   },
   "source": [
    "### Synaptic Package Manager\n",
    "\n",
    "* Debian 배포판의 GUI화된 패키지 관리 도구\n",
    "* APT 툴에 GUI를 씌운 개념이므로 기능은 같음\n"
   ]
  },
  {
   "cell_type": "markdown",
   "metadata": {
    "slideshow": {
     "slide_type": "subslide"
    }
   },
   "source": [
    "### GDebi Package Installer\n",
    "\n",
    "* APT 저장소에서 직접 설치하는 방식이 아니고, .deb 포멧의 설치본을 직접 다운로드 받아서 설치할 때 사용\n",
    "* 원래 기본 명령어인 `dpkg` 보다 한단계 더 발전한 것 (의존성 있는 패키지를 자동으로 함께 설치해 주는 기능 추가)\n",
    "* CubLinux에는 GUI도 함께 설치되어 있음\n",
    "* 웬만하면 APT 같은 것으로 소프트웨어를 설치하는 것이 좋음\n",
    "* 지속적인 업데이트를 자동으로 처리할 수 있기 때문임"
   ]
  },
  {
   "cell_type": "markdown",
   "metadata": {
    "slideshow": {
     "slide_type": "slide"
    }
   },
   "source": [
    "## 6.3. 터미널"
   ]
  },
  {
   "cell_type": "markdown",
   "metadata": {
    "slideshow": {
     "slide_type": "subslide"
    }
   },
   "source": [
    "### GNOME Terminal\n",
    "\n",
    "* X-Window에서 사용하는 터미널\n",
    "* CubLinux에 기본으로 설치되어 있음\n",
    "* 가장 자주 사용하는 도구"
   ]
  },
  {
   "cell_type": "markdown",
   "metadata": {
    "slideshow": {
     "slide_type": "slide"
    }
   },
   "source": [
    "## 6.4. 주요 디렉토리 구성"
   ]
  },
  {
   "cell_type": "markdown",
   "metadata": {
    "slideshow": {
     "slide_type": "subslide"
    }
   },
   "source": [
    "### /\n",
    "```\n",
    " /bin\n",
    " /home\n",
    " /media\n",
    " /opt\n",
    " /root\n",
    " /usr\n",
    "```"
   ]
  },
  {
   "cell_type": "markdown",
   "metadata": {
    "slideshow": {
     "slide_type": "slide"
    }
   },
   "source": [
    "## 6.5. MS윈도우 시스템과의 차이점"
   ]
  },
  {
   "cell_type": "markdown",
   "metadata": {
    "slideshow": {
     "slide_type": "subslide"
    }
   },
   "source": [
    "항목  |MS윈도우  | 리눅스\n",
    "------|----------|----------\n",
    "설정  |레지스트리|텍스트 설정파일\n",
    "GUI   |Direct    |X-Window Server\n",
    "루트  |C:\\       |/\n",
    "디렉토리 구분자 |\\ |/\n",
    "현재 디렉토리|.|.\n",
    "어머니 디렉토리|..|..\n"
   ]
  }
 ],
 "metadata": {
  "_draft": {
   "nbviewer_url": "https://gist.github.com/2cff3c9066b2d304c36bf5dab0ce06a1"
  },
  "anaconda-cloud": {},
  "celltoolbar": "Slideshow",
  "gist": {
   "data": {
    "description": "mdwiki_Education/KIRIA/0106_VirtualBox 가상머신에 CubLinux 설치하기.ipynb",
    "public": true
   },
   "id": "2cff3c9066b2d304c36bf5dab0ce06a1"
  },
  "kernelspec": {
   "display_name": "Python [conda root]",
   "language": "python",
   "name": "conda-root-py"
  },
  "language_info": {
   "codemirror_mode": {
    "name": "ipython",
    "version": 3
   },
   "file_extension": ".py",
   "mimetype": "text/x-python",
   "name": "python",
   "nbconvert_exporter": "python",
   "pygments_lexer": "ipython3",
   "version": "3.5.2"
  },
  "nav_menu": {},
  "toc": {
   "navigate_menu": true,
   "number_sections": true,
   "sideBar": true,
   "threshold": 6,
   "toc_cell": false,
   "toc_section_display": "block",
   "toc_window_display": false
  }
 },
 "nbformat": 4,
 "nbformat_minor": 0
}
