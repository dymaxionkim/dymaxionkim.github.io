{
 "cells": [
  {
   "cell_type": "markdown",
   "metadata": {
    "slideshow": {
     "slide_type": "slide"
    }
   },
   "source": [
    "\n",
    "<center>\n",
    "<font size=5>고용노동부 국가인적자원개발 컨소시엄<br><br>\n",
    "로봇융복합 산업인력양성 사업<br><br>\n",
    "로봇(관련)기업 재직자를 위한 교육프로그램<br><br>\n",
    "한국로봇산업진흥원</font><br>\n",
    "</center>\n"
   ]
  },
  {
   "cell_type": "markdown",
   "metadata": {
    "slideshow": {
     "slide_type": "slide"
    }
   },
   "source": [
    "# 교육계획서"
   ]
  },
  {
   "cell_type": "markdown",
   "metadata": {
    "slideshow": {
     "slide_type": "subslide"
    }
   },
   "source": [
    "## 분야 : 기계\n",
    "## 과정명 : 신기술 오픈소스 소프트웨어를 활용한 구조설계와 해석 방법"
   ]
  },
  {
   "cell_type": "markdown",
   "metadata": {
    "slideshow": {
     "slide_type": "subslide"
    }
   },
   "source": [
    "## 강사\n",
    "* Name : 김동호\n",
    "* Company/Position : (주)도담시스템스 / 수석연구원\n",
    "* E-mai/HP : dymaxion.kim@gmail.com / 010-2289-4826\n",
    "\n",
    "## 담당자\n",
    "* 담당자 : 정책기획실 창의인재육성팀 김아람 주임\n",
    "* 연락처 : 053-210-9556 / 053-210-9550 / 010-6252-1695 / arkim@kiria.prg"
   ]
  },
  {
   "cell_type": "markdown",
   "metadata": {
    "slideshow": {
     "slide_type": "subslide"
    }
   },
   "source": [
    "# 과정소개\n",
    "\n",
    "로봇 구조설계자는 설계데이타 모델링 및 도면 작도 이외에, 핵심 설계 변수를 직접 결정할 수 있는 공학 해석 능력 역시 필수적으로 요구된다.  그러나 스타트업/벤쳐/중소기업의 경우, 실제 수행하는 해석 건수에 비해 지나치게 높은 비용의 상용 해석 소프트웨어를 도입하는 것은 현실적으로 어려운 경우가 많다.  따라서 당면한 공학 문제들을, 오픈소스 소프트웨어를 활용하여 해결함으로써 이러한 모순을 해결할 수 있다.\n",
    "본 과정에서는, 오픈소스 소프트웨어를 활용한 공학해석을 효과적으로 수행할 수 있는 리눅스 테스크탑 컴퓨팅 환경을 스스로 직접 구축하고 관리해 나갈 수 있는 방법을 우선 습득한다.\n",
    "이렇게 구축된 환경 위에서, 다양한 공학 해석 소프트웨어들을 설치하고, 기본적인 사용 방법을 실습한다.  아울러, 각각의 공학해석 이론과 배경을 리뷰함으로써 이해도를 높이고 실무에 즉시 적용 가능하도록 한다.  마지막으로, 실제 구체적인 문제를 제시한 후 직접 해결하고 결과를 검토하며, 그 결과를 설계작업에 적용하는 과정을 실습과 함께 수행한다.\n",
    "본 과정에서 다루어 볼 공학 해석 및 관련 소프트웨어들은 다음과 같다.\n",
    "\n",
    "* VirtualBox (가상머신)\n",
    "* Ubuntu 계열 리눅스\n",
    "* Julia Lang (공학해석용 스크립트 언어)\n",
    "* Jupyter (REPL 환경)\n",
    "* LightTable (텍스트 에디터)\n",
    "* FreeCAD(3D CAD)\n",
    "* Elmer (FEM Solver)\n",
    "* Z88 (FEM Solver)\n",
    "* GMSH (Pre-Processor)\n",
    "* Salome (Pre-Processor)\n",
    "* NetGen (Mesh Generator)\n",
    "* Paraview (Post-Processor)\n",
    "* Git (버전관리도구)\n",
    "* Github (버전관리 및 공유를 위한 온라인 서비스) 등.\n"
   ]
  },
  {
   "cell_type": "markdown",
   "metadata": {
    "slideshow": {
     "slide_type": "subslide"
    }
   },
   "source": [
    "# 실습\n",
    "* 각자 지참한 윈도우 노트북 PC에 VirtualBox를 설치하고, 여기에 Ubuntu 계열 리눅스를 설치한다.  \n",
    "* 리눅스 시스템 환경을 설정하고, 공학용 소프트웨어들을 설치한다.\n",
    "* Jupyter 로컬 서버를 활성화시킨 후, 웹브라우저를 연결하고 Julia 언어를 이용하여 문제를 해결한다.\n",
    "* LightTable을 이용하여 Octave 또는 Julia 스크립트 프로그래밍을 실습한다.\n",
    "* FreeCAD를 이용하여 간단한 모델링 및 데이타 교환 방법을 습득하고, 해석을 위한 모델을 구성한다.\n",
    "* GMSH, NetGen, Salome 등을 이용하여 Mesh Generation 및 Boundary Condition 설정 연습을 한다.\n",
    "* Elmer, Z88 등을 이용하여 다양한 경우의 유한요소해석을 수행해 본다.  (선형 유한요소해석, 비선형 유한요소해석, 경계조건을 변화시켜 가면서 스캐닝하는 기법, 시간 영역에서의 천이 응답을 볼 수 있는 Implicit 해석 기법, 고유모드 해석, 열전도, 대류, 층류 유체해석, 부력을 고려한 자연대류, 2가지 이상의 물리현상을 중첩시켜 해석하는 멀티피직스 기법 등)\n",
    "* ParaView를 이용하여 Visualization 작업을 실습한다.\n",
    "* Git 및 Github 서비스를 이용하여 작업 데이타를 백업,유지,관리,공유하는 방법을 연습한다.\n",
    "* 결과 리포트를 작성한다.\n"
   ]
  },
  {
   "cell_type": "markdown",
   "metadata": {
    "slideshow": {
     "slide_type": "subslide"
    }
   },
   "source": [
    "# 학습성과\n",
    "* 실무 설계 과정에서 가장 많이 활용할 수 있는 공학 해석 기법의 전형을 습득하여 즉시 응용 가능하도록 한다.\n",
    "* 실무 설계 과정에서 별도의 비용 발생 없이 최신 공학 해석 기법들을 사용하고 성과를 낼 수 있는 수준에 도달한다.\n",
    "* 지속적으로 시스템과 도구를 설치, 유지, 업데이트 해 나갈 수 있도록 한다.\n",
    "* 지속적인 자가학습 및 수준 향상이 가능하도록 방향을 제시한다."
   ]
  },
  {
   "cell_type": "markdown",
   "metadata": {
    "slideshow": {
     "slide_type": "subslide"
    }
   },
   "source": [
    "# 교재\n",
    "* 본 강의자료를 활용하여 주로 따라하기 기법으로 실습한다."
   ]
  },
  {
   "cell_type": "markdown",
   "metadata": {
    "slideshow": {
     "slide_type": "slide"
    }
   },
   "source": [
    "# 강의 시간표"
   ]
  },
  {
   "cell_type": "markdown",
   "metadata": {
    "slideshow": {
     "slide_type": "subslide"
    }
   },
   "source": [
    "## 1일차\n",
    "### 수업내용 : 새로운 기술을 나의 제품 개발 과정에 접목해 보자!\n",
    "\n",
    "* 1교시 : 왜?\n",
    "* 2교시 : 새로운 패러다임?\n",
    "* 3교시 : 로봇 구조설계자를 위한 강력한 오픈소스 소프트웨어들\n",
    "* 4교시 : 실무에 적용하면 이렇게 좋아진다!\n",
    "* 점심시간\n",
    "* 5교시 : 시스템 구축하기 : VirtualBox 가상머신에 CubLinux 설치하기\n",
    "* 6교시 : 시스템 구축하기 : VirtualBox 가상머신에 CubLinux 설치하기\n",
    "* 7교시 : 시스템 구축하기 : 시스템 환경 구성하면서 Linux 사용방법 익히기\n",
    "* 8교시 : 시스템 구축하기 : 시스템 환경 구성하면서 Linux 사용방법 익히기\n"
   ]
  },
  {
   "cell_type": "markdown",
   "metadata": {
    "slideshow": {
     "slide_type": "subslide"
    }
   },
   "source": [
    "## 2일차\n",
    "### 수업내용 : 스크립트 프로그래밍 환경을 구축하고 실제로 써보자!\n",
    "\n",
    "* 1교시 : 왜 로봇 구조설계자가 프로그래밍까지 해야 되나?\n",
    "* 2교시 : Scilab, GNU Octave, Scientific Python, Julia를 설치해서 간단히 사용해 보기\n",
    "* 3교시 : Jupyter를 설치해서 간단히 사용해 보기\n",
    "* 4교시 : Light Table 에디터 설치해서 간단히 사용해 보기\n",
    "* 점심시간\n",
    "* 5교시 : Git 소개,설치 및 Github 계정 만들고 연계시키기\n",
    "* 6교시 : Gist Extension 설치 후 Jupyter와 연계해 보기\n",
    "* 7교시 : 문제 해결 예제 : 모바일 로봇의 완충 장치 설계\n",
    "* 8교시 : 문제 해결 예제 : 모바일 로봇의 완충 장치 설계\n"
   ]
  },
  {
   "cell_type": "markdown",
   "metadata": {
    "slideshow": {
     "slide_type": "subslide"
    }
   },
   "source": [
    "## 3일차\n",
    "### 수업내용 : 유한요소해석을 수행해 보자!\n",
    "\n",
    "* 1교시 : 오픈소스 유한요소해석 소프트웨어들의 활용 개념\n",
    "* 2교시 : FreeCAD with Calculix, ElmerFEM, Z88 Aurora, Salome Meca with Code Aster, OpenFOAM, GMSH, Paraview, DraftSight 소개 및 설치하기\n",
    "* 3교시 : FreeCAD with Calculix, ElmerFEM, Z88 Aurora, Salome Meca with Code Aster, OpenFOAM, GMSH, Paraview, DraftSight 소개 및 설치하기\n",
    "* 4교시 : FreeCAD with Calculix, ElmerFEM, Z88 Aurora, Salome Meca with Code Aster, OpenFOAM, GMSH, Paraview, DraftSight 소개 및 설치하기\n",
    "* 점심시간\n",
    "* 5교시 : FreeCAD로 부품 모델링하고 간단하게 구조해석 해 보기\n",
    "* 6교시 : Z88 Aurora, ElmerFEM으로 구조해석 하고 Paraview로 결과 만들어 보기\n",
    "* 7교시 : GMSH, Salome 사용해 보기\n",
    "* 8교시 : GMSH, ElmerFEM으로 유체동역학 및 멀티피직스 해석해 보기\n"
   ]
  },
  {
   "cell_type": "markdown",
   "metadata": {
    "slideshow": {
     "slide_type": "subslide"
    }
   },
   "source": [
    "## 4일차\n",
    "### 수업내용 : 매니퓰레이터의 서보 시스템을 설계하고 해석해 보기\n",
    "\n",
    "* 1교시 : 문제 해결 예제 : 매니퓰레이터의 기구학, 동역학 간단한 리뷰\n",
    "* 2교시 : 문제 해결 예제 : 유성감속기를 직접 설계해 보기 (Julia 스크립트)\n",
    "* 3교시 : 문제 해결 예제 : 유성감속기를 직접 설계해 보기 (Julia 스크립트)\n",
    "* 4교시 : 문제 해결 예제 : 유성감속기를 직접 설계해 보기 (DraftSight, FreeCAD)\n",
    "* 점심시간\n",
    "* 5교시 : 문제 해결 예제 : 유성감속기의 구조해석 (GMSH, Salome, ElmerFEM, Paraview)\n",
    "* 6교시 : 문제 해결 예제 : 유성감속기의 구조해석 (GMSH, Salome, ElmerFEM, Paraview)\n",
    "* 7교시 : 문제 해결 예제 : 설계 및 해석 결과 리포트 작성하기\n",
    "* 8교시 : 문제 해결 예제 : 결과 강평 및 기타 테크닉들, 유용한 온라인 서비스들 소개 (OnShape, SimScale, SageMathCloud)\n"
   ]
  },
  {
   "cell_type": "markdown",
   "metadata": {
    "slideshow": {
     "slide_type": "slide"
    }
   },
   "source": [
    "# 관련 자료"
   ]
  },
  {
   "cell_type": "markdown",
   "metadata": {
    "slideshow": {
     "slide_type": "subslide"
    }
   },
   "source": [
    "### OS\n",
    "* VirtualBox : https://www.virtualbox.org/\n",
    "* CubLinux : https://cublinux.com/"
   ]
  },
  {
   "cell_type": "markdown",
   "metadata": {
    "slideshow": {
     "slide_type": "subslide"
    }
   },
   "source": [
    "### Script Programming\n",
    "* Scilab : http://www.scilab.org/\n",
    "* GNU Octave : https://www.gnu.org/software/octave/\n",
    "* Scientific Python : https://www.scipy.org\n",
    "* Julia : http://www.julialang.org/\n",
    "* Jupyter : http://jupyter.org/\n",
    "* LightTable : http://lighttable.com/"
   ]
  },
  {
   "cell_type": "markdown",
   "metadata": {
    "slideshow": {
     "slide_type": "subslide"
    }
   },
   "source": [
    "### CAD/CAE\n",
    "* FreeCAD : http://www.freecadweb.org/\n",
    "* Calculix : http://www.calculix.de/\n",
    "* Netgen : https://sourceforge.net/projects/netgen-mesher/\n",
    "* ElmerFEM : http://www.elmerfem.org/\n",
    "* Z88 Aurora : http://z88.de/\n",
    "* Salome Meca : http://www.salome-platform.org/\n",
    "* Salome Platform : http://www.salome-platform.org/\n",
    "* Code Aster : http://code-aster.org/\n",
    "* Code Saturne : http://code-saturne.org/cms/\n",
    "* OpenFOAM : http://openfoam.org/\n",
    "* GMSH : http://gmsh.info/\n",
    "* Paraview : http://www.paraview.org/\n",
    "* DraftSight : http://www.3ds.com/ko/products-services/draftsight-cad-software/"
   ]
  },
  {
   "cell_type": "markdown",
   "metadata": {
    "slideshow": {
     "slide_type": "subslide"
    }
   },
   "source": [
    "### Online Services\n",
    "* OnShape : https://www.onshape.com/\n",
    "* SimScale : https://www.simscale.com/\n",
    "* SageMathCloud : https://cloud.sagemath.com/\n",
    "* Github : https://github.com/"
   ]
  },
  {
   "cell_type": "markdown",
   "metadata": {
    "slideshow": {
     "slide_type": "slide"
    }
   },
   "source": [
    "# 강사 소개"
   ]
  },
  {
   "cell_type": "markdown",
   "metadata": {
    "slideshow": {
     "slide_type": "subslide"
    }
   },
   "source": [
    "# About me\n",
    "\n",
    "![robot-1107_v02_132x100](https://cloud.githubusercontent.com/assets/12775748/11586629/cc78e47e-9ab7-11e5-8ed8-0a12610c0988.png)\n",
    "\n",
    "## Who\n",
    "* Name : Kim,Dong-ho\n",
    "* Email : dymaxion.kim@gmail.com\n",
    "* Job : Mechanical Engineer / Mechanical Designer\n",
    "* Interested : Easy Engineering with Free/Open Source Softwares / Dexterous Light-Weight Manipulator\n",
    "\n",
    "## My Sites\n",
    "* SNS ::: [Google Plus](https://plus.google.com/u/0/+DymaxionKim) / [Youtube Chanel](https://www.youtube.com/channel/UCFiY-7XHuvE6tNbF35qRcFA)\n",
    "* Blog ::: [Old Blog in Naver.com](http://blog.naver.com/dymaxion) / [Blog in Google Blogspot](http://dymaxionkim.blogspot.kr/)\n",
    "* Wiki ::: [Here](http://dymaxionkim.github.io) / [Torchpad](http://dymaxionkim.torchpad.com)\n",
    "* Github ::: [dymaxionkim.github.io](https://github.com/dymaxionkim/dymaxionkim.github.io) / [UbuntuBang](https://github.com/dymaxionkim/UbuntuBang) / [JINGO_WIKI](https://github.com/dymaxionkim/JINGO_WIKI) / [COMBI](https://github.com/dymaxionkim/COMBI) / [FGPG](https://github.com/dymaxionkim/FGPG)\n",
    "\n",
    "## Brief Career\n",
    "**I have some experiences in Semiconductor Inspections, Consumer Devices, Robotics and some Military Devices.**\n",
    "* 1997~2000 ::: 1DOF Inverted Pendulum / 4DOF Rig for 35mm Camera / 6DOF Motion Control Camera\n",
    "* 2001~2003 ::: Fine Tungsten Needle by ElectroChemical MEMS Process for Chip Probe Station / Wafer Deprocessing Inspection Machine / Wafer Decapper Inspection Machine\n",
    "* 2003~2006 ::: LCD TV / NoteBook / CellPhone / Various Consumer Devices\n",
    "* 2006~2007 ::: Marine Devices (Steering, Throttle Lever)\n",
    "* 2009~2012 ::: Human Sized Low-Cost Light Weight Redundent Manipulators\n",
    "* 2007~2015 ::: Education Devices / Humanoid Robots / Articulated & Scara Manipulators / Holonomic Mobile Robots / Human Carring Mobile Robot\n",
    "* 2015~ ::: RCWS"
   ]
  },
  {
   "cell_type": "markdown",
   "metadata": {
    "slideshow": {
     "slide_type": "subslide"
    }
   },
   "source": [
    "## 본 교육내용 관련 링크\n",
    "_본 교육내용에 대한 소개, 사례, 신문기사 등 링크 사이트_\n",
    "\n",
    "* 강사가 본 교안을 작성하기 이전에 작성해 둔 초안 (웹사이트 형태) : http://dymaxionkim.github.io/\n",
    "\n"
   ]
  },
  {
   "cell_type": "markdown",
   "metadata": {
    "slideshow": {
     "slide_type": "subslide"
    }
   },
   "source": [
    "## 관련 이미지\n",
    "\n",
    "* 관련 이미지 :\n",
    "\n",
    "https://cloud.githubusercontent.com/assets/12775748/11455961/8b4a237a-96b9-11e5-90fc-0890beeb737e.png\n",
    "\n",
    "https://cloud.githubusercontent.com/assets/12775748/11458103/a1ec281a-96fc-11e5-886c-3c88c63ea891.png\n",
    "\n",
    "https://cloud.githubusercontent.com/assets/12775748/11458100/9000d1e6-96fc-11e5-96a5-0d7cc24c7e91.png\n"
   ]
  },
  {
   "cell_type": "markdown",
   "metadata": {
    "slideshow": {
     "slide_type": "slide"
    }
   },
   "source": [
    "# 기타"
   ]
  },
  {
   "cell_type": "markdown",
   "metadata": {
    "slideshow": {
     "slide_type": "subslide"
    }
   },
   "source": [
    "## NCS 국가직무능력표준\n",
    "* 참고 : https://www.ncs.go.kr/ncs/page.do?sk=P3A3_PG08_008&mk=MU00000080&uk=MU00000069\n",
    "* 분류 : 15.기계 / 01.기계설계 / 02.기계설계 / 03.구조해석설계\n",
    "* 능력단위\n",
    "\n",
    "|순번|능력단위|\n",
    "|--|--|\n",
    "|1|해석용모델링|\n",
    "|2|정적구조해석|\n",
    "|3|열응력해석|\n",
    "|4|유동해석|\n",
    "|5|동적구조해석|\n",
    "|6|진동/소음해석|\n",
    "|7|내구해석|\n",
    "|8|최적화해석|\n"
   ]
  },
  {
   "cell_type": "markdown",
   "metadata": {
    "slideshow": {
     "slide_type": "subslide"
    }
   },
   "source": [
    "## 수강조건\n",
    "\n",
    "* 기계공학/구조설계 분야 엔지니어 대상\n",
    "* 경력 0~10년차 대상\n",
    "* Course Level : 기초~중급"
   ]
  },
  {
   "cell_type": "markdown",
   "metadata": {
    "slideshow": {
     "slide_type": "subslide"
    }
   },
   "source": [
    "## 장비\n",
    "* 개인용 노트북 PC 필수 지참\n",
    "* 윈도우 7~10 (64bit) 설치되어 있을 것\n",
    "* CPU 권장 i5급 이상\n",
    "* RAM 최소 4GB, 권장 8GB 이상\n",
    "* HDD 40GB 이상의 여유 하드디스크 공간\n",
    "* VGA 인텔 내장 그래픽 수준이라도 무방함\n",
    "* DISPLAY 해상도는 최소 1024x768 이상이어야 함\n",
    "* WiFi 통신 가능한 상태일 것\n",
    "* 마우스 필수\n"
   ]
  },
  {
   "cell_type": "markdown",
   "metadata": {
    "collapsed": true,
    "slideshow": {
     "slide_type": "slide"
    }
   },
   "source": [
    "# 끝!"
   ]
  }
 ],
 "metadata": {
  "_draft": {
   "nbviewer_url": "https://gist.github.com/78180eeeaf8756997ff399b5f7e098c6"
  },
  "anaconda-cloud": {},
  "celltoolbar": "Slideshow",
  "gist": {
   "data": {
    "description": "github/KIRIA_Education/00_강의계획서.ipynb",
    "public": true
   },
   "id": "78180eeeaf8756997ff399b5f7e098c6"
  },
  "kernelspec": {
   "display_name": "Julia 0.5.0",
   "language": "julia",
   "name": "julia-0.5"
  },
  "language_info": {
   "file_extension": ".jl",
   "mimetype": "application/julia",
   "name": "julia",
   "version": "0.5.0"
  },
  "nav_menu": {},
  "toc": {
   "navigate_menu": true,
   "number_sections": true,
   "sideBar": true,
   "threshold": 6,
   "toc_cell": false,
   "toc_section_display": "block",
   "toc_window_display": false
  }
 },
 "nbformat": 4,
 "nbformat_minor": 0
}
