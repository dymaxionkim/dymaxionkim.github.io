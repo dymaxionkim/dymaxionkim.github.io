{
 "cells": [
  {
   "cell_type": "markdown",
   "metadata": {
    "slideshow": {
     "slide_type": "slide"
    }
   },
   "source": [
    "# 4교시 : 실무에 적용하면 이렇게 좋아진다!"
   ]
  },
  {
   "cell_type": "markdown",
   "metadata": {
    "slideshow": {
     "slide_type": "slide"
    }
   },
   "source": [
    "## 4.1. 기대 효과"
   ]
  },
  {
   "cell_type": "markdown",
   "metadata": {
    "slideshow": {
     "slide_type": "subslide"
    }
   },
   "source": [
    "### Money Free\n",
    "\n",
    "* 다 공짜다.\n",
    "* 대신 댓가로 지불해야 하는 것은, 시간과 노력.\n",
    "* 남는 것은 기술."
   ]
  },
  {
   "cell_type": "markdown",
   "metadata": {
    "slideshow": {
     "slide_type": "subslide"
    }
   },
   "source": [
    "### Engineering Standard\n",
    "\n",
    "* VTK\n",
    "* STEP\n",
    "* .ipynb"
   ]
  },
  {
   "cell_type": "markdown",
   "metadata": {
    "slideshow": {
     "slide_type": "subslide"
    }
   },
   "source": [
    "### Theoretical Training\n",
    "\n",
    "* 선형시스템 해석\n",
    "* 기계요소설계\n",
    "* 유한요소해석"
   ]
  },
  {
   "cell_type": "markdown",
   "metadata": {
    "slideshow": {
     "slide_type": "subslide"
    }
   },
   "source": [
    "### Customization Free\n",
    "\n",
    "* 코드를 직접 건드릴 수 있는 자유.\n",
    "* 필요에 따라 다양한 툴들을 골라서 사용.\n",
    "* 각 소프트웨어들의 운영 환경을 선택할 수 있는 자유."
   ]
  },
  {
   "cell_type": "markdown",
   "metadata": {
    "slideshow": {
     "slide_type": "subslide"
    }
   },
   "source": [
    "### Wide Coverage\n",
    "\n",
    "* 스크립트 프로그래밍을 조금씩 익혀 나가면서 활용 범위를 넓혀갈 수 있다.\n",
    "* 회사 컴퓨터에서만 작업하라는 법은 없다."
   ]
  },
  {
   "cell_type": "markdown",
   "metadata": {
    "slideshow": {
     "slide_type": "subslide"
    }
   },
   "source": [
    "### Open Mind\n",
    "\n",
    "* 작업한 결과물을 공개하고 공유하는 습관과 문화.\n",
    "* 기술은 혼자만 가지고 있으면 가치가 없는 것.\n",
    "* '누가 도용할까봐 겁난다', '내 아이디어를 가지고 다른 사람이 돈을 버는 것은 배가 아프다' 등의 마인드는 버리자."
   ]
  },
  {
   "cell_type": "markdown",
   "metadata": {
    "slideshow": {
     "slide_type": "subslide"
    }
   },
   "source": [
    "### Leading Edge Position\n",
    "\n",
    "* 다른 설계 엔지니어들보다 우월한 신기술을 장착.\n",
    "* 최신 공학 방법론을 구사하여 더 우수한 결과를 얻어내는 것."
   ]
  },
  {
   "cell_type": "markdown",
   "metadata": {
    "slideshow": {
     "slide_type": "subslide"
    }
   },
   "source": [
    "### Innovation\n",
    "\n",
    "* 문제를 정의하고 해결하는 체계적인 과정."
   ]
  },
  {
   "cell_type": "markdown",
   "metadata": {
    "slideshow": {
     "slide_type": "subslide"
    }
   },
   "source": [
    "### Output Quality\n",
    "\n",
    "* MS 오피스는 이제 지겹다.\n",
    "* 소스코드, 문서, 프리젠테이션, 매뉴얼 작업, 웹공개를 단 한 번의 작업으로 한꺼번에 끝낸다."
   ]
  },
  {
   "cell_type": "markdown",
   "metadata": {
    "slideshow": {
     "slide_type": "subslide"
    }
   },
   "source": [
    "### Personal Career\n",
    "\n",
    "* 이력서에 '모델링을 엄청 빨리 할 수 있습니다' 말고 다른 것을 적어넣자."
   ]
  },
  {
   "cell_type": "markdown",
   "metadata": {
    "slideshow": {
     "slide_type": "subslide"
    }
   },
   "source": [
    "### Software Mind\n",
    "\n",
    "* 소프트웨어 세계의 최신 기술과 방법론, 문화를 배우자.\n",
    "* 제조업/생산 혁신을 위해서는 필수.\n",
    "* 지금은 21세기 하고도 16년이 이미 지났다."
   ]
  },
  {
   "cell_type": "markdown",
   "metadata": {
    "slideshow": {
     "slide_type": "slide"
    }
   },
   "source": [
    "## 4.2. 실무 적용 전략"
   ]
  },
  {
   "cell_type": "markdown",
   "metadata": {
    "slideshow": {
     "slide_type": "subslide"
    }
   },
   "source": [
    "### 일단 나 혼자 써 본다.\n",
    "\n",
    "* 팀을 구성해서 동료들과 함께 시작하는 것은 그 다음 단계.\n",
    "* 내가 먼저 써서 유용함을 실제 체험하고 나서 동료에게 권유할 수 있다.\n",
    "* 직접 해 보지도 않고 남한테 하라고 하는 것은 비 엔지니어적 행동."
   ]
  },
  {
   "cell_type": "markdown",
   "metadata": {
    "slideshow": {
     "slide_type": "subslide"
    }
   },
   "source": [
    "### 최신 버전은 위험하다.\n",
    "\n",
    "* 물론 모든 경우에 그렇다는 것은 아니고...\n",
    "* Ubuntu OS 같은 플랫폼은 최신 버전 말고, 바로 직전의 버전을 사용하도록 한다.\n",
    "\n",
    "   (예 : 현재 Ubuntu 16.04가 나왔지만, 우리는 14.04 버전을 사용해야 한다.  버전업은 현재로부터 1~2년 후에 시도하자.)\n",
    "  \n",
    "  \n",
    "* 이유\n",
    "  1. 버그 출현 가능성 높음\n",
    "  2. 여러 하위 툴체인 중에 아직 발맞춰 업데이트 되지 못한 것이 존재함\n",
    "  3. 문제가 생겼을 때 검색해서 도움을 받을 수 있는 레퍼런스가 충분히 쌓일 시간이 필요하다."
   ]
  },
  {
   "cell_type": "markdown",
   "metadata": {
    "slideshow": {
     "slide_type": "subslide"
    }
   },
   "source": [
    "### 탑다운 접근\n",
    "\n",
    "* 산 위에서 내려다 보자. (안목)\n",
    "* 특정 툴에 꽂혀서 그것만 하는 것은 유리하지 못하다. (상용 소프트웨어 사용하는 감각과는 전혀 달라야 함)\n",
    "* 전체 에코 시스템의 트랜드 변화와 동향을 계속 예의주시하는 것이 좋다.\n",
    "* 특정 툴을 쓰다가 다른 더 좋은 툴이 출현하면 미련없이 갈아타는 일은 비일비재하다고 봐야.\n",
    "* 작업 흐름 중에 취약한 부분을 보완할 수단을 계속 발전시켜야 함.\n",
    "* Be Technical Whore!"
   ]
  },
  {
   "cell_type": "markdown",
   "metadata": {
    "slideshow": {
     "slide_type": "subslide"
    }
   },
   "source": [
    "### 겁먹지 말자.\n",
    "\n",
    "* 아무리 전문적이고 수학이 어렵다고 해도...\n",
    "* 공학은 공학이다. 공학에 신비주의는 존재할 수 없다.\n",
    "* 하나씩 끈기있게 해결해 나가는 꾸준함이 있으면 문제될 것이 없다.\n",
    "* CFD 해석 전문가도 실무에 치이다 보면 자세한 수학 이론은 다 잊어버린 경우가 많다.  (대신 엔지니어링 센스와 원리에 대한 이해도는 크게 높아져 있을 것이다.)\n",
    "* 모든 도구는 당신을 위한 것이다."
   ]
  },
  {
   "cell_type": "markdown",
   "metadata": {
    "slideshow": {
     "slide_type": "subslide"
    }
   },
   "source": [
    "### 작은 과제부터 하나 해결해 보자.\n",
    "\n",
    "* 그럼 이제 반 이상은 해결한 것이다.\n",
    "* 감을 잘 잡으면 그 다음부터는 실타래처럼 술술 풀린다.\n",
    "* 처음부터 복합적인 고수준 문제를 해결하려고 계획하면 100% 중도 포기하게 된다."
   ]
  },
  {
   "cell_type": "markdown",
   "metadata": {
    "slideshow": {
     "slide_type": "subslide"
    }
   },
   "source": [
    "### 재미가 중요하다.\n",
    "\n",
    "* 가장 확실한 동기는 재미.\n",
    "* 당신이 엔지니어가 된 이유는 딱 하나, 재미 때문이다.\n",
    "* 흥미를 잃는 순간 할 이유가 없어진다.\n",
    "* 게임보다 이게 더 재미있다고 느낀다면 성공."
   ]
  },
  {
   "cell_type": "markdown",
   "metadata": {
    "slideshow": {
     "slide_type": "subslide"
    }
   },
   "source": [
    "### 전문성을 키울 방향을 확실히 설정하자.\n",
    "\n",
    "* 200년 전통의 기계공학을 우습게 보지 말자..  너무 방대하고 깊다.\n",
    "* 모든 분야에 다 정통한 엔지니어는 존재할 수 없다.\n",
    "* 보통 유체/구조/전자기/동역학/최적설계/제어 중에 하나를 골라서 주로 학습하자.\n",
    "* 선택한 분야 말고 다른 분야는 일단 포기한다. (나중에 흥미가 생기면 그때 가서 해도 좋음.  훨씬 수월할 것임.)\n",
    "* 일반적인 제품설계자라면 당연히 구조해석부터 먼저 해 보는게...\n",
    "* 가장 진입장벽이 높은 분야는 유체동역학.  또한 가장 몸값이 높은 듯."
   ]
  },
  {
   "cell_type": "markdown",
   "metadata": {
    "slideshow": {
     "slide_type": "subslide"
    }
   },
   "source": [
    "### 실무 문제 해결이라는 점을 잊지 말자.\n",
    "\n",
    "* 학술 연구와는 차원이 다른 이야기다.\n",
    "* 논문쓰고 과학을 발전시키고 하는 숭고한 목적이 아니다.\n",
    "* 당신의 회사가 돈을 더 잘 벌 수 있도록 문제를 해결하고, 자신의 실력을 향상시켜 뽐내는(?) 것이 목표다!\n",
    "* 때문에 가능한 단시간에 결과를 도출해내는 빠른 템포를 가지는 것이 좋겠다.\n",
    "* 주구장창 매달리고 있으면 한국에서 특히 사회생활(?)에 도움이 안된다."
   ]
  },
  {
   "cell_type": "markdown",
   "metadata": {
    "slideshow": {
     "slide_type": "subslide"
    }
   },
   "source": [
    "### 잘난 척 하는 스킬\n",
    "\n",
    "* 문제 해결후 시크한 태도를 유지한다.\n",
    "\n",
    "  별 거 아니더군.  쉽게 풀었어.  등.\n",
    "  \n",
    "  \n",
    "* 문제 해결 후, 반드시 비즈니스적인 효과를 정량적으로 보고서 결론에 넣을 것.\n",
    "\n",
    "  원가절감,공정단축,경량화,성능향상에 따른 경쟁제품 대비 마케팅 포인트 명기 등.\n",
    "  \n",
    "  \n",
    "* 기술을 오픈하고 공유한다.\n",
    "\n",
    "  회사 내에서 동료들과 공유 : 동료들이 당신을 위대하게 보도록 만들자.\n",
    "  \n",
    "  회사 외부에 퍼블릭하게 공유 : 기술 문제는 막상 회사 보안 정책에 전혀 위배되지 않는 경우가 많다.\n",
    "  \n",
    "  나중에 이직할 때 이력서에 적어넣자."
   ]
  },
  {
   "cell_type": "markdown",
   "metadata": {
    "slideshow": {
     "slide_type": "subslide"
    }
   },
   "source": [
    "### 결과의 교차검증 습관\n",
    "\n",
    "* 결과를 내고 흥분된 마음에 곧바로 오픈하는 것은 상당히 위험하다.\n",
    "* 리포트 작성 과정에서 반드시 교차검증 또는 검산하는 것이 좋다.\n",
    "* 자신의 결과를 스스로 비판적인 관점에서 공격해 보자.\n",
    "* 옆의 동료와 토론해 보자.\n",
    "* 공학문제는 돈, 사람의 목숨, 자신의 자존심이 걸린 문제이므로 중요하다."
   ]
  },
  {
   "cell_type": "markdown",
   "metadata": {
    "slideshow": {
     "slide_type": "slide"
    }
   },
   "source": [
    "## 4.3. 사례"
   ]
  },
  {
   "cell_type": "markdown",
   "metadata": {
    "slideshow": {
     "slide_type": "subslide"
    }
   },
   "source": [
    "### KISTI\n",
    "\n",
    "* KISTI 국가슈퍼컴퓨팅연구소 - 중소기업 M&S 지원사업에 공개SW 활용\n",
    "* http://www.oss.kr/index.php?mid=oss_repository10&page=6&document_srl=604927"
   ]
  },
  {
   "cell_type": "markdown",
   "metadata": {
    "slideshow": {
     "slide_type": "subslide"
    }
   },
   "source": [
    "### 부광약품\n",
    "\n",
    "* 부광약품 - 공개SW 기반 ERP 구축, 리눅스 PC 마이그레이션으로 TCO 年5억 절감\n",
    "* http://www.oss.kr/index.php?mid=oss_repository10&page=10&document_srl=535356"
   ]
  },
  {
   "cell_type": "markdown",
   "metadata": {
    "slideshow": {
     "slide_type": "subslide"
    }
   },
   "source": [
    "### 서울시\n",
    "\n",
    "* 공공정보 무료 공개\n",
    "* Github에 공공정보 목록 업로드\n",
    "* http://www.oss.kr/index.php?mid=oss_repository10&page=14&document_srl=83260\n",
    "* https://github.com/seoul-opengov/opengov\n",
    "* http://opengov.seoul.go.kr/"
   ]
  },
  {
   "cell_type": "markdown",
   "metadata": {
    "slideshow": {
     "slide_type": "subslide"
    }
   },
   "source": [
    "### 슈퍼컴퓨터\n",
    "\n",
    "* 전세계 TOP500 슈퍼컴퓨터 중 리눅스 사용 비율은 98.8% (494대)\n",
    "* 근거자료 : http://www.top500.org/statistics/details/osfam/1"
   ]
  },
  {
   "cell_type": "markdown",
   "metadata": {
    "slideshow": {
     "slide_type": "subslide"
    }
   },
   "source": [
    "### PRACE\n",
    "\n",
    "* 유럽 25개국 슈퍼컴퓨터 자원을 공동 사용하는 기관\n",
    "* 가입국 보유 슈퍼컴퓨터에 모두 Elmer, OpenFOAM 등 오픈소스 코드 설치 및 운용중\n",
    "* 오픈소스 코드의 사용 방법 교육 등 부가 서비스 진행\n",
    "* http://www.prace-ri.eu/\n",
    "* 교육 코스의 일례 : http://prace.it4i.cz/ELMER-06-2014?language=en"
   ]
  },
  {
   "cell_type": "markdown",
   "metadata": {
    "slideshow": {
     "slide_type": "subslide"
    }
   },
   "source": [
    "### OSC\n",
    "\n",
    "* 미국 Ohio Supercomputer Center\n",
    "* Elmer, OpenFOAM 등 오픈소스 코드 사용 서비스 제공\n",
    "* https://www.osc.edu/supercomputing/software/elmer"
   ]
  },
  {
   "cell_type": "markdown",
   "metadata": {
    "slideshow": {
     "slide_type": "subslide"
    }
   },
   "source": [
    "### 오픈 소스(OpenFOAM)에 기반한 공력해석 전용 프로그램(ISAAC) 개발\n",
    "\n",
    "* [논문](https://www.google.co.kr/url?sa=t&rct=j&q=&esrc=s&source=web&cd=7&cad=rja&uact=8&ved=0ahUKEwjq5oGgjZHNAhVCNqYKHbz9AyQQFghLMAY&url=http%3A%2F%2Fwww.nextfoam.co.kr%2Flib%2Fdownload.php%3Fidx%3D135011%26sid%3D010af0c3418c765cda28b5957210a819&usg=AFQjCNEAzrx2z_0rWcDq8aQgqwZ7Wg1ezQ&sig2=wCSHikiXsCVm0XQVsJswjA)"
   ]
  },
  {
   "cell_type": "markdown",
   "metadata": {
    "slideshow": {
     "slide_type": "subslide"
    }
   },
   "source": [
    "### SimScale\n",
    "\n",
    "* https://www.simscale.com/\n",
    "* OpenFOAM, SU2, Code-aster, CalculiX 적용\n",
    "* Cloud Web Service"
   ]
  },
  {
   "cell_type": "markdown",
   "metadata": {
    "slideshow": {
     "slide_type": "subslide"
    }
   },
   "source": [
    "### Audi, BMW, VolksWagen\n",
    "\n",
    "* 주력 해석 프로그램을 Ansys Fluent에서 OpenFOAM 기반으로 완전히 갈아탐.\n",
    "* 이유는 비용 때문.\n",
    "* 수천개의 CPU 코어당 부과되는 라이센스 비용이 너무 높아 비경제적.\n",
    "* Audi가 제일 먼저 시도해서 성공하자, 이후 다른 업체들도 시도하는 중."
   ]
  },
  {
   "cell_type": "markdown",
   "metadata": {},
   "source": [
    "### 개인\n",
    "\n",
    "* http://www.geocities.jp/penguinitis2002/index.html"
   ]
  }
 ],
 "metadata": {
  "_draft": {
   "nbviewer_url": "https://gist.github.com/5c80fb98de2d37d26682e3b156efa43c"
  },
  "anaconda-cloud": {},
  "celltoolbar": "Slideshow",
  "gist": {
   "data": {
    "description": "mdwiki_Education/KIRIA/0104_실무에 적용하면 이렇게 좋아진다.ipynb",
    "public": true
   },
   "id": "5c80fb98de2d37d26682e3b156efa43c"
  },
  "kernelspec": {
   "display_name": "Python [conda root]",
   "language": "python",
   "name": "conda-root-py"
  },
  "language_info": {
   "codemirror_mode": {
    "name": "ipython",
    "version": 3
   },
   "file_extension": ".py",
   "mimetype": "text/x-python",
   "name": "python",
   "nbconvert_exporter": "python",
   "pygments_lexer": "ipython3",
   "version": "3.5.2"
  },
  "nav_menu": {},
  "toc": {
   "navigate_menu": true,
   "number_sections": true,
   "sideBar": true,
   "threshold": 6,
   "toc_cell": false,
   "toc_section_display": "block",
   "toc_window_display": false
  }
 },
 "nbformat": 4,
 "nbformat_minor": 0
}
