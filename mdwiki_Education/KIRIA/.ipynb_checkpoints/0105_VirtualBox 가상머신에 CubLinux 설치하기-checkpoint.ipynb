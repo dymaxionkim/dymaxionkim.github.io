{
 "cells": [
  {
   "cell_type": "markdown",
   "metadata": {
    "slideshow": {
     "slide_type": "slide"
    }
   },
   "source": [
    "# 5교시 : 시스템 구축하기 : VirtualBox 가상머신에 CubLinux 설치하기"
   ]
  },
  {
   "cell_type": "markdown",
   "metadata": {
    "slideshow": {
     "slide_type": "slide"
    }
   },
   "source": [
    "## 5.1. Infra"
   ]
  },
  {
   "cell_type": "markdown",
   "metadata": {
    "slideshow": {
     "slide_type": "subslide"
    }
   },
   "source": [
    "### Hardware\n",
    "\n",
    "* CPU Cores :\n",
    "* RAM :\n",
    "* HDD :\n",
    "* WiFi : \n",
    "* Windows : "
   ]
  },
  {
   "cell_type": "markdown",
   "metadata": {
    "slideshow": {
     "slide_type": "slide"
    }
   },
   "source": [
    "## 5.2. Install VirtualBox\n",
    "\n",
    "![](https://www.virtualbox.org/graphics/vbox_logo2_gradient.png)"
   ]
  },
  {
   "cell_type": "markdown",
   "metadata": {
    "slideshow": {
     "slide_type": "subslide"
    }
   },
   "source": [
    "\n",
    "### 다운로드\n",
    "\n",
    "* https://www.virtualbox.org/wiki/Downloads\n",
    "* Windows Host, 64bit Version"
   ]
  },
  {
   "cell_type": "markdown",
   "metadata": {
    "slideshow": {
     "slide_type": "subslide"
    }
   },
   "source": [
    "### 설치\n",
    "\n",
    "* 다운로드 받은 설치본을 더블클릭!"
   ]
  },
  {
   "cell_type": "markdown",
   "metadata": {
    "slideshow": {
     "slide_type": "subslide"
    }
   },
   "source": [
    "### 환경설정\n",
    "\n",
    "* 메뉴 : 파일 - 환경설정\n",
    "* 기본 머신 폴더 : 원하는 경로로 수정"
   ]
  },
  {
   "cell_type": "markdown",
   "metadata": {
    "slideshow": {
     "slide_type": "slide"
    }
   },
   "source": [
    "## 5.3. Make Virtual Machine"
   ]
  },
  {
   "cell_type": "markdown",
   "metadata": {
    "slideshow": {
     "slide_type": "subslide"
    }
   },
   "source": [
    "### 가상머신 만들기\n",
    "\n",
    "* 메뉴 : 머신 - 새로만들기\n",
    "* 이름 및 운영 체제\n",
    "\n",
    "> 이름 : CUB (편의상 통일합시다.  최대한 짧게 짓는 것이 좋습니다.)\n",
    "\n",
    "> 종류 : Linux\n",
    "\n",
    "> 버전 : Ubuntu (64-bit)\n",
    "\n",
    "* 메모리 크기 : 2048MB\n",
    "* 하드 디스크 : 지금 새 가상 하드 디스크 만들기\n",
    "* 하드 디스크 파일 종류 : VDI 또는 VHD 권장\n",
    "* 물리적 하드 드라이브에 저장 : 고정 크기 권장\n",
    "* 파일 위치 및 크기 : 권장 40GB"
   ]
  },
  {
   "cell_type": "markdown",
   "metadata": {
    "slideshow": {
     "slide_type": "subslide"
    }
   },
   "source": [
    "### 가상머신 셋팅\n",
    "\n",
    "* 메뉴 : 머신 - 설정\n",
    "* 일반 - 고급\n",
    "> 클립보드 공유 : 양방향\n",
    "> 드래그 앤 드롭 : 양방향\n",
    "* 시스템 - 프로세서\n",
    "> 프로세서 개수 : 원하는대로\n",
    "> 실행 제한 : 100%\n",
    "* 디스플레이 - 화면\n",
    "> 비디오 메모리 : 128MB\n",
    "> 3차원 가속 사용하기 : 체크하지 말 것 (성능 안좋음)\n",
    "> 2차원 비디오 가속 사용하기 : 체크하지 말 것 (버그 있음)\n",
    "* 네트워크 - 어댑터1\n",
    "> 다음에 연결됨 : 브리지 어댑터\n",
    "* 공유 폴더\n",
    "> + 버튼을 눌러 공유하고자 하는 폴더를 추가\n",
    "\n"
   ]
  },
  {
   "cell_type": "markdown",
   "metadata": {
    "slideshow": {
     "slide_type": "slide"
    }
   },
   "source": [
    "## 5.4. Download CubLinux\n",
    "\n",
    "![](https://cublinux.com/wp-content/uploads/2016/01/CubLinux100.png)"
   ]
  },
  {
   "cell_type": "markdown",
   "metadata": {
    "slideshow": {
     "slide_type": "subslide"
    }
   },
   "source": [
    "### 다운로드\n",
    "\n",
    "* https://cublinux.com/\n",
    "* 64-bit 버전을 받아야 함.\n",
    "* 32-bit 버전은 유한요소해석이 불가능.\n",
    "* 해석에 필요한 핵심 포트란 라이브러리들이 64비트 버전만 제공되기 때문."
   ]
  },
  {
   "cell_type": "markdown",
   "metadata": {
    "slideshow": {
     "slide_type": "slide"
    }
   },
   "source": [
    "## 5.5. Install CubLinux"
   ]
  },
  {
   "cell_type": "markdown",
   "metadata": {
    "slideshow": {
     "slide_type": "subslide"
    }
   },
   "source": [
    "### 가상머신에 가상CD 올리기\n",
    "\n",
    "* VirtualBox 메뉴 : 머신 - 설정\n",
    "> 저장소 - 컨트롤러:IDE - 비어있음\n",
    "> 속성 - 광학 드라이브 - CD모양 아이콘 클릭 - 가상 광학 디스크 파일 선택\n"
   ]
  },
  {
   "cell_type": "markdown",
   "metadata": {
    "slideshow": {
     "slide_type": "subslide"
    }
   },
   "source": [
    "### 가상머신 시작\n",
    "\n",
    "* VirtualBox 메뉴 : 머신 - 시작"
   ]
  },
  {
   "cell_type": "markdown",
   "metadata": {
    "slideshow": {
     "slide_type": "subslide"
    }
   },
   "source": [
    "### 설치\n",
    "\n",
    "* https://cublinux.com/wiki/doku.php?id=installation\n",
    "* 가상머신 창이 생기고 부팅 시작됨\n",
    "* 설치시 한글 환경으로 놓고 바로 설치\n",
    "* 나오는 메시지에 따라 계속 설치"
   ]
  },
  {
   "cell_type": "markdown",
   "metadata": {
    "slideshow": {
     "slide_type": "subslide"
    }
   },
   "source": [
    "### 가상머신 부팅 잘 되는지 확인\n",
    "\n",
    "* 설치가 다 되면 가상머신 재부팅 후 확인"
   ]
  },
  {
   "cell_type": "markdown",
   "metadata": {
    "slideshow": {
     "slide_type": "slide"
    }
   },
   "source": [
    "\n",
    "## 5.6. 'VirtualBox 게스트 확장' 설치\n"
   ]
  },
  {
   "cell_type": "markdown",
   "metadata": {
    "slideshow": {
     "slide_type": "subslide"
    }
   },
   "source": [
    "### 'VirtualBox 게스트 확장'?\n",
    "\n",
    "* 가상머신의 기능을 보강해 주기 위해 게스트OS에 깔아주는 소프트웨어.\n",
    "  1. 자유롭게 해상도 조절 가능.\n",
    "  2. 전체화면 모드 가능.\n",
    "  3. 호스트-게스트 간에 클립보드 복사 가능.\n",
    "\n"
   ]
  },
  {
   "cell_type": "markdown",
   "metadata": {
    "slideshow": {
     "slide_type": "subslide"
    }
   },
   "source": [
    "### 우선 빌드 환경을 먼저 만들기\n",
    "\n",
    "* APT로 빌드된 것을 가져와서 설치하는 방법 : 제대로 작동하지 않음\n",
    "* 직접 가상CD에서 빌드.\n",
    "```\n",
    "sudo apt-get install build-essential linux-headers-`uname -r`\n",
    "```\n",
    "\n"
   ]
  },
  {
   "cell_type": "markdown",
   "metadata": {
    "slideshow": {
     "slide_type": "subslide"
    }
   },
   "source": [
    "### 가상CD 마운트\n",
    "\n",
    "* VirtualBox 메뉴중에서, '장치'에서 '게스트확장 CD이미지 삽입'을 선택.\n",
    "* 그리고 나서 아래의 명령.\n",
    "```\n",
    "sudo mount /dev/cdrom /mnt\n",
    "```\n",
    "\n",
    "* 그러면, VirtualBox가 제공해준 가상CD롬을 리눅스에 마운트해 줘서 읽어들이는 것이 가능한 상태가 됨.\n",
    "\n"
   ]
  },
  {
   "cell_type": "markdown",
   "metadata": {
    "slideshow": {
     "slide_type": "subslide"
    }
   },
   "source": [
    "### 빌드 및 설치\n",
    "\n",
    "* 다음 명령을 쳐서 게스트확장 소프트웨어를 설치.\n",
    "```\n",
    "sudo /mnt/VBoxLinuxAdditions.run\n",
    "```\n"
   ]
  },
  {
   "cell_type": "markdown",
   "metadata": {
    "slideshow": {
     "slide_type": "subslide"
    }
   },
   "source": [
    "### 재부팅 및 확인\n",
    "\n",
    "* 재부팅 후, 오른쪽 Ctrl+f 키를 눌러서 전체화면 모드가 잘 작동하는지 확인.\n"
   ]
  }
 ],
 "metadata": {
  "_draft": {
   "nbviewer_url": "https://gist.github.com/4592db1ac0685fe1891b2a67ad478597"
  },
  "anaconda-cloud": {},
  "celltoolbar": "Slideshow",
  "gist": {
   "data": {
    "description": "mdwiki_Education/KIRIA/0105_VirtualBox 가상머신에 CubLinux 설치하기.ipynb",
    "public": true
   },
   "id": "4592db1ac0685fe1891b2a67ad478597"
  },
  "kernelspec": {
   "display_name": "Python [conda root]",
   "language": "python",
   "name": "conda-root-py"
  },
  "language_info": {
   "codemirror_mode": {
    "name": "ipython",
    "version": 3
   },
   "file_extension": ".py",
   "mimetype": "text/x-python",
   "name": "python",
   "nbconvert_exporter": "python",
   "pygments_lexer": "ipython3",
   "version": "3.5.2"
  },
  "nav_menu": {},
  "toc": {
   "navigate_menu": true,
   "number_sections": true,
   "sideBar": true,
   "threshold": 6,
   "toc_cell": false,
   "toc_section_display": "block",
   "toc_window_display": false
  }
 },
 "nbformat": 4,
 "nbformat_minor": 0
}
