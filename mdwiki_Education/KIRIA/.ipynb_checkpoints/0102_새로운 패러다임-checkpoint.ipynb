{
 "cells": [
  {
   "cell_type": "markdown",
   "metadata": {
    "slideshow": {
     "slide_type": "slide"
    }
   },
   "source": [
    "# 2교시 : 새로운 패러다임?"
   ]
  },
  {
   "cell_type": "markdown",
   "metadata": {
    "slideshow": {
     "slide_type": "slide"
    }
   },
   "source": [
    "## 2.1. History"
   ]
  },
  {
   "cell_type": "markdown",
   "metadata": {
    "slideshow": {
     "slide_type": "subslide"
    }
   },
   "source": [
    "### 공학 패러다임의 변화\n",
    "\n",
    "# 기계공학 - 산업공학 - 컴퓨터공학\n",
    "\n",
    "* **기계공학** : 공학의 어머니.  가장 오래되었고, 체계는 완전히 성숙했다.\n",
    "* **산업공학** : 공학의 제왕학.  20세기 들어와서 등장.  세계대전 때문에 대량생산 체계를 잡기 위해 필요하게 됨.\n",
    "* **컴퓨터공학** : 공학의 프린스.  20세기 중반부터 등장.  실리콘밸리 혁신 과정과 궤를 같이 함.  개발방법론 부분에서는 산업공학으로부터 주도권을 빼앗아 버렸음."
   ]
  },
  {
   "cell_type": "markdown",
   "metadata": {
    "slideshow": {
     "slide_type": "subslide"
    }
   },
   "source": [
    "### 컴퓨터공학을 기계공학에 접목\n",
    "\n",
    "![](./Pictures/Meriwether_L_Basxter_Jr.jpg)\n",
    "\n",
    "* 박스터 박사 (Meriwether L. Baxter, Jr., 1914~1994).\n",
    "\n",
    "  기어 치형을 작도하기 위해 1950년대에 컴퓨터를 사용하여 계산한 후 수치 좌표데이타를 얻어냄.\n",
    "  \n"
   ]
  },
  {
   "cell_type": "markdown",
   "metadata": {
    "slideshow": {
     "slide_type": "subslide"
    }
   },
   "source": [
    "### 컴퓨터공학을 기계공학에 접목\n",
    "\n",
    "* 1940년대에 컴퓨터 연산에 적합한 유한요소해석 이론이 등장.\n",
    "* 1950년대부터 초음속 항공기 연구가 활발.  초음속 유체동역학 이론이 비약적으로 발전하면서 수치해석 기법도 발전.\n",
    "* 1970년대부터 컴퓨터가 쓸만하게 되면서 유한요소해석 솔루션들이 실용화 단계를 목표로 주로 학계에서 연구.\n",
    "* 1980년대부터 워크스테이션/미니컴퓨터가 쓸만하게 되면서 항공/자동차 업계에서 유한요소해석 코드를 실무에 사용하기 시작.\n",
    "* 1990년대 이후부터 PC 및 슈퍼컴퓨터가 쓸만하게 되면서 크게 발전."
   ]
  },
  {
   "cell_type": "markdown",
   "metadata": {
    "slideshow": {
     "slide_type": "subslide"
    }
   },
   "source": [
    "### Schumpeter\n",
    "\n",
    "* 슘페터의 기술혁신에 기반한 경제학 이론.\n",
    "* 슘페터 이전의 경제학은 오로지 수요-가격만 따졌다.\n",
    "* 여기에 기술이 매우 중요하다는 점을 경제학 핵심 이론으로 만든 것.\n",
    "* 슘페터 경제학을 지지하는 증거는 GE의 R&D조직, 맨해튼 프로젝트, 아폴로 프로젝트 등이 있다.\n",
    "* 실리콘밸리 혁신 이후, 슘페터 경제학은 수정되었다.\n",
    "* 즉 소규모 연구개발 조직으로도 기술혁신이 가능하다는 점이 현실에서 입증된 것.  이 현상을 설명하기 위해 수정되게 됨.\n",
    "* '기업가 정신(Entrepreneurship)', '혁신(Innocation)' 같은 용어는 모두 슘페터가 최초로 제시한 개념이다."
   ]
  },
  {
   "cell_type": "markdown",
   "metadata": {
    "slideshow": {
     "slide_type": "subslide"
    }
   },
   "source": [
    "### 학제, 통섭, 융복합, 시너지...\n",
    "\n",
    "* 말만 다르지 다 같은 의미인 것 같다.\n",
    "* Synergy는 버크민스터 풀러가 만든 단어.  도시공학적 측면에서 사용함.\n",
    "* Synergy의 의미는 이후 확장되어, 학제적 융합에도 사용하는 단어가 됨."
   ]
  },
  {
   "cell_type": "markdown",
   "metadata": {
    "slideshow": {
     "slide_type": "slide"
    }
   },
   "source": [
    "## 2.2. New paradigm"
   ]
  },
  {
   "cell_type": "markdown",
   "metadata": {
    "slideshow": {
     "slide_type": "subslide"
    }
   },
   "source": [
    "### 최근의 새로운 패러다임은 소프트웨어 공학 쪽에서 다 나온다.\n",
    "\n",
    "* 애자일 같은 새로운 개발 방법론들.\n",
    "* 클라우드, 컨테이너 같은 새로운 플랫폼들.\n",
    "* 발전된 사용자 인터페이스와 웹기술\n",
    "* 오픈소스 생태계와 개발자 문화\n",
    "* 기업가 정신의 원천"
   ]
  },
  {
   "cell_type": "markdown",
   "metadata": {
    "slideshow": {
     "slide_type": "subslide"
    }
   },
   "source": [
    "### 애자일\n",
    "\n",
    "* 간단히 말해 최소한의 기본적인 기능을 갖춘 첫번째 버전을 최단시간내에 구현해서 시장에 내놓는 것.\n",
    "* 이후 사용자 피드백을 받아가면서 계속 업데이트를 실시간으로 해 나간다.\n",
    "* 개발자-고객간에 거의 직접적인 커뮤니케이션이 이루어진다.\n",
    "* 사실 따지고 보면 원래 한국 기업들이 해오던 방식과 별 차이 없다. (닥치고 일단 구현하기?)"
   ]
  },
  {
   "cell_type": "markdown",
   "metadata": {
    "slideshow": {
     "slide_type": "subslide"
    }
   },
   "source": [
    "### 클라우드 서비스\n",
    "\n",
    "* SAAS, PAAS, ...\n",
    "* 서버 자원은 여러 군데에 알아서 분산된다.\n",
    "* 예전의 메인프레임-터미널 모델에서 더 진보된 것이다.\n",
    "* 클라우드 스택, 컨테이터 같은 기술들을 사용한다."
   ]
  },
  {
   "cell_type": "markdown",
   "metadata": {
    "slideshow": {
     "slide_type": "subslide"
    }
   },
   "source": [
    "### 웹기술\n",
    "\n",
    "* 어플리케이션을 굳이 PC용으로 개발하지 않고,웹서비스로 만드는 방식\n",
    "* 플랫폼 호환성에 구애받지 않고 한 번 개발해서 그대로 모든 플랫폼에 대응 가능\n",
    "* 퍼포먼스 문제가 있으나, 이를 회피하거나 극복하는 기법들이 다양하게 개발"
   ]
  },
  {
   "cell_type": "markdown",
   "metadata": {
    "slideshow": {
     "slide_type": "subslide"
    }
   },
   "source": [
    "### 오픈소스 생태계\n",
    "\n",
    "* 소스코드는 일단 오픈한다. (과학 학술계 방식과 같음)\n",
    "* 소스의 저작권은 존중한다. (논문과 비슷)\n",
    "* 모든 것을 내가 개발하지 않고, 남이 개발한 것을 가져다 조합해서 쓴다. (집단지성)\n",
    "* 개발자 커뮤니티 형성에 실패하면 자연히 도태된다. (시장원리)\n",
    "* 소프트웨어 판매가 아니라, 소프트웨어로 서비스 사용료를 받는 방식이 일반적이다. (제품 판매가 아닌 서비스 비즈니스 개념)"
   ]
  },
  {
   "cell_type": "markdown",
   "metadata": {
    "slideshow": {
     "slide_type": "subslide"
    }
   },
   "source": [
    "### 기업가 정신\n",
    "\n",
    "* 최근의 벤쳐 창업 아이템은 대부분 IT 분야에 집중\n",
    "* 일반사용자 대상의 서비스제공 모델이 대부분\n",
    "* 엔지니어링 서비스 사업 모델이 한국에서는 잘 안보임"
   ]
  },
  {
   "cell_type": "markdown",
   "metadata": {
    "slideshow": {
     "slide_type": "slide"
    }
   },
   "source": [
    "## 2.3. FOSS"
   ]
  },
  {
   "cell_type": "markdown",
   "metadata": {
    "slideshow": {
     "slide_type": "subslide"
    }
   },
   "source": [
    "### Free Software Movement\n",
    "\n",
    "* 1980년대 초중반부터 형성되기 시작\n",
    "* FSF, MIT, Berkeley가 3대 축을 형성\n",
    "* FSF GNU가 가장 급진적이면서 가장 영향력이 큼\n",
    "* 그러나 지속가능성을 위해 안정적인 비즈니스 모델을 만들어야 하는 문제에 직면\n",
    "* 초기에는 소수의 Guru에 의해 독선적으로 개발 생태계가 이루어지는 경우가 많음 (성당 모델)\n",
    "* 대중적으로 영향력이 큰 중요 소프트웨어는 많은 수의 개발자가 참여하는 커뮤니티로 발전 (시장 모델)\n",
    "* 많은 개발자가 협업하기 쉽도록 지원해 주는 Git의 등장 (시장 모델 성공의 원동력)"
   ]
  },
  {
   "cell_type": "markdown",
   "metadata": {
    "slideshow": {
     "slide_type": "subslide"
    }
   },
   "source": [
    "### Open Source EcoSystem\n",
    "\n",
    "* 2000년대 들어서 GNU보다 좀 더 돈벌이하기 좋은 타협안이 힘을 얻기 시작\n",
    "* GNU는 너무 급진적이라는 의견이 등장\n",
    "* MS 독주 체제에 힘들어하는 기업들이 비즈니스 모델을 바꾸는 시도를 하면서 대거 지원 시작\n",
    "* 대표적으로 IBM Apache\n",
    "* Apple은 GNU 코드를 일부 도용하다 마음에 걸려서(?) 결국 Berkeley 라이센스로 완전히 갈아탐."
   ]
  },
  {
   "cell_type": "markdown",
   "metadata": {
    "slideshow": {
     "slide_type": "subslide"
    }
   },
   "source": [
    "### 요즘의 분위기\n",
    "\n",
    "* GNU의 영향력이 아직도 큼.  원체 기반 기술들이 많아서 그러함.\n",
    "* 기업들은 Berkeley,MIT,Apache 라이센스를 선호하는 경향\n",
    "* 한국은 아직 GNU 도용 사례가 매우 많음 (경영진의 개념 부족)\n",
    "* GNU GPL 라이센스 위반한 경우, 소송에서 손해배상되는 판례가 거의 없음 (한국은 미국이 아니라는...)\n",
    "* 신세대 개발자들은 FOSS 라이센스 계약 개념을 이해하는 경우가 늘어나고 있음 (긍정적 현상)"
   ]
  },
  {
   "cell_type": "markdown",
   "metadata": {
    "slideshow": {
     "slide_type": "subslide"
    }
   },
   "source": [
    "### 기계공학 관련 FOSS\n",
    "\n",
    "* 개인이 취미로 개발하는 경우 : 간단한 툴 작은 플러그인 종류들 위주\n",
    "* 자생적인 비영리 재단이 형성되는 경우로 발전하는 경우 : 거의 없음\n",
    "* 정부 출연 연구소에서 내놓는 경우 : 유럽 쪽이 많음\n",
    "* 기업에서 내놓는 경우 : 유럽 쪽이 많음\n",
    "* 대학에서 내놓는 경우 : 미국 쪽이 많음"
   ]
  },
  {
   "cell_type": "markdown",
   "metadata": {
    "slideshow": {
     "slide_type": "subslide"
    }
   },
   "source": [
    "### 기계공학 관련 FOSS\n",
    "\n",
    "* 일반적인 범용 FOSS와는 조금 양상이 다름\n",
    "* 고도의 기술이 필요한 소프트웨어는 시장 모델 모다는 성당 모델이 많은 편\n",
    "* 일반적인 소프트웨어 공학이 필요한 경우는 시장모델 형성에 성공하는 경우가 간혹 있음\n"
   ]
  },
  {
   "cell_type": "markdown",
   "metadata": {
    "slideshow": {
     "slide_type": "subslide"
    }
   },
   "source": [
    "### Business Model\n",
    "\n",
    "* 소스는 오픈하고, 그걸 스스로 사용하기 어려운 고객을 위해 엔지니어링 서비스를 제공하는 사업 모델\n",
    "* 소스는 오픈하고, 그걸 사용하는 방법을 교육시켜주는 사업 모델\n",
    "* 소스는 오픈하되, 고객 요구에 맞춰 커스터마이징 해주는 사업 모델\n",
    "* 소스는 남의 것을 쓰되, 고객 요구에 맞춰 조합/커스터마이징 해 주는 사업 모델\n",
    "* 소스는 남의 것을 쓰되, 그걸 클라우드 서비스로 개발해서 제공하는 사업 모델"
   ]
  },
  {
   "cell_type": "markdown",
   "metadata": {
    "slideshow": {
     "slide_type": "slide"
    }
   },
   "source": [
    "## 2.3. Mechanism"
   ]
  },
  {
   "cell_type": "markdown",
   "metadata": {
    "slideshow": {
     "slide_type": "subslide"
    }
   },
   "source": [
    "### 소프트웨어 소스코드의 형상관리 수단\n",
    "\n",
    "* 그냥 폴더에 관리하고 압축해서 올리고... : 원시적인 방법\n",
    "* CVS : 서버를 만들고 중앙집중식으로 관리.  소스코드가 여러 버전으로 분기되는 상황에서는 맥을 못춘다.\n",
    "* SVN : CVS의 단점을 극복하고자 나온 것.  현업에서 많이 사용한다.\n",
    "* Mercurial : SVN 대신 이것을 사용하는 경우도 많다.\n",
    "* Git : 제대로 나온 최초의 분산형 형상관리 도구.  철저하게 분산형이므로, 시장 모델의 대규모 개발에 가장 적합하다.\n"
   ]
  },
  {
   "cell_type": "markdown",
   "metadata": {
    "slideshow": {
     "slide_type": "subslide"
    }
   },
   "source": [
    "### 구조설계 데이타의 형상관리 수단\n",
    "\n",
    "* 그냥 폴더에 설계데이타를 묶어서 보관 : 아직까지도 대부분의 중소기업들이 이렇게 하고 있다.  형상관리는 현실적으로 불가능하다.  담당 엔지니어 교체시 인수인계가 대단히 어렵다.\n",
    "* 도면관리 프로그램 : PC용 어플리케이션 형태.  2D 도면 관리 용도로 사용 가능.  대부분 유료 소프트웨어이다.  단점은 확장/발전성이 없다는 것.\n",
    "* 더존ERP 활용 : 더존ERP를 회사의 백본 시스템으로 사용하는 경우, 자체적인 BOM 데이타베이스를 운용할 수 있기 때문에, 여기에 공간을 마련하여 도면을 첨부하여 업로드하는 것이 가능하다.  그러나 ERP이기 때문에 한계가 있다.  재무회계 담당자를 위한 툴이기 때문에, 설계자 입장에서는 사용법이 굉장히 불편하다.  업무량 감소 효과는 전무하다.\n",
    "* CAD 툴과 연계되는 PDM : 원시 설계데이타를 직접 형상관리 가능하다.  하지만 품질경영시스템과 연계시키는 기능이 빠져있다.  유료 소프트웨어이기 때문에 도입 비용이 상당히 높다.\n",
    "* 독립 PLM : 많은 기능이 부여된 복잡한 솔루션.  요즘은 웹서비스 형태로 나오는 것들도 있다.  꼭 필요한 플러그인들을 추가로 도입하고 회사 실정에 맞도록 커스터마이징을 하게 되면 대단히 높은 비용이 요구된다.  데이타 입력 업무가 가중되기 때문에 보통 실무자들이 기피하는 경향이 많다.  그래서 도입 실패율이 높은 편이다.\n"
   ]
  },
  {
   "cell_type": "markdown",
   "metadata": {
    "slideshow": {
     "slide_type": "subslide"
    }
   },
   "source": [
    "### PDM,PLM\n",
    "\n",
    "* 오픈소스 솔루션도 존재한다.  OpenPLM, DocDoku, Aras Innovator, ...\n",
    "* 어느 경우든 간에 회사 실정에 맞도록 커스터마이징(추가 개발 과정)을 피하기는 힘들다.\n",
    "* Aras Innovator의 경우, 소스코드는 오픈하되 아마존 클라우드를 이용하여 커스터마이징 및 원격 서버 관리 서비스까지 제공하는 사업모델을 가지고 있다."
   ]
  },
  {
   "cell_type": "markdown",
   "metadata": {
    "slideshow": {
     "slide_type": "subslide"
    }
   },
   "source": [
    "### Git for Mechanical Design Data\n",
    "\n",
    "* 소프트웨어 소스코드 형상관리 도구는 기본적으로 텍스트 파일을 다루는 기능에 기반한다. (Diff 등)\n",
    "* 따라서 바이너리 파일이 대부분인 설계데이타 형상관리용으로 사용할 경우에는 안맞을 수도 있다. (시간이 지날수록 저장 용량이 아주 많이 필요하게 됨)\n",
    "* 그럼에도 불구하고, Git과 같은 분산형 형상관리 개념을 설계데이타 관리용으로 개발하려는 논의와 노력은 종종 이루어지고 있다.  실제 완성된 솔루션이 나오려면 아직 시간이 많이 필요하다."
   ]
  },
  {
   "cell_type": "markdown",
   "metadata": {
    "slideshow": {
     "slide_type": "subslide"
    }
   },
   "source": [
    "### Github.com\n",
    "\n",
    "* 아이디어 : Git을 퍼블릭 서비스로 만들자.\n",
    "* 2008년 창업 (자본금 1천달러)\n",
    "* 벤쳐캐피탈 투자 유치 성공\n",
    "* 현재 사용자 2천5백만명 이상\n",
    "* 많은 오픈소스 코드를 급속도로 흡수, 최대 규모\n",
    "* 소스코드 비공개로 할 때만 유료"
   ]
  },
  {
   "cell_type": "markdown",
   "metadata": {
    "slideshow": {
     "slide_type": "subslide"
    }
   },
   "source": [
    "### 최근의 전형적인 오픈소스 개발 방법\n",
    "\n",
    "* Github에서 다른 사람의 코드를 클론(Clone)해서 가져온다.\n",
    "* 가져온 코드의 브랜치(Branch)를 내어서 개작한다.\n",
    "* 자신의 프로젝트에 그 코드를 집어넣는다.\n",
    "* Github에 올린다(Push).\n",
    "* 다른 사용자들이 보고 필요하면 가져가서 살펴보고, 피드백을 해 준다.\n",
    "* 피드백 받은 코드가 좋다면 병합(Merge)해서 업데이트한다.\n",
    "* 계속 이렇게 업데이트해 나간다.  프로젝트 종료 개념은 없다.\n",
    "* 내가 계속 코드를 관리하기가 힘들다면, 다른 사람에게 이관하거나 또는 그대로 멈춘다."
   ]
  },
  {
   "cell_type": "markdown",
   "metadata": {
    "slideshow": {
     "slide_type": "subslide"
    }
   },
   "source": [
    "### Github의 주요 부가 서비스\n",
    "\n",
    "* 코드를 얼려서 온라인 주소를 부여하는 기능 (Gist)\n",
    "* .ipynb 파일을 자동으로 랜더링해서 보여주는 기능\n",
    "* 간이 웹호스팅 기능\n",
    "* 간이 위키 제공"
   ]
  },
  {
   "cell_type": "markdown",
   "metadata": {
    "slideshow": {
     "slide_type": "slide"
    }
   },
   "source": [
    "## 2.5. Strategy\n",
    "\n",
    "\n",
    "\n",
    "\n",
    "\n",
    "\n",
    "\n",
    "\n",
    "\n",
    "\n",
    "\n",
    "\n",
    "\n"
   ]
  },
  {
   "cell_type": "markdown",
   "metadata": {
    "slideshow": {
     "slide_type": "subslide"
    }
   },
   "source": [
    "### 그럼 우리도 Github를 써 보자.\n",
    "\n",
    "* 전문 프로그래머가 아니라도 충분히 잘 쓸 수 있음.\n",
    "* 복잡한 기능은 쓰지 말고 기본적인 기능만 쓰면 됨.\n",
    "* 오픈소스로 공개하면 용량이 무제한.\n",
    "* 정보의 가치와 품질이 향상됨.\n",
    "* 가장 쉽게, Jupyter와 연계해서 사용해 보자."
   ]
  },
  {
   "cell_type": "markdown",
   "metadata": {
    "slideshow": {
     "slide_type": "subslide"
    }
   },
   "source": [
    "### 크게 2가지 도구 패밀리를 사용.\n",
    "\n",
    "* 스크립트 프로그래밍.\n",
    "* 유한요소해석."
   ]
  },
  {
   "cell_type": "markdown",
   "metadata": {
    "slideshow": {
     "slide_type": "subslide"
    }
   },
   "source": [
    "### 너무 깊이 들어가지 말자.\n",
    "\n",
    "* 일단 전체적인 그림을 보자.\n",
    "* 특정 툴, 이론에 천착하지 말고 기본적인 감각을 익히자.\n",
    "* 간단한 문제부터 시작.\n",
    "* 결과를 빠르게 얻을 수 있도록 하자.\n",
    "* 그날의 문제는 그날 중에 해결하는 식으로."
   ]
  }
 ],
 "metadata": {
  "_draft": {
   "nbviewer_url": "https://gist.github.com/1e4c3fb36bcc8bcd7d7b102400b66696"
  },
  "celltoolbar": "Slideshow",
  "gist": {
   "data": {
    "description": "mdwiki_Education/KIRIA/0102_새로운 패러다임.ipynb",
    "public": true
   },
   "id": "1e4c3fb36bcc8bcd7d7b102400b66696"
  },
  "kernelspec": {
   "display_name": "Python [conda root]",
   "language": "python",
   "name": "conda-root-py"
  },
  "language_info": {
   "codemirror_mode": {
    "name": "ipython",
    "version": 3
   },
   "file_extension": ".py",
   "mimetype": "text/x-python",
   "name": "python",
   "nbconvert_exporter": "python",
   "pygments_lexer": "ipython3",
   "version": "3.5.2"
  },
  "nav_menu": {},
  "toc": {
   "navigate_menu": true,
   "number_sections": true,
   "sideBar": true,
   "threshold": 6,
   "toc_cell": false,
   "toc_section_display": "block",
   "toc_window_display": false
  }
 },
 "nbformat": 4,
 "nbformat_minor": 0
}
