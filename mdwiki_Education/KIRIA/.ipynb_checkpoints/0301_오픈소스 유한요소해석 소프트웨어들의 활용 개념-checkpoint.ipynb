{
 "cells": [
  {
   "cell_type": "markdown",
   "metadata": {
    "slideshow": {
     "slide_type": "slide"
    }
   },
   "source": [
    "## 3일차\n",
    "### 수업내용 : 유한요소해석을 수행해 보자!\n",
    "\n",
    "* 1교시 : 오픈소스 유한요소해석 소프트웨어들의 활용 개념\n",
    "* 2교시 : FreeCAD with Calculix, ElmerFEM, Z88 Aurora, Salome Meca with Code Aster, OpenFOAM, GMSH, Paraview, DraftSight 소개 및 설치하기\n",
    "* 3교시 : FreeCAD with Calculix, ElmerFEM, Z88 Aurora, Salome Meca with Code Aster, OpenFOAM, GMSH, Paraview, DraftSight 소개 및 설치하기\n",
    "* 4교시 : FreeCAD with Calculix, ElmerFEM, Z88 Aurora, Salome Meca with Code Aster, OpenFOAM, GMSH, Paraview, DraftSight 소개 및 설치하기\n",
    "* 점심시간\n",
    "* 5교시 : FreeCAD로 부품 모델링하고 간단하게 구조해석 해 보기\n",
    "* 6교시 : Z88 Aurora, ElmerFEM으로 구조해석 하고 Paraview로 결과 만들어 보기\n",
    "* 7교시 : GMSH, Salome 사용해 보기\n",
    "* 8교시 : GMSH, ElmerFEM으로 유체동역학 및 멀티피직스 해석해 보기"
   ]
  },
  {
   "cell_type": "markdown",
   "metadata": {
    "slideshow": {
     "slide_type": "slide"
    }
   },
   "source": [
    "## 3일차\n",
    "\n",
    "# 수업내용 : 유한요소해석을 수행해 보자!"
   ]
  },
  {
   "cell_type": "markdown",
   "metadata": {
    "slideshow": {
     "slide_type": "slide"
    }
   },
   "source": [
    "# 1교시 : 오픈소스 유한요소해석 소프트웨어들의 활용 개념"
   ]
  },
  {
   "cell_type": "markdown",
   "metadata": {
    "slideshow": {
     "slide_type": "slide"
    }
   },
   "source": [
    "## 1.1. 특수성\n"
   ]
  },
  {
   "cell_type": "markdown",
   "metadata": {
    "slideshow": {
     "slide_type": "subslide"
    }
   },
   "source": [
    "### 분야적 특수성\n",
    "\n",
    "* 범용 오픈소스 소프트웨어와는 조금 양상이 다르다.\n",
    "* 개발 참여자가 소수.\n",
    "* 넓은 생태계 형성이 어렵다.\n",
    "* 상용 소프트웨어가 고도로 발전해 있어 아직 충분히 따라잡지 못함.\n",
    "* 업계 보다는 학계에서 활발한 편."
   ]
  },
  {
   "cell_type": "markdown",
   "metadata": {
    "slideshow": {
     "slide_type": "subslide"
    }
   },
   "source": [
    "### 지역적 특징\n",
    "\n",
    "* 유럽이 가장 강함\n",
    "* 미국도 강함\n",
    "* 일본, 중국은 적극 사용하려는 분위기\n",
    "* 한국은 무관심"
   ]
  },
  {
   "cell_type": "markdown",
   "metadata": {
    "slideshow": {
     "slide_type": "subslide"
    }
   },
   "source": [
    "### 개발자들의 특성\n",
    "\n",
    "* 프로젝트 하나로 평생 개발하는 사람이 많음.\n",
    "* 20년 이상되는 프로젝트가 많음.\n",
    "* 안정적인 직장에서 프로젝트 개발을 지원. (주로 국책연구소,대기업 소속)\n",
    "* 리딩엣지 IT 업계 보다는 한발짝 늦은 보수성."
   ]
  },
  {
   "cell_type": "markdown",
   "metadata": {
    "slideshow": {
     "slide_type": "subslide"
    }
   },
   "source": [
    "### 사업 모델 (지속성)\n",
    "\n",
    "* 자기네가 사용하려고 개발했는데, 아까우니깐 그냥 오픈해서 쓰고싶은 사람은 마음대로 쓰라고 하는 경우. (수익 창출 계획이 아예 없음)\n",
    "* 개발후 반응이 좋으니깐 별도 재단으로 독립시켜서 기부금으로 프로젝트를 유지하는 경우.\n",
    "* 소스코드는 오픈하되, 실제로 사용하려면 어려우니깐 교육 및 기술지원은 돈을 받고 해 주는 경우.\n",
    "* 다른 곳에서 개발한 핵심 코드를 가져다가 사용하기 좋도록 만들어서 서비스하는 경우.\n",
    "* 대용량 컴퓨터 자원을 구비해 놓고, 계산용 리소스만 제공해 주는 경우."
   ]
  },
  {
   "cell_type": "markdown",
   "metadata": {
    "slideshow": {
     "slide_type": "slide"
    }
   },
   "source": [
    "## 1.2. 상용 코드와의 비교"
   ]
  },
  {
   "cell_type": "markdown",
   "metadata": {
    "slideshow": {
     "slide_type": "subslide"
    }
   },
   "source": [
    "### 국산품\n",
    "\n",
    "* Recurdyn\n",
    "* DAFUL\n",
    "* MidasNFX"
   ]
  },
  {
   "cell_type": "markdown",
   "metadata": {
    "slideshow": {
     "slide_type": "subslide"
    }
   },
   "source": [
    "### 상용 코드보다 안 좋은 점\n",
    "\n",
    "* 설치 방법이 좀 까다롭다.\n",
    "* 사용하기가 상당히 불편하다.\n",
    "* 계산 속도는 경우에 따라 다르나, 대체로 상대적으로 약간 더 느린 편이다.\n",
    "* 기능이 대체로 부족하다."
   ]
  },
  {
   "cell_type": "markdown",
   "metadata": {
    "slideshow": {
     "slide_type": "subslide"
    }
   },
   "source": [
    "### 상용 코드보다 안좋은데 왜 쓰나?\n",
    "\n",
    "* 상용 코드는 너무 비싸다.  그냥 비싼게 아니고 무지막지하게 비싸다.\n",
    "* 상용 코드는 소스코드를 건드릴 수 없다.  연구를 하려면 물리법칙을 기술한 코드를 직접 건드려야 되는데 안되니...\n",
    "* 상용 코드는 모든 경우를 상정한 범용 솔루션이라, 특수한 문제에 대한 해법을 다루거나 계산속도를 극적으로 빨리 최적화해야 할 때는 코드를 건드려야 한다.\n",
    "* 처음에는 어렵지만, 개념만 잘 잡고 셋업만 잘 해 놓으면 꽤 쓸만하다.\n",
    "* 해석 레시피를 정립해 놓고 반복적으로 사용하면 생산성 향상이 가능하다.\n",
    "* 저성능~고성능 컴퓨터를 가리지 않아 형편에 맞추기 좋다."
   ]
  },
  {
   "cell_type": "markdown",
   "metadata": {
    "slideshow": {
     "slide_type": "slide"
    }
   },
   "source": [
    "## 1.3. FEA 기초"
   ]
  },
  {
   "cell_type": "markdown",
   "metadata": {
    "slideshow": {
     "slide_type": "subslide"
    }
   },
   "source": [
    "### 용어 정리\n",
    "\n",
    "* Analysis (해석) : 문제를 푸는 것.  반대말은 합성(Synthetis).\n",
    "* FEM (유한요소법) : 형상을 쪼개서 나온 연립미분방정식의 해답을 구하는 수학적 방법.\n",
    "* FEA : FEM을 이용해서 문제를 푸는 것.\n",
    "* CAE : 컴퓨터로 계산시켜서 문제를 풀어서 기술적으로 응용하는 것.\n"
   ]
  },
  {
   "cell_type": "markdown",
   "metadata": {
    "slideshow": {
     "slide_type": "subslide"
    }
   },
   "source": [
    "### FEM 간단한 발달 과정\n",
    "\n",
    "* 1940년대에 이론 정립 (선형시스템 및 변분법, Hrennikoff & Courant)\n",
    "* FEM, FDM, Panel Method 등 몇가지 방법이 분화되어 발전\n",
    "* 1950년대에 항공기술이 미친듯이 발전하는데 일조함\n",
    "* 1960년대부터 건축 쪽에서 활용 모색 시작\n",
    "* 1970년대부터 하나의 독립된 연구분야로 자리매김, 해석 소프트웨어 등장 시작\n",
    "* 2000년대 들어와서 PC용 소프트웨어 일반화 시작, 저가형 제품 등장 시작\n",
    "* 2010년대부터 오픈소스가 상용제품과 경쟁 본격화\n"
   ]
  },
  {
   "cell_type": "markdown",
   "metadata": {
    "slideshow": {
     "slide_type": "subslide"
    }
   },
   "source": [
    "### FEM의 아이디어\n",
    "\n",
    "* 복잡한 형상을 단순한 모양으로 잘게 쪼갠다. (Mesh)\n",
    "* 각 요소들에 하나하나 지배방정식을 적용한다. (PDE, 편미분방정식)\n",
    "* 각 지배방정식들 간의 관계를 연성시킨다. (Connected Boundary Condition)\n",
    "* 그럼 연립 미분방정식이 된다.\n",
    "* 그걸 푼다. (Solve)\n",
    "* 단순 반복 계산이므로, 컴퓨터한테 시키자.\n",
    "* 계산이 끝나면, 결과 데이타를 이용해서 예쁘게 색칠하자. (Visualization)"
   ]
  },
  {
   "cell_type": "markdown",
   "metadata": {
    "slideshow": {
     "slide_type": "subslide"
    }
   },
   "source": [
    "### Mesh\n",
    "\n",
    "* STEP과 같은 형태로 구현된 Solid 모델을 Mesh로 쪼개야 한다.\n",
    "\n",
    "1. 외관을 이루는 와이어프레임을 추출한다.\n",
    "2. 각 변을 적당히 쪼개서 분절시킨다. (1D)\n",
    "3. 외관을 이루는 각 면을, 그것을 둘러싼 선분을 기준으로 분절된 만큼 쪼갠다. (2D Teselation)  쪼개는데는 여러가지 알고리즘이 있지만, 대표적으로 Delaunay 알고리즘 같은 것이 있다.  상용 제품은 이런 기본 알고리즘을 나름대로 변형시킨 것들이다.\n",
    "4. 이제 내부 용적에 해당하는 공간을, 그것을 둘러싼 면을 기준으로 분절된 만큼 쪼갠다. (3D)\n",
    "5. 쪼개는 개수나 밀도, 형태 등은 사용자가 파라미터를 줘서 조절한다.\n",
    "6. 해석 계산시 결과물의 정확도를 높이기 위해, 선분을 추가적으로 더 쪼개주기도 한다. (1,2,3rd Order)  이렇게 하면 해답을 못 찾는 경우(Singularity) 또는 오차값이 크게 나타나는 경우(Stuck)를 미리 예방할 수 있다.  대신 계산해야 되는 방정식 개수는 더 늘어나므로, 계산량은 배수로 증가한다.\n"
   ]
  },
  {
   "cell_type": "markdown",
   "metadata": {
    "slideshow": {
     "slide_type": "subslide"
    }
   },
   "source": [
    "### Mesh의 구조\n",
    "\n",
    "* 요소망(Mesh) [ 요소(element) [ 절점(node) ]  ]\n",
    "* 사면체(Tetrahedron) 요소 : 3차원 기본형.  매쉬 생성 실패확률이 매우 낮으므로 안정적임.  대신 계산시 정확도가 낮음.\n",
    "* 육면체(Hexahedron) 요소 : 좀 더 정돈된 형태 구성 가능.  다만 형상에 따라 매쉬 생성 실패 확률 높아짐.\n",
    "* 다면체(Polyhedron) 요소 : 가장 매쉬 생성이 어려움.  상용 유체해석 소프트웨어에 적용된 사례가 나타남."
   ]
  },
  {
   "cell_type": "markdown",
   "metadata": {
    "slideshow": {
     "slide_type": "subslide"
    }
   },
   "source": [
    "### 지배방정식\n",
    "\n",
    "* Newton\n",
    "* Lagrange\n",
    "* Navier-Stokes\n",
    "* Maxwell\n",
    "* Heat\n",
    "* Helmholtz\n",
    "* Quantum Physics"
   ]
  },
  {
   "cell_type": "markdown",
   "metadata": {
    "slideshow": {
     "slide_type": "subslide"
    }
   },
   "source": [
    "#### Newton\n",
    "\n",
    "$$F=ma$$\n",
    "\n",
    "$$F = m \\ddot{x} + c \\dot{x} + kx$$"
   ]
  },
  {
   "cell_type": "markdown",
   "metadata": {
    "slideshow": {
     "slide_type": "subslide"
    }
   },
   "source": [
    "#### Lagrange\n",
    "\n",
    "$$L=T-V$$\n",
    "\n",
    "$$T = \\frac{1}{2} mv^2$$\n",
    "$$V = -mgx$$\n"
   ]
  },
  {
   "cell_type": "markdown",
   "metadata": {
    "slideshow": {
     "slide_type": "subslide"
    }
   },
   "source": [
    "#### Navier-Stokes\n",
    "\n",
    "$$\n",
    "\\frac{\\partial \\mathbf{u}}{\\partial t} + ( \\mathbf{u} \\cdot \\triangledown ) \\mathbf{u}\n",
    "=\n",
    "- \\frac{1}{\\rho} \\triangledown p + F + \\frac{\\mu}{\\rho} \\triangledown ^2 \\mathbf{u}\n",
    "$$\n",
    "\n"
   ]
  },
  {
   "cell_type": "markdown",
   "metadata": {
    "slideshow": {
     "slide_type": "subslide"
    }
   },
   "source": [
    "#### Heat (Fourier's Heat Conduct)\n",
    "\n",
    "$$ Q = kA \\frac{dT}{dx} $$\n",
    "\n"
   ]
  },
  {
   "cell_type": "markdown",
   "metadata": {
    "slideshow": {
     "slide_type": "subslide"
    }
   },
   "source": [
    "### Solver Calculation Method\n",
    "\n",
    "* Cholesky, SICCG, SORCG, PARDISO\n",
    "* Banded, UmfPACK, MUMPS\n",
    "* BiCGStab, TFQMR, GCR, CGS, GMRES, Jacobi\n",
    "* ...\n",
    "\n",
    "\n"
   ]
  },
  {
   "cell_type": "markdown",
   "metadata": {
    "slideshow": {
     "slide_type": "subslide"
    }
   },
   "source": [
    "### Solver Method의 선택\n",
    "\n",
    "* 경험적인 요인이 많음\n",
    "* 전체자유도, 메모리, 속도, 멀티코어 지원여부, 안정성 등을 고려하여 선택\n",
    "* 민감한 경우가 아닐 경우, Default로 놓고 사용해도 큰 문제는 없음"
   ]
  },
  {
   "cell_type": "markdown",
   "metadata": {
    "slideshow": {
     "slide_type": "subslide"
    }
   },
   "source": [
    "### VTK\n",
    "\n",
    "* http://www.vtk.org/\n",
    "* 과학기술용 데이타 가시화 툴킷.\n",
    "* 대부분의 오픈소스 소프트웨어에 적용되어 있음.\n",
    "* 이걸로 포멧이 거의 통일되어 있으므로 데이타 호환성 문제 해결"
   ]
  },
  {
   "cell_type": "markdown",
   "metadata": {
    "slideshow": {
     "slide_type": "subslide"
    }
   },
   "source": [
    "### STEP\n",
    "\n",
    "* Express Schema\n",
    "* AP203\n",
    "* AP214\n",
    "* AP242\n",
    "* Open Cascade"
   ]
  },
  {
   "cell_type": "markdown",
   "metadata": {
    "slideshow": {
     "slide_type": "slide"
    }
   },
   "source": [
    "## 1.4. FEA 워크플로우"
   ]
  },
  {
   "cell_type": "markdown",
   "metadata": {
    "slideshow": {
     "slide_type": "subslide"
    }
   },
   "source": [
    "### 수행 순서\n",
    "\n",
    "* Pre-Processing\n",
    "* Solve\n",
    "* Post-Processing"
   ]
  },
  {
   "cell_type": "markdown",
   "metadata": {
    "slideshow": {
     "slide_type": "subslide"
    }
   },
   "source": [
    "#### Pre-Processing\n",
    "\n",
    "1. Modeling\n",
    "2. Data Exchange\n",
    "3. Mesh\n",
    "4. Material / Initial Condition / Boundary Condition"
   ]
  },
  {
   "cell_type": "markdown",
   "metadata": {
    "slideshow": {
     "slide_type": "subslide"
    }
   },
   "source": [
    "#### Solve\n",
    "\n",
    "1. Equation\n",
    "2. Solver Method\n",
    "3. Calculation"
   ]
  },
  {
   "cell_type": "markdown",
   "metadata": {
    "slideshow": {
     "slide_type": "subslide"
    }
   },
   "source": [
    "#### Post-Processing\n",
    "\n",
    "1. Visualization\n",
    "2. Data Analysis\n",
    "3. Reporting"
   ]
  },
  {
   "cell_type": "markdown",
   "metadata": {
    "slideshow": {
     "slide_type": "subslide"
    }
   },
   "source": [
    "### Tools"
   ]
  },
  {
   "cell_type": "markdown",
   "metadata": {
    "slideshow": {
     "slide_type": "subslide"
    }
   },
   "source": [
    "#### Modeling\n",
    "\n",
    "* 3D CAD : FreeCAD, Salome, Gmsh...\n",
    "* 2D CAD : DraftSight, Gmsh..."
   ]
  },
  {
   "cell_type": "markdown",
   "metadata": {
    "slideshow": {
     "slide_type": "subslide"
    }
   },
   "source": [
    "#### Data Exchange\n",
    "\n",
    "* FreeCAD\n",
    "* Gmsh\n",
    "* Salome\n",
    "* ..."
   ]
  },
  {
   "cell_type": "markdown",
   "metadata": {
    "slideshow": {
     "slide_type": "subslide"
    }
   },
   "source": [
    "#### Mesh\n",
    "\n",
    "* Gmsh\n",
    "* Salome\n",
    "* Z88Aurora\n",
    "* Elmer Grid\n",
    "* ..."
   ]
  },
  {
   "cell_type": "markdown",
   "metadata": {
    "slideshow": {
     "slide_type": "subslide"
    }
   },
   "source": [
    "#### Solver\n",
    "\n",
    "* Z88\n",
    "* Elmer FEM\n",
    "* ..."
   ]
  },
  {
   "cell_type": "markdown",
   "metadata": {
    "slideshow": {
     "slide_type": "subslide"
    }
   },
   "source": [
    "#### Visualization\n",
    "\n",
    "* Paraveiew\n",
    "* ..."
   ]
  },
  {
   "cell_type": "markdown",
   "metadata": {
    "slideshow": {
     "slide_type": "subslide"
    }
   },
   "source": [
    "#### Data Analysis, Automation\n",
    "\n",
    "* Julia\n",
    "* ..."
   ]
  },
  {
   "cell_type": "markdown",
   "metadata": {
    "slideshow": {
     "slide_type": "subslide"
    }
   },
   "source": [
    "#### Reporting\n",
    "\n",
    "* Jupyter\n",
    "* Office\n",
    "* Movie on Youtube\n",
    "* ..."
   ]
  },
  {
   "cell_type": "markdown",
   "metadata": {
    "slideshow": {
     "slide_type": "slide"
    }
   },
   "source": [
    "## 1.5. 컴퓨터 자원"
   ]
  },
  {
   "cell_type": "markdown",
   "metadata": {
    "slideshow": {
     "slide_type": "subslide"
    }
   },
   "source": [
    "### 요구 성능\n",
    "\n",
    "* CPU Core : 최소 1개 이상.  멀티코어 연산으로 셋팅할 경우에는 더 필요하게 됨.  전체 계산 시간을 크게 떨어뜨려 줄 수 있음.\n",
    "* 메모리 : 최소 2GB 이상.  요소의 개수가 많아질수록 기하급수적으로 더 많이 필요하게 됨.\n",
    "* 저장공간 : 하드디스크 쓰기 분량이 상당히 많은 경우가 있으므로 여유있게 남겨둘 것.\n",
    "* 그래픽카드는 굳이 좋은게 아니라도 상관없다."
   ]
  },
  {
   "cell_type": "markdown",
   "metadata": {
    "slideshow": {
     "slide_type": "subslide"
    }
   },
   "source": [
    "### CUDA\n",
    "\n",
    "* 고성능 그래픽카드를 FEA 연산용으로 사용하는 라이브러리 (NVIDIA 전용)\n",
    "* 오픈소스 쪽에서는 아직 거의 사용하지 않음\n",
    "* 3D 그래픽용 Blender의 렌더링 용으로 구현되어 있는 사례가 있음"
   ]
  },
  {
   "cell_type": "markdown",
   "metadata": {
    "slideshow": {
     "slide_type": "subslide"
    }
   },
   "source": [
    "### OpenMPI\n",
    "\n",
    "* https://www.open-mpi.org/\n",
    "* 병렬로 배열된 CPU를 활용하는 라이브러리\n",
    "* 오픈소스 FEA 소프트웨어가 일반적으로 사용함\n",
    "* 일반적인 슈퍼컴퓨터는 그래픽카드 말고 CPU를 배열해서 사용하므로 적합함\n",
    "   (물론 그래픽카드를 대규모로 배열한 특수한 슈퍼컴퓨터도 존재하긴 하지만 아직 대세는 아님)\n",
    "* 개인용 PC의 멀티코어 리소스도 이것으로 사용할 수 있게 됨"
   ]
  },
  {
   "cell_type": "markdown",
   "metadata": {
    "slideshow": {
     "slide_type": "subslide"
    }
   },
   "source": [
    "### 실무에서 사용할 수 있는 형태"
   ]
  },
  {
   "cell_type": "markdown",
   "metadata": {
    "slideshow": {
     "slide_type": "subslide"
    }
   },
   "source": [
    "#### 개인용 PC를 그냥 사용\n",
    "* 본 강의에서 셋팅한 환경처럼, 가상머신으로 윈도우 안에서 따로 하나 띄워서 사용.\n",
    "* 백그라운드로 계산을 시켜 놓고, 호스트 윈도우 환경에서는 그냥 하던 작업을 계속 하면 됨.\n",
    "* 별도의 컴퓨터를 새로 마련할 필요가 없어 편리함.\n",
    "* 사용할 수 있는 컴퓨터 자원이 한정적이라 해석 규모를 마음대로 키우기는 힘듦."
   ]
  },
  {
   "cell_type": "markdown",
   "metadata": {
    "slideshow": {
     "slide_type": "subslide"
    }
   },
   "source": [
    "#### 해석 전용 컴퓨터를 마련해서 운용\n",
    "* 해석 전용 컴퓨터 하나를 리눅스로 셋팅해 놓고, 여기에 개인용 PC로 접속해서 계산 명령을 줘서 계산을 시키는 경우.\n",
    "* 약간 계산 규모가 크고, 한 대의 해석 전용 컴퓨터를 여러 명의 팀원이 함께 사용 가능함.\n",
    "* 약간의 전기료, 컴퓨터 운영 담당자 필요"
   ]
  },
  {
   "cell_type": "markdown",
   "metadata": {
    "slideshow": {
     "slide_type": "subslide"
    }
   },
   "source": [
    "#### 클라우드 서비스 사용\n",
    "* 아마존 클라우드 같은 서비스를 사용.\n",
    "* 원격으로 가상 리눅스 컴퓨터를 셋팅하고 해석용 소프트웨어를 깔아서 사용.\n",
    "* 컴퓨터 자원이 더 필요하면 돈을 더 내면 됨.\n",
    "* 딱 필요한 만큼 사용한 자원에 대한 비용만 지불."
   ]
  },
  {
   "cell_type": "markdown",
   "metadata": {
    "slideshow": {
     "slide_type": "subslide"
    }
   },
   "source": [
    "#### 국가 슈퍼컴퓨터 사용\n",
    "* 당신에게 사용 기회는 돌아오지 않는다. (슈퍼컴퓨터 자원 부족)\n",
    "* 그냥 없는 셈 치자."
   ]
  },
  {
   "cell_type": "markdown",
   "metadata": {
    "slideshow": {
     "slide_type": "slide"
    }
   },
   "source": [
    "## 1.6. 옛날에는..."
   ]
  },
  {
   "cell_type": "markdown",
   "metadata": {
    "slideshow": {
     "slide_type": "subslide"
    }
   },
   "source": [
    "1982년 일본 자동차 회사의 CAD\n",
    "![](./Pictures/1982_CAD_VECTOR.JPG)"
   ]
  },
  {
   "cell_type": "markdown",
   "metadata": {
    "slideshow": {
     "slide_type": "subslide"
    }
   },
   "source": [
    "1982년 일본 자동차 회사의 FEA\n",
    "![](./Pictures/1982_CAE.JPG)"
   ]
  },
  {
   "cell_type": "markdown",
   "metadata": {
    "slideshow": {
     "slide_type": "subslide"
    }
   },
   "source": [
    "1982년 일본 자동차 회사의 FEA 화면\n",
    "![](./Pictures/1982_fem_01.jpg)"
   ]
  },
  {
   "cell_type": "markdown",
   "metadata": {
    "slideshow": {
     "slide_type": "subslide"
    }
   },
   "source": [
    "1982년 일본 자동차 회사의 FEA 화면\n",
    "![](./Pictures/1982_FEM_02.JPG)"
   ]
  },
  {
   "cell_type": "markdown",
   "metadata": {
    "slideshow": {
     "slide_type": "subslide"
    }
   },
   "source": [
    "1982년 일본 자동차 회사의 분석툴\n",
    "![](./Pictures/1982_ANALYSIS.JPG)"
   ]
  },
  {
   "cell_type": "markdown",
   "metadata": {},
   "source": []
  },
  {
   "cell_type": "markdown",
   "metadata": {},
   "source": []
  }
 ],
 "metadata": {
  "_draft": {
   "nbviewer_url": "https://gist.github.com/8ea699a3a1c1a99672df76e0636d7f9a"
  },
  "anaconda-cloud": {},
  "celltoolbar": "Slideshow",
  "gist": {
   "data": {
    "description": "github/KIRIA_Education/02_Script_Programming.ipynb",
    "public": true
   },
   "id": "8ea699a3a1c1a99672df76e0636d7f9a"
  },
  "kernelspec": {
   "display_name": "Julia 0.5.0",
   "language": "julia",
   "name": "julia-0.5"
  },
  "language_info": {
   "file_extension": ".jl",
   "mimetype": "application/julia",
   "name": "julia",
   "version": "0.5.0"
  },
  "nav_menu": {},
  "toc": {
   "navigate_menu": true,
   "number_sections": true,
   "sideBar": true,
   "threshold": 6,
   "toc_cell": false,
   "toc_section_display": "block",
   "toc_window_display": false
  }
 },
 "nbformat": 4,
 "nbformat_minor": 0
}
