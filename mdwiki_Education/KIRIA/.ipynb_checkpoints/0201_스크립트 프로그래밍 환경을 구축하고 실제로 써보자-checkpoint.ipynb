{
 "cells": [
  {
   "cell_type": "markdown",
   "metadata": {
    "slideshow": {
     "slide_type": "slide"
    }
   },
   "source": [
    "## 2일차\n",
    "### 수업내용 : 스크립트 프로그래밍 환경을 구축하고 실제로 써보자!\n",
    "\n",
    "* 1교시 : 왜 로봇 구조설계자가 프로그래밍까지 해야 되나?\n",
    "* 2교시 : Scilab, GNU Octave, Scientific Python, Julia를 설치해서 간단히 사용해 보기\n",
    "* 3교시 : Jupyter를 설치해서 간단히 사용해 보기\n",
    "* 4교시 : Light Table 에디터 설치해서 간단히 사용해 보기\n",
    "* 점심시간\n",
    "* 5교시 : Git 소개,설치 및 Github 계정 만들고 연계시키기\n",
    "* 6교시 : Gist Extension 설치 후 Jupyter와 연계해 보기\n",
    "* 7교시 : 문제 해결 예제 : 모바일 로봇의 완충 장치 설계\n",
    "* 8교시 : 문제 해결 예제 : 모바일 로봇의 완충 장치 설계\n"
   ]
  },
  {
   "cell_type": "markdown",
   "metadata": {
    "slideshow": {
     "slide_type": "subslide"
    }
   },
   "source": [
    "## 2일차\n",
    "\n",
    "# 수업내용 : 스크립트 프로그래밍 환경을 구축하고 실제로 써보자!"
   ]
  },
  {
   "cell_type": "markdown",
   "metadata": {
    "slideshow": {
     "slide_type": "slide"
    }
   },
   "source": [
    "# 1교시 : 왜 로봇 구조설계자가 프로그래밍까지 해야 되나?"
   ]
  },
  {
   "cell_type": "markdown",
   "metadata": {
    "slideshow": {
     "slide_type": "slide"
    }
   },
   "source": [
    "## 1.1. 이미 많이들 해 온 건데 새삼스럽게...\n",
    "\n",
    "* 공학용 계산기\n",
    "* AutoLISP\n",
    "* Macro in CATIA\n",
    "* Pro/Program in CREO\n",
    "* Excel\n",
    "* Matlab"
   ]
  },
  {
   "cell_type": "markdown",
   "metadata": {
    "slideshow": {
     "slide_type": "slide"
    }
   },
   "source": [
    "## 1.2. 프로그래밍은 생활 필수품\n",
    "\n",
    "* 전문 개발자들만 한다는 것은 편견\n",
    "* 간단한 도구 정도는 스스로 해결\n",
    "* 컴퓨터로 게임 하는 것 보다는 낫지 않을까?"
   ]
  },
  {
   "cell_type": "markdown",
   "metadata": {
    "slideshow": {
     "slide_type": "slide"
    }
   },
   "source": [
    "## 1.3. 겁내지 말자.\n",
    "\n",
    "* 낮은 목표가 포인트.\n",
    "* 단순, 간단, 유용한 것."
   ]
  },
  {
   "cell_type": "markdown",
   "metadata": {
    "slideshow": {
     "slide_type": "slide"
    }
   },
   "source": [
    "## 1.4. 어떤 것을 만들까?\n",
    "\n",
    "* 설계할 때 자주 쓰는 공식을 프로그램으로 코드로 전환하자.\n",
    "* 함수에 의해 만들어지는 형상을 작도할 때\n",
    "* 단순 반복 작업을 자동화할 때\n",
    "* 시스템 해석을 할 때"
   ]
  },
  {
   "cell_type": "markdown",
   "metadata": {
    "slideshow": {
     "slide_type": "subslide"
    }
   },
   "source": [
    "### 설계할 때 자주 쓰는 공식을 프로그램으로 코드로 전환하자.\n",
    "\n",
    "* 스프링 계산식, 볼스크류 사양 결정 공식, 질량관성모멘트 ...\n",
    "* 한 번 만들어 놓으면 다음부터는 매우 유용."
   ]
  },
  {
   "cell_type": "markdown",
   "metadata": {
    "slideshow": {
     "slide_type": "subslide"
    }
   },
   "source": [
    "### 함수에 의해 만들어지는 형상을 작도할 때\n",
    "\n",
    "* 기어 치형, 엄밀한 렌즈 형상, 볼록 거울 곡률 결정 ...\n",
    "* Bucky Ball, Tensegrity, Truss Structure ...\n",
    "* 비행기 날개, 프로펠러 형상 작도 ..."
   ]
  },
  {
   "cell_type": "markdown",
   "metadata": {
    "slideshow": {
     "slide_type": "subslide"
    }
   },
   "source": [
    "### 단순 반복 작업을 자동화할 때\n",
    "\n",
    "* BOM 작성 같은 것들\n",
    "* 파라미터만 바꿔가면서 반복 계산할 때"
   ]
  },
  {
   "cell_type": "markdown",
   "metadata": {
    "slideshow": {
     "slide_type": "subslide"
    }
   },
   "source": [
    "### 시스템 해석을 할 때\n",
    "\n",
    "* 선형시스템 해석\n",
    "* 제어시스템 해석"
   ]
  },
  {
   "cell_type": "markdown",
   "metadata": {
    "slideshow": {
     "slide_type": "slide"
    }
   },
   "source": [
    "## 1.5. 언어와 패러다임\n",
    "\n",
    "* 어려운 시스템 프로그래밍 언어는 굳이 사용할 필요 없음 : C, C++, Go, Rust ...\n",
    "* 굳이 객체지향 패러다임을 추구할 필요 없음\n",
    "* 과학기술용 스크립트 언어가 가장 접근성이 좋음"
   ]
  },
  {
   "cell_type": "markdown",
   "metadata": {
    "slideshow": {
     "slide_type": "subslide"
    }
   },
   "source": [
    "### 과학기술용 스크립트 언어들\n",
    "\n",
    "* Python : 만능\n",
    "* R : 통계학\n",
    "* Octave : Matlab 호환\n",
    "* Julia : 신세대"
   ]
  },
  {
   "cell_type": "markdown",
   "metadata": {
    "slideshow": {
     "slide_type": "subslide"
    }
   },
   "source": [
    "### 객체지향을 굳이 쓸 필요 없다.\n",
    "\n",
    "* 매우 간단한 것을 하는데는 오히려 불리함\n",
    "* 문제 해결에 집중하고 코딩 자체에는 노력을 덜 쏟는게 이득"
   ]
  },
  {
   "cell_type": "markdown",
   "metadata": {
    "slideshow": {
     "slide_type": "slide"
    }
   },
   "source": [
    "## 1.6. 간단한 예시"
   ]
  },
  {
   "cell_type": "markdown",
   "metadata": {
    "slideshow": {
     "slide_type": "subslide"
    }
   },
   "source": [
    "### 타원형"
   ]
  },
  {
   "cell_type": "markdown",
   "metadata": {
    "slideshow": {
     "slide_type": "subslide"
    }
   },
   "source": [
    "### 타원형을 그리는 공식 (Implicit)\n",
    "\n",
    "$$\\frac{x^2}{a^2} + \\frac{y^2}{b^2} = 1$$\n",
    "\n",
    "* $a$ : $x$축 반경\n",
    "* $b$ : $y$축 반경"
   ]
  },
  {
   "cell_type": "markdown",
   "metadata": {
    "slideshow": {
     "slide_type": "subslide"
    }
   },
   "source": [
    "### 타원형을 그리는 공식 (Explicit)\n",
    "\n",
    "$$x = a \\, cos \\theta$$\n",
    "$$y = b \\, sin \\theta$$\n",
    "\n",
    "* $\\theta$ : 매개변수(Parameter)"
   ]
  },
  {
   "cell_type": "markdown",
   "metadata": {
    "slideshow": {
     "slide_type": "subslide"
    }
   },
   "source": [
    "### Julia로 타원형 작도"
   ]
  },
  {
   "cell_type": "code",
   "execution_count": 7,
   "metadata": {
    "collapsed": false,
    "slideshow": {
     "slide_type": "subslide"
    }
   },
   "outputs": [
    {
     "data": {
      "image/png": "[encoded data removed]",
      "text/plain": [
       "PyPlot.Figure(PyObject <matplotlib.figure.Figure object at 0x7f3a1124a550>)"
      ]
     },
     "metadata": {},
     "output_type": "display_data"
    },
    {
     "data": {
      "text/plain": [
       "1-element Array{Any,1}:\n",
       " PyObject <matplotlib.lines.Line2D object at 0x7f3a10f8ba50>"
      ]
     },
     "execution_count": 7,
     "metadata": {},
     "output_type": "execute_result"
    }
   ],
   "source": [
    "using PyPlot  # 그래프를 플로팅 해 주는 라이브러리를 우선 불러들임\n",
    "\n",
    "a = 20;\n",
    "b = 10;\n",
    "theta = linspace(0,2*pi,100);  # 0 ~ 2*pi 범위를 100개로 쪼개서 벡터 데이타 생성\n",
    "\n",
    "x = a*cos(theta);\n",
    "y = b*sin(theta);\n",
    "\n",
    "plot(x,y)\n"
   ]
  }
 ],
 "metadata": {
  "_draft": {
   "nbviewer_url": "https://gist.github.com/6e63fcd951418910be732dfd631df727"
  },
  "anaconda-cloud": {},
  "celltoolbar": "Slideshow",
  "gist": {
   "data": {
    "description": "github/KIRIA_Education/02_Script_Programming.ipynb",
    "public": true
   },
   "id": "6e63fcd951418910be732dfd631df727"
  },
  "kernelspec": {
   "display_name": "Julia 0.5.0",
   "language": "julia",
   "name": "julia-0.5"
  },
  "language_info": {
   "file_extension": ".jl",
   "mimetype": "application/julia",
   "name": "julia",
   "version": "0.5.0"
  },
  "nav_menu": {},
  "toc": {
   "navigate_menu": true,
   "number_sections": true,
   "sideBar": true,
   "threshold": 6,
   "toc_cell": false,
   "toc_section_display": "block",
   "toc_window_display": false
  }
 },
 "nbformat": 4,
 "nbformat_minor": 0
}
