{
 "cells": [
  {
   "cell_type": "markdown",
   "metadata": {
    "slideshow": {
     "slide_type": "slide"
    }
   },
   "source": [
    "# 8교시 : 시스템 구축하기 : 시스템 환경 구성하면서 Linux 사용방법 익히기"
   ]
  },
  {
   "cell_type": "markdown",
   "metadata": {
    "slideshow": {
     "slide_type": "slide"
    }
   },
   "source": [
    "## 8.1. Google 계정 가입하기\n",
    "\n",
    "![](https://www.seeklogo.net/wp-content/uploads/2015/09/new-google-favicon-logo.png)\n",
    "\n",
    "* 기본적으로 구글 계정을 보유하는 것이 좋겠다.\n"
   ]
  },
  {
   "cell_type": "markdown",
   "metadata": {
    "slideshow": {
     "slide_type": "slide"
    }
   },
   "source": [
    "## 8.2. Gmail\n",
    "\n",
    "![](https://upload.wikimedia.org/wikipedia/commons/4/4e/Gmail_Icon.png)\n",
    "\n",
    "* 회사 이메일을 Gmail로 POP3로 연결해서, Gmail 기반으로 메일을 사용하는 것이 여러모로 편리하다."
   ]
  },
  {
   "cell_type": "markdown",
   "metadata": {
    "slideshow": {
     "slide_type": "slide"
    }
   },
   "source": [
    "## 8.3. Google Drive\n",
    "\n",
    "![](https://upload.wikimedia.org/wikipedia/commons/9/9b/Logo_of_Google_Drive.png)\n",
    "\n",
    "* 일반 이메일로는 대용량 파일을 첨부하는 것이 불가능하다.\n",
    "* 구글 클라우드에 올려서 링크시켜 주면, 이메일을 통해 대용량 파일을 상대방에게 쉽게 보낼 수 있다.\n",
    "* 구조설계자는 대용량 파일을 보내야 할 경우가 많기 때문에, 대용량 파일을 교환하는 수단을 갖추어 두는 것이 좋겠다."
   ]
  },
  {
   "cell_type": "markdown",
   "metadata": {
    "slideshow": {
     "slide_type": "slide"
    }
   },
   "source": [
    "# 수고하셨습니다!"
   ]
  }
 ],
 "metadata": {
  "_draft": {
   "nbviewer_url": "https://gist.github.com/05ae7aa0da8889bbf04bf952e3fb47d5"
  },
  "anaconda-cloud": {},
  "celltoolbar": "Slideshow",
  "gist": {
   "data": {
    "description": "mdwiki_Education/KIRIA/0108_시스템 환경 구성하면서 Linux 사용방법 익히기.ipynb",
    "public": true
   },
   "id": "05ae7aa0da8889bbf04bf952e3fb47d5"
  },
  "kernelspec": {
   "display_name": "Python [conda root]",
   "language": "python",
   "name": "conda-root-py"
  },
  "language_info": {
   "codemirror_mode": {
    "name": "ipython",
    "version": 3
   },
   "file_extension": ".py",
   "mimetype": "text/x-python",
   "name": "python",
   "nbconvert_exporter": "python",
   "pygments_lexer": "ipython3",
   "version": "3.5.2"
  },
  "nav_menu": {},
  "toc": {
   "navigate_menu": true,
   "number_sections": true,
   "sideBar": true,
   "threshold": 6,
   "toc_cell": false,
   "toc_section_display": "block",
   "toc_window_display": false
  }
 },
 "nbformat": 4,
 "nbformat_minor": 0
}
