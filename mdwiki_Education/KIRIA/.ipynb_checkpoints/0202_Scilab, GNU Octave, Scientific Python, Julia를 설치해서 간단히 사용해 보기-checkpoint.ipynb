{
 "cells": [
  {
   "cell_type": "markdown",
   "metadata": {
    "slideshow": {
     "slide_type": "slide"
    }
   },
   "source": [
    "# 2교시 : Scilab, GNU Octave, Scientific Python, Julia를 설치해서 간단히 사용해 보기"
   ]
  },
  {
   "cell_type": "markdown",
   "metadata": {
    "slideshow": {
     "slide_type": "slide"
    }
   },
   "source": [
    "## 2.1. Scilab\n",
    "\n",
    "![](http://cermics.enpc.fr/scilab_new/images/scilab_logo.gif)"
   ]
  },
  {
   "cell_type": "markdown",
   "metadata": {
    "slideshow": {
     "slide_type": "subslide"
    }
   },
   "source": [
    "### Scilab?\n",
    "\n",
    "* http://www.scilab.org/scilab/about"
   ]
  },
  {
   "cell_type": "markdown",
   "metadata": {
    "slideshow": {
     "slide_type": "subslide"
    }
   },
   "source": [
    "### Scilab 설치\n",
    "\n",
    "* Direct Download : http://www.scilab.org/download/latest\n",
    "* APT Install\n",
    "```\n",
    "sudo apt-get install scilab\n",
    "```\n"
   ]
  },
  {
   "cell_type": "markdown",
   "metadata": {
    "slideshow": {
     "slide_type": "subslide"
    }
   },
   "source": [
    "### Scilab 실행\n",
    "\n",
    "* 터미널에서 직접 명령 입력\n",
    "```\n",
    "scilab &\n",
    "```\n",
    "\n",
    "* OpenBox 메뉴에서 실행\n",
    "\n",
    "> Applications - 기타 - Scilab"
   ]
  },
  {
   "cell_type": "markdown",
   "metadata": {
    "slideshow": {
     "slide_type": "subslide"
    }
   },
   "source": [
    "### Scilab으로 타원형 그려보기"
   ]
  },
  {
   "cell_type": "code",
   "execution_count": null,
   "metadata": {
    "collapsed": false,
    "slideshow": {
     "slide_type": "subslide"
    }
   },
   "outputs": [],
   "source": [
    "a = 20;\n",
    "b = 10;\n",
    "theta = linspace(0,2*%pi,100);  // Scilab에서는 상수 pi를 %pi로 쓴다.\n",
    "\n",
    "x = a*cos(theta);\n",
    "y = b*sin(theta);\n",
    "\n",
    "plot(x,y)"
   ]
  },
  {
   "cell_type": "markdown",
   "metadata": {
    "slideshow": {
     "slide_type": "slide"
    }
   },
   "source": [
    "## 2.2. GNU Octave\n",
    "\n",
    "![](https://www.gnu.org/software/octave/images//logo.png)"
   ]
  },
  {
   "cell_type": "markdown",
   "metadata": {
    "slideshow": {
     "slide_type": "subslide"
    }
   },
   "source": [
    "### GNU Octave?\n",
    "\n",
    "* https://www.gnu.org/software/octave/"
   ]
  },
  {
   "cell_type": "markdown",
   "metadata": {
    "slideshow": {
     "slide_type": "subslide"
    }
   },
   "source": [
    "### GNU Octave 설치\n",
    "\n",
    "* 최신 버전을 받기 위해 전용 저장소를 등록한 후에 설치.\n",
    "```\n",
    "sudo add-apt-repository ppa:octave/stable\n",
    "sudo apt-get update\n",
    "sudo apt-get install octave\n",
    "```\n"
   ]
  },
  {
   "cell_type": "markdown",
   "metadata": {
    "slideshow": {
     "slide_type": "subslide"
    }
   },
   "source": [
    "### GNU Octave 실행\n",
    "\n",
    "* 터미널에서 직접 명령 입력\n",
    "```\n",
    "octave &\n",
    "```\n",
    "\n",
    "* OpenBox 메뉴에서 실행\n",
    "\n",
    "> Applications - 교육 - GNU Octave"
   ]
  },
  {
   "cell_type": "markdown",
   "metadata": {
    "slideshow": {
     "slide_type": "subslide"
    }
   },
   "source": [
    "### GNU Octave로 타원형 그려보기"
   ]
  },
  {
   "cell_type": "code",
   "execution_count": 1,
   "metadata": {
    "collapsed": false,
    "slideshow": {
     "slide_type": "subslide"
    }
   },
   "outputs": [
    {
     "data": {
      "image/png": "[encoded data removed]",
      "text/plain": [
       "<IPython.core.display.Image object>"
      ]
     },
     "metadata": {},
     "output_type": "display_data"
    }
   ],
   "source": [
    "a = 20;\n",
    "b = 10;\n",
    "theta = linspace(0,2*pi,100);  # Jila Code와 완전히 같다.\n",
    "\n",
    "x = a*cos(theta);\n",
    "y = b*sin(theta);\n",
    "\n",
    "plot(x,y)"
   ]
  },
  {
   "cell_type": "markdown",
   "metadata": {
    "slideshow": {
     "slide_type": "slide"
    }
   },
   "source": [
    "## 2.3. Scientific Python\n",
    "\n",
    "![](http://gracca.github.io/images/python-scipy.png)"
   ]
  },
  {
   "cell_type": "markdown",
   "metadata": {
    "slideshow": {
     "slide_type": "subslide"
    }
   },
   "source": [
    "### Python?\n",
    "\n",
    "* https://www.python.org/"
   ]
  },
  {
   "cell_type": "markdown",
   "metadata": {
    "slideshow": {
     "slide_type": "subslide"
    }
   },
   "source": [
    "### Scientific Python?\n",
    "\n",
    "* https://www.scipy.org/\n",
    "\n",
    "![](http://image.slidesharecdn.com/efyzsva1r3p02eye5kaa-signature-720d0ff5c16f9bab08252a49744ebb240fc18074dbcdd2bf87345a5cc83826c8-poli-150731173656-lva1-app6892/95/new-capabilities-in-the-pydata-ecosystem-4-638.jpg?cb=1438963623)"
   ]
  },
  {
   "cell_type": "markdown",
   "metadata": {
    "slideshow": {
     "slide_type": "subslide"
    }
   },
   "source": [
    "### Scientific Python 설치"
   ]
  },
  {
   "cell_type": "markdown",
   "metadata": {
    "slideshow": {
     "slide_type": "subslide"
    }
   },
   "source": [
    "#### pip 설치\n",
    "\n",
    "* pip = Python 전용 패키지 관리자.  APT와 사용법이 비슷.\n",
    "\n",
    "```\n",
    "sudo apt-get install python-pip\n",
    "```"
   ]
  },
  {
   "cell_type": "markdown",
   "metadata": {
    "slideshow": {
     "slide_type": "subslide"
    }
   },
   "source": [
    "#### 설치된 pip 패키지를 최신 버전으로 업그레이드\n",
    "\n",
    "```\n",
    "sudo pip install --upgrade pip\n",
    "sudo pip install --upgrade distribute\n",
    "```"
   ]
  },
  {
   "cell_type": "markdown",
   "metadata": {
    "slideshow": {
     "slide_type": "subslide"
    }
   },
   "source": [
    "#### pip를 도와주는 도구 패키지도 설치\n",
    "\n",
    "```\n",
    "sudo pip install pip-tools\n",
    "```"
   ]
  },
  {
   "cell_type": "markdown",
   "metadata": {
    "slideshow": {
     "slide_type": "subslide"
    }
   },
   "source": [
    "#### pip 파이썬 패키지 관리자 구성 완료!\n",
    "\n",
    "* 이제 pip를 가지고 Python 스택을 하나씩 쌓아올려간다."
   ]
  },
  {
   "cell_type": "markdown",
   "metadata": {
    "slideshow": {
     "slide_type": "subslide"
    }
   },
   "source": [
    "#### sympy 설치\n",
    "\n",
    "* 기호(Symbolic) 연산이 가능하도록 해 주는 도구.\n",
    "\n",
    "```\n",
    "sudo pip install sympy\n",
    "```"
   ]
  },
  {
   "cell_type": "markdown",
   "metadata": {
    "slideshow": {
     "slide_type": "subslide"
    }
   },
   "source": [
    "#### nose 설치\n",
    "\n",
    "* Python 스크립트를 테스트(NoseTest라고 지칭함)하기 편리하도록 만든 패키지.  이걸 직접 사용할 일은 없으나, 다른 패키지가 의존하기 때문에 미리 설치해 둠.\n",
    "\n",
    "```\n",
    "sudo pip install nose\n",
    "```"
   ]
  },
  {
   "cell_type": "markdown",
   "metadata": {
    "slideshow": {
     "slide_type": "subslide"
    }
   },
   "source": [
    "#### sphinx 설치\n",
    "\n",
    "* 사람이 작성한 .rst 확장자로 된 '구조화된 텍스트파일'을 읽어서 자동적으로 깔끔한 웹 도큐먼트로 만들어주는 변환기.\n",
    "\n",
    "```\n",
    "sudo pip install sphinx\n",
    "```"
   ]
  },
  {
   "cell_type": "markdown",
   "metadata": {
    "slideshow": {
     "slide_type": "subslide"
    }
   },
   "source": [
    "#### pygments 설치\n",
    "\n",
    "* 신텍스 하일라이터(Syntex highlighter). 즉 프로그램 소스코드를 읽어서 예쁘게 색깔을 입혀줘서 가독성을 높여주는 툴.\n",
    "\n",
    "```\n",
    "sudo pip install pygments\n",
    "```"
   ]
  },
  {
   "cell_type": "markdown",
   "metadata": {
    "slideshow": {
     "slide_type": "subslide"
    }
   },
   "source": [
    "#### tornado 설치\n",
    "\n",
    "* Python으로 만들어진 웹 프레임웤. 간단히말해 이걸로 웹서버를 만들수 있고, 다른 Python 계열 웹서비스의 근간이 되는 기반.\n",
    "\n",
    "```\n",
    "sudo pip install tornado\n",
    "```"
   ]
  },
  {
   "cell_type": "markdown",
   "metadata": {
    "slideshow": {
     "slide_type": "subslide"
    }
   },
   "source": [
    "#### jinja2 설치\n",
    "\n",
    "* 템플릿 엔진. 간단히 말해 Python 소스코드에 자동으로 여러가지 태그를 붙여서 html로 보기 좋도록 만들어주는 기능.\n",
    "\n",
    "```\n",
    "sudo pip install jinja2\n",
    "```"
   ]
  },
  {
   "cell_type": "markdown",
   "metadata": {
    "slideshow": {
     "slide_type": "subslide"
    }
   },
   "source": [
    "#### python-dev 설치\n",
    "\n",
    "* Python 개발자용 라이브러리.\n",
    "\n",
    "```\n",
    "sudo apt-get install python-dev\n",
    "```"
   ]
  },
  {
   "cell_type": "markdown",
   "metadata": {
    "slideshow": {
     "slide_type": "subslide"
    }
   },
   "source": [
    "#### 포트란 계산 라이브러리들 설치\n",
    "\n",
    "* Python은 속도가 느리기 때문에, 해석할 때 사용하는 계산용 라이브러리들은 포트란으로 만든 것들을 가져다가 쓰게 됨.\n",
    "\n",
    "```\n",
    "sudo apt-get install libblas-dev libatlas-base-dev liblapack-dev gfortran\n",
    "```\n",
    "\n",
    "> BLAS : Basic Linear Algebra Subprograms\n",
    "\n",
    "> ATLAS : Automatically Tuned Linear Algebra Software\n",
    "\n",
    "> LAPACK : Linear Algebra PACKage\n",
    "\n",
    "> gfortran : https://en.wikipedia.org/wiki/GNU_Fortran"
   ]
  },
  {
   "cell_type": "markdown",
   "metadata": {
    "slideshow": {
     "slide_type": "subslide"
    }
   },
   "source": [
    "#### numpy 및 scipy 설치\n",
    "\n",
    "* http://www.numpy.org/\n",
    "\n",
    "```\n",
    "sudo pip install numpy scipy\n",
    "```"
   ]
  },
  {
   "cell_type": "markdown",
   "metadata": {
    "slideshow": {
     "slide_type": "subslide"
    }
   },
   "source": [
    "#### matplotlib 설치\n",
    "\n",
    "* Python을 마치 Matlab처럼 사용하는 기분(?)이 나도록 해 주는 플랏팅 도구..\n",
    "* 의존하는 관련 라이브러리들을 먼저 설치해 준 후에 순차적으로 설치.\n",
    "\n",
    "```\n",
    "sudo apt-get install libpng-dev libfreetype6-dev libjpeg8-dev pkg-config\n",
    "sudo pip install matplotlib\n",
    "```"
   ]
  },
  {
   "cell_type": "markdown",
   "metadata": {
    "slideshow": {
     "slide_type": "subslide"
    }
   },
   "source": [
    "#### readline 설치\n",
    "\n",
    "* Python 인터프리터가 소스코드 파일을 읽어들일 때 읽고 쓴 내역(history)을 기록하고 행수를 정의하는 등의 기능.\n",
    "\n",
    "```\n",
    "sudo apt-get install libncurses5-dev\n",
    "sudo pip install readline\n",
    "```"
   ]
  },
  {
   "cell_type": "markdown",
   "metadata": {
    "slideshow": {
     "slide_type": "subslide"
    }
   },
   "source": [
    "#### pandas 설치\n",
    "\n",
    "* 자료를 테이블처럼 만들어서(DataFrame) 다루기 좋도록 해주는 도구.\n",
    "* 요즘 유행하는 빅데이터,데이터마이닝,데이터과학 분야에서 많이 이용.\n",
    "\n",
    "```\n",
    "sudo pip install pandas\n",
    "```"
   ]
  },
  {
   "cell_type": "markdown",
   "metadata": {
    "slideshow": {
     "slide_type": "subslide"
    }
   },
   "source": [
    "#### pyzmq 설치\n",
    "\n",
    "* zeromq를 Python에서 쓸 수 있도록 엮어준(binding) 것.\n",
    "* zeromq(=ØMQ)는 libzmq라는 이름의 패키지로 되어 있음.\n",
    "* 경량/고속으로 컴퓨터 시스템 내부에서 동작하는 메시징 도구.\n",
    "* 소프트웨어 개발할 때 각 기능별로 모듈화해서 따로 만든 다음 각각의 모듈들 사이를 메시지로 연결해주면 버그 가능성을 줄일수 있고 개발효율이 좋아진다 뭐 이런 생각을 실현해 주는 하나의 수단.\n",
    "\n",
    "```\n",
    "sudo pip install pyzmq\n",
    "```"
   ]
  },
  {
   "cell_type": "markdown",
   "metadata": {
    "slideshow": {
     "slide_type": "slide"
    }
   },
   "source": [
    "## 2.4. Julia\n",
    "\n",
    "![](http://docs.julialang.org/en/release-0.3/_static/julia-logo.svg)"
   ]
  },
  {
   "cell_type": "markdown",
   "metadata": {
    "slideshow": {
     "slide_type": "subslide"
    }
   },
   "source": [
    "### Julia?\n",
    "\n",
    "* http://julialang.org/\n",
    "* 최신기술이 대거 적용된 신형 과학기술용 스크립트 언어\n",
    "* 슈퍼컴퓨터급에서 돌아가는 대규모 프로그래밍에 적합\n",
    "* 개인용 PC에서 돌아가는 소규모 프로그래밍에도 적합"
   ]
  },
  {
   "cell_type": "markdown",
   "metadata": {
    "slideshow": {
     "slide_type": "subslide"
    }
   },
   "source": [
    "### Julia 특징\n",
    "\n",
    "* 매우 쉬운 문법 : MATLAB 코드를 거의 건드리지 않고도 그대로 실행됨\n",
    "* JIT (Just in Time) Compile : 실행 속도가 엄청나게 빠름\n",
    "* LLVM 컴파일러 적용 : GCC보다 더 최신형\n",
    "* 자체 패키지 매니저 보유 : 라이브러리들의 버전 관리가 간편함\n",
    "* 최신 프로그래밍 패러다임 대거 적용 : 동적 타입 시스템, 함수형 언어 특성 등등\n",
    "* 모든 Python 라이브러리를 그냥 가져다 쓸 수 있음\n",
    "* 별도의 조치 없이 C로 구현된 함수를 그냥 불러올 수 있음\n",
    "* 병렬연산, 분산 컴퓨팅에 적합하도록 처음부터 개발됨\n",
    "* 변수 타입을 알아서 인식하는 능력이 뛰어남 : 편하다!\n",
    "* 처음부터 유니코드 지원 : 변수,함수 명칭을 한글이나 특수한 문자를 사용해도 다 됨\n",
    "* 오픈소스 : MIT 라이센스\n"
   ]
  },
  {
   "cell_type": "markdown",
   "metadata": {
    "slideshow": {
     "slide_type": "subslide"
    }
   },
   "source": [
    "### Julia 단점\n",
    "\n",
    "* 너무 젊은 언어이기 때문에, 자체 라이브러리가 아직 좀 부실함\n",
    "* 한국내 사용자가 별로 없음 : https://www.facebook.com/groups/juliakorea"
   ]
  },
  {
   "cell_type": "markdown",
   "metadata": {
    "slideshow": {
     "slide_type": "subslide"
    }
   },
   "source": [
    "### Julia 설치\n",
    "\n",
    "```\n",
    "sudo add-apt-repository ppa:staticfloat/juliareleases\n",
    "sudo add-apt-repository ppa:staticfloat/julia-deps\n",
    "sudo apt-get update\n",
    "sudo apt-get install julia\n",
    "```"
   ]
  },
  {
   "cell_type": "markdown",
   "metadata": {
    "slideshow": {
     "slide_type": "subslide"
    }
   },
   "source": [
    "### Julia 최초 실행\n",
    "\n",
    "* 터미널 명령으로,\n",
    "```\n",
    "julia\n",
    "```"
   ]
  },
  {
   "cell_type": "markdown",
   "metadata": {
    "slideshow": {
     "slide_type": "subslide"
    }
   },
   "source": [
    "### Julia 기본적인 패키지 추가 설치해 주기\n",
    "\n",
    "* Julia 콘솔 내에서,\n",
    "\n",
    "```\n",
    "Pkg.init()\n",
    "Pkg.add(\"Jewel\")\n",
    "Pkg.add(\"Images\")\n",
    "Pkg.add(\"PyPlot\")\n",
    "Pkg.update()\n",
    "quit()\n",
    "```"
   ]
  },
  {
   "cell_type": "markdown",
   "metadata": {
    "slideshow": {
     "slide_type": "subslide"
    }
   },
   "source": [
    "### 아까 봤던 타원형 작도를 직접 해 보자!"
   ]
  },
  {
   "cell_type": "code",
   "execution_count": 2,
   "metadata": {
    "collapsed": false,
    "slideshow": {
     "slide_type": "subslide"
    }
   },
   "outputs": [
    {
     "data": {
      "image/png": "[encoded data removed]",
      "text/plain": [
       "PyPlot.Figure(PyObject <matplotlib.figure.Figure object at 0x7f57c0761810>)"
      ]
     },
     "metadata": {},
     "output_type": "display_data"
    },
    {
     "data": {
      "text/plain": [
       "1-element Array{Any,1}:\n",
       " PyObject <matplotlib.lines.Line2D object at 0x7f57be3db610>"
      ]
     },
     "execution_count": 2,
     "metadata": {},
     "output_type": "execute_result"
    }
   ],
   "source": [
    "using PyPlot\n",
    "\n",
    "a = 20;\n",
    "b = 10;\n",
    "theta = linspace(0,2*pi,100);\n",
    "\n",
    "x = a*cos(theta);\n",
    "y = b*sin(theta);\n",
    "\n",
    "plot(x,y)"
   ]
  }
 ],
 "metadata": {
  "_draft": {
   "nbviewer_url": "https://gist.github.com/182efc5201ff693086eec2a888577da3"
  },
  "anaconda-cloud": {},
  "celltoolbar": "Slideshow",
  "gist": {
   "data": {
    "description": "github/KIRIA_Education/02_Script_Programming.ipynb",
    "public": true
   },
   "id": "182efc5201ff693086eec2a888577da3"
  },
  "kernelspec": {
   "display_name": "Python [conda root]",
   "language": "python",
   "name": "conda-root-py"
  },
  "language_info": {
   "codemirror_mode": {
    "name": "ipython",
    "version": 3
   },
   "file_extension": ".py",
   "mimetype": "text/x-python",
   "name": "python",
   "nbconvert_exporter": "python",
   "pygments_lexer": "ipython3",
   "version": "3.5.2"
  },
  "nav_menu": {},
  "toc": {
   "navigate_menu": true,
   "number_sections": true,
   "sideBar": true,
   "threshold": 6,
   "toc_cell": false,
   "toc_section_display": "block",
   "toc_window_display": false
  }
 },
 "nbformat": 4,
 "nbformat_minor": 0
}
