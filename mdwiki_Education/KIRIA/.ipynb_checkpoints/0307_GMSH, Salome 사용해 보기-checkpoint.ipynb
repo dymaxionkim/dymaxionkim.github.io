{
 "cells": [
  {
   "cell_type": "markdown",
   "metadata": {
    "slideshow": {
     "slide_type": "slide"
    }
   },
   "source": [
    "# 7교시 : GMSH, Salome 사용해 보기"
   ]
  },
  {
   "cell_type": "markdown",
   "metadata": {
    "slideshow": {
     "slide_type": "slide"
    }
   },
   "source": [
    "## 7.1. Modeling with Gmsh\n"
   ]
  },
  {
   "cell_type": "markdown",
   "metadata": {
    "slideshow": {
     "slide_type": "subslide"
    }
   },
   "source": [
    "### Methods\n",
    "* Import .step\n",
    "* Edit .geo\n",
    "* GUI Tools\n"
   ]
  },
  {
   "cell_type": "markdown",
   "metadata": {
    "slideshow": {
     "slide_type": "subslide"
    }
   },
   "source": [
    "#### Import .step\n",
    "\n",
    "* Just `Open`!"
   ]
  },
  {
   "cell_type": "markdown",
   "metadata": {
    "slideshow": {
     "slide_type": "subslide"
    }
   },
   "source": [
    "#### Edit .geo\n",
    "\n",
    "* 텍스트 에디터로 .geo 파일을 생성 후 형상을 직접 코딩!\n",
    "* 문법이 간단해서 연습을 조금만 하면 됨.\n",
    "* https://youtu.be/wv7IUUWGIQo\n",
    "* 간단한 형상일 경우, 정돈된(Structured) Mesh 생성에 유리함."
   ]
  },
  {
   "cell_type": "markdown",
   "metadata": {
    "slideshow": {
     "slide_type": "subslide"
    }
   },
   "source": [
    "#### GUI tools\n",
    "\n",
    "* GUI 툴을 이용하여 직접 형상을 그리기\n",
    "* Bottom up 모델링 (Vertex - Line - Surface - Body 순서로 쌓아올림)\n",
    "* .geo 파일을 생성.  텍스트 에디터를 띄워놓고 업데이트 해 가면서 작업 가능.\n",
    "* https://youtu.be/nkuawZkiu1w"
   ]
  },
  {
   "cell_type": "markdown",
   "metadata": {
    "slideshow": {
     "slide_type": "subslide"
    }
   },
   "source": [
    "### Keywords\n",
    "\n",
    "* Pysical Group\n",
    "* Element Size\n",
    "* Recombine\n",
    "* Transfinite\n",
    "* 1D,2D,3D\n",
    "* Optimize 3D\n",
    "* Order"
   ]
  },
  {
   "cell_type": "markdown",
   "metadata": {
    "slideshow": {
     "slide_type": "subslide"
    }
   },
   "source": [
    "### File Exchange in Gmsh\n",
    "\n",
    "* geo, brep, igs, stp\n",
    "* msh, diff, unv, med, mesh, bdf, nas, p3d, stl, vtk, wrl, vrml, ply\n",
    "* ..."
   ]
  },
  {
   "cell_type": "markdown",
   "metadata": {
    "slideshow": {
     "slide_type": "subslide"
    }
   },
   "source": [
    "### Example\n",
    "\n",
    "[![Structured Mesh of a 2D Cylinder in Gmsh](https://i.ytimg.com/vi/1A-b84kloFs/hqdefault.jpg?custom=true&w=196&h=110&stc=true&jpg444=true&jpgq=90&sp=68&sigh=h_Sm_hjxJK9UN-Algrz9SXNxnIQ)](https://youtu.be/1A-b84kloFs)\n"
   ]
  },
  {
   "cell_type": "markdown",
   "metadata": {
    "slideshow": {
     "slide_type": "slide"
    }
   },
   "source": [
    "## 7.2. Modeling with Salome"
   ]
  },
  {
   "cell_type": "markdown",
   "metadata": {
    "slideshow": {
     "slide_type": "subslide"
    }
   },
   "source": [
    "### Example\n",
    "\n",
    "* Import .STEP and Physical Groups\n",
    "\n",
    "https://youtu.be/DlGKaDUsOfA\n"
   ]
  },
  {
   "cell_type": "markdown",
   "metadata": {
    "slideshow": {
     "slide_type": "subslide"
    }
   },
   "source": []
  },
  {
   "cell_type": "markdown",
   "metadata": {
    "slideshow": {
     "slide_type": "subslide"
    }
   },
   "source": []
  }
 ],
 "metadata": {
  "_draft": {
   "nbviewer_url": "https://gist.github.com/6c14dfa75cc6b2e01f6236ccf10759a1"
  },
  "anaconda-cloud": {},
  "celltoolbar": "Slideshow",
  "gist": {
   "data": {
    "description": "mdwiki_Education/KIRIA/0307_GMSH, Salome 사용해 보기.ipynb",
    "public": true
   },
   "id": "6c14dfa75cc6b2e01f6236ccf10759a1"
  },
  "kernelspec": {
   "display_name": "Python [conda root]",
   "language": "python",
   "name": "conda-root-py"
  },
  "language_info": {
   "codemirror_mode": {
    "name": "ipython",
    "version": 3
   },
   "file_extension": ".py",
   "mimetype": "text/x-python",
   "name": "python",
   "nbconvert_exporter": "python",
   "pygments_lexer": "ipython3",
   "version": "3.5.2"
  },
  "nav_menu": {},
  "toc": {
   "navigate_menu": true,
   "number_sections": true,
   "sideBar": true,
   "threshold": 6,
   "toc_cell": false,
   "toc_section_display": "block",
   "toc_window_display": false
  }
 },
 "nbformat": 4,
 "nbformat_minor": 0
}
