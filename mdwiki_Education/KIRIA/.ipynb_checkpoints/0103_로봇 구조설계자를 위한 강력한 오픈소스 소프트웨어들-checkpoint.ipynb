{
 "cells": [
  {
   "cell_type": "markdown",
   "metadata": {
    "slideshow": {
     "slide_type": "slide"
    }
   },
   "source": [
    "# 3교시 : 로봇 구조설계자를 위한 강력한 오픈소스 소프트웨어들"
   ]
  },
  {
   "cell_type": "markdown",
   "metadata": {
    "slideshow": {
     "slide_type": "slide"
    }
   },
   "source": [
    "## 3.1. FOSS for Mechanical Engineers !"
   ]
  },
  {
   "cell_type": "markdown",
   "metadata": {
    "slideshow": {
     "slide_type": "subslide"
    }
   },
   "source": [
    "### 주로 어떤 문제를 다룰 수 있는가?\n",
    "\n",
    "* 계산, 데이타 분석\n",
    "* 유한요소해석\n",
    "* 리포팅"
   ]
  },
  {
   "cell_type": "markdown",
   "metadata": {
    "slideshow": {
     "slide_type": "subslide"
    }
   },
   "source": [
    "### 참고할 만한 자료들\n",
    "\n",
    "* [일본 발표자료 ](http://opencae.gifu-nct.ac.jp/pukiwiki/index.php?plugin=attach&refer=%C2%E8%A3%B3%A3%B9%B2%F3%CA%D9%B6%AF%B2%F1%A1%A7H270509&openfile=Opencae%CA%D9%B6%AF%B2%F1OSS%B4%D8%CF%A2SH.pdf)\n",
    "* [Opennovation](http://www.opennovation.org/)\n",
    "* [Ubuntu 엔지니어링](http://ubuntuguide.org/wiki/Ubuntu_Trusty_Science_and_Technology)"
   ]
  },
  {
   "cell_type": "markdown",
   "metadata": {
    "slideshow": {
     "slide_type": "subslide"
    }
   },
   "source": [
    "## 3.2. Workstation Platform"
   ]
  },
  {
   "cell_type": "markdown",
   "metadata": {
    "slideshow": {
     "slide_type": "subslide"
    }
   },
   "source": [
    "### VirtualBox\n",
    "\n",
    "* 별도의 PC를 마련하지 말고, 기존에 쓰던 윈도우PC에 가상머신을 만들어 쓰자.\n",
    "* CPU 코어 개수, 메모리, 하드디스크 용량은 크면 클 수록 좋다."
   ]
  },
  {
   "cell_type": "markdown",
   "metadata": {
    "slideshow": {
     "slide_type": "subslide"
    }
   },
   "source": [
    "### Linux\n",
    "\n",
    "* 가상머신에 리눅스를 올려서 운영체제로 삼는다.\n",
    "* 윈도우에 어플리케이션들을 깔아도 되는 경우가 많긴 하다.\n",
    "* 대부분의 오픈소스 공학 소프트웨어들이 리눅스 기반으로 개발되고 있기 때문에 운영 및 기능 극대화 측면에서 리눅스를 사용하는 것이 가장 좋다."
   ]
  },
  {
   "cell_type": "markdown",
   "metadata": {
    "slideshow": {
     "slide_type": "subslide"
    }
   },
   "source": [
    "### Ubuntu\n",
    "\n",
    "* 여러가지 리눅스 배포판 중에서, Ubuntu 계통의 것을 사용하자.\n",
    "* 대부분의 주요 공학용 소프트웨어들을 설치 운용하기가 가장 쉽다.\n",
    "* 문제가 생겼을 때 온라인으로 해결 방법을 찾기가 가장 쉽다.\n",
    "* 만일 다른 배포판을 사용한다면, 소프트웨어를 직접 컴파일-빌드해서 수동으로 설치해서 사용해야 하는 경우에 부딪히게 된다.\n"
   ]
  },
  {
   "cell_type": "markdown",
   "metadata": {
    "slideshow": {
     "slide_type": "subslide"
    }
   },
   "source": [
    "### CubLinux\n",
    "\n",
    "* 오리지널 우분투 배포판은 데스크탑 환경 자체가 그래픽카드의 3D 가속기능을 필요로하기 때문에, 가상머신에서 사용하기에 적합하지 않다.\n",
    "* 따라서 3D 가속기능을 사용하지 않는 데스크탑 환경을 제공하는 변형 배포판을 사용하는 것이 좋다.\n",
    "* Xubuntu, Lubuntu, Ubuntu Mate 같은 것을 사용하면 OK.\n",
    "* 본 강의에서는 CubLinux 배포판을 사용한다.\n",
    "* 이유는, 우분투의 편리성을 놓치지 않으면서도, 설치 용량 및 메모리 점유량이 가장 적기 때문이다.\n"
   ]
  },
  {
   "cell_type": "markdown",
   "metadata": {
    "slideshow": {
     "slide_type": "slide"
    }
   },
   "source": [
    "## 3.3. Numerical Script Programming"
   ]
  },
  {
   "cell_type": "markdown",
   "metadata": {
    "slideshow": {
     "slide_type": "subslide"
    }
   },
   "source": [
    "### Matlab\n",
    "\n",
    "* Matlab은 상용 소프트웨어이므로 사용할 기회가 거의 없다.\n",
    "* 다만 리눅스용 Matlab도 판매된다는 사실.\n",
    "* 공학 세계에서 Di Facto Standard에 해당하기 때문에, 기본적인 Matlab 문법을 알면 적응하기가 매우 쉬워진다."
   ]
  },
  {
   "cell_type": "markdown",
   "metadata": {
    "slideshow": {
     "slide_type": "subslide"
    }
   },
   "source": [
    "### GNU Octave\n",
    "\n",
    "* 오픈소스 Matlab 대체품.\n",
    "* 계산 속도는 Matlab 보다도 더 느리다.\n",
    "* 하지만 우리는 계산 속도에 민감한 문제를 다룰 일은 거의 없다.\n",
    "* 최근 버전에서는 자체 GUI까지 내장해서 제공된다.\n",
    "* 때문에 그냥 Matlab을 쓴다는 느낌으로 똑같이 쓰면 된다.\n",
    "* 다만 Matlab의 방대한 라이브러리와 도구들을 다 가지고 있지는 못하다."
   ]
  },
  {
   "cell_type": "markdown",
   "metadata": {
    "slideshow": {
     "slide_type": "subslide"
    }
   },
   "source": [
    "### Scilab\n",
    "\n",
    "* 프랑스에서 만든 오픈소스 Matlab 대체품.\n",
    "* 문법은 Matlab과 거의 유사하나, 살짝 다르기 때문에 호환되지는 않는다.\n",
    "* 자체적으로 Matlab 문법과의 번역 기능이 있어 이를 보완해 준다.\n"
   ]
  },
  {
   "cell_type": "markdown",
   "metadata": {
    "slideshow": {
     "slide_type": "subslide"
    }
   },
   "source": [
    "### Scientific Python\n",
    "\n",
    "* 해커들이 원체 Python 언어를 좋아하다 보니, 그냥 Python으로 Matlab이 해 주는 능력을 갖도록 하자는 생각으로 구성된다.\n",
    "* MatPlotLib 툴이 개발되면서 최종적인 완성이 되었다.\n",
    "* Numpy, Scipy, MatPlotLib의 3가지 라이브러리를 추가해 주면 구성이 완료된다.\n",
    "* 설치가 쉽도록 통합 배포판을 제공해 주는 회사들도 있다.\n",
    "* 때문에 기능적으로 매우 만족스러우나, 구조설계자에게 새로운 객체지향 언어를 배우고 능숙하게 사용하기란 학습곡선이 너무 가파르다.\n",
    "* 자신있다면 도전해 보자."
   ]
  },
  {
   "cell_type": "markdown",
   "metadata": {
    "slideshow": {
     "slide_type": "subslide"
    }
   },
   "source": [
    "### Julia Lang\n",
    "\n",
    "* 2012년도에 나온 가장 젊은 언어.\n",
    "* 과학기술 전용 언어이다.\n",
    "* Matlab 만큼 쉽고, 매우 빠른 퍼포먼스를 동시에 충족시킨다.\n",
    "* 코드를 잘 구성하면 포트란,C에 근접하는 속도를 보여준다.\n",
    "* 부족한 라이브러리는 Python의 것을 빌려와서 쓰는 올라타기 전략을 쓰고 있다.\n",
    "* 최신 컴퓨터공학 기술을 싹 다 적용했다고 보면 된다. (JIT, LLVM, UTF-8, Multi Paradigm, Multi Thread...)"
   ]
  },
  {
   "cell_type": "markdown",
   "metadata": {
    "slideshow": {
     "slide_type": "slide"
    }
   },
   "source": [
    "## 3.4. CAD"
   ]
  },
  {
   "cell_type": "markdown",
   "metadata": {
    "slideshow": {
     "slide_type": "subslide"
    }
   },
   "source": [
    "### Open Cascade\n",
    "\n",
    "* 오픈소스로 공개된 유일한 제대로 된 3D CAD Kernel.\n",
    "* 따라서 현실적으로 솔리드 모델링과 관계된 모든 오픈소스 소프트웨어는 이 라이브러리를 갖다 쓴다.\n",
    "* 꽤 안정적이기 때문에 기본적인 품질을 보장해 준다."
   ]
  },
  {
   "cell_type": "markdown",
   "metadata": {
    "slideshow": {
     "slide_type": "subslide"
    }
   },
   "source": [
    "### DraftSight\n",
    "\n",
    "* 오픈소스는 아님.\n",
    "* 대신 바이너리 코드는 무료로 제공해 주기 때문에, dwg 파일을 다루기 위해 필요하다."
   ]
  },
  {
   "cell_type": "markdown",
   "metadata": {
    "slideshow": {
     "slide_type": "subslide"
    }
   },
   "source": [
    "### FreeCAD\n",
    "\n",
    "* 오픈소스로 개발된 3D CAD 중에서 가장 완성도가 높고 활성화가 잘 된 패키지.\n",
    "* 그러나 성숙된 상용 3D CAD 제품들에 비할 바는 아니다.  아직 열심히 발전하고 있는 수준.\n",
    "* 대신 보조적인 역할로 요긴하게 사용될 수 있다."
   ]
  },
  {
   "cell_type": "markdown",
   "metadata": {
    "slideshow": {
     "slide_type": "slide"
    }
   },
   "source": [
    "## 3.5. CAE"
   ]
  },
  {
   "cell_type": "markdown",
   "metadata": {
    "slideshow": {
     "slide_type": "subslide"
    }
   },
   "source": [
    "### Netgen\n",
    "\n",
    "* 오프소스로 공개된 Mesh 생성 툴/라이브러리.\n",
    "* 가장 안정적이고 품질이 좋기 때문에 대부분의 오픈소스 CAE 소프트웨어는 이것을 가져다 쓴다."
   ]
  },
  {
   "cell_type": "markdown",
   "metadata": {
    "slideshow": {
     "slide_type": "subslide"
    }
   },
   "source": [
    "### Gmsh\n",
    "\n",
    "* Netgen, Open Cascade 등을 가져다가 사용하기 좋도록 만든 패키지.\n",
    "* 직접 노드들을 생성,편집하기가 좋은 재미있는 기능들이 있다.\n",
    "* 유한요소해석의 개념을 학습하는데 가장 좋은 툴.\n",
    "* 단점은 Multi Body를 다룰 수 없다."
   ]
  },
  {
   "cell_type": "markdown",
   "metadata": {
    "slideshow": {
     "slide_type": "subslide"
    }
   },
   "source": [
    "### Salome Platform\n",
    "\n",
    "* FEM의 전 과정을 수행할 수 있도록 만든 GUI 툴.\n",
    "* Multi Body Mesh를 생성할 수 있기 때문에, Gmsh로 안될 경우에 유용하다."
   ]
  },
  {
   "cell_type": "markdown",
   "metadata": {
    "slideshow": {
     "slide_type": "subslide"
    }
   },
   "source": [
    "### Paraview\n",
    "\n",
    "* FEM 해석 후 결과물로 나온 데이타를 시현해 준다.\n",
    "* 기능이 풍부하고, 병렬 컴퓨터까지 지원하기 때문에 슈퍼컴퓨터에서 만들어낸 대규모 데이타까지 시현할 수 있다.\n",
    "* Post Precessor로서는 가장 좋으며, 심지어 상용 FEM 해석 소프트웨어들의 것 보다 더 좋다."
   ]
  },
  {
   "cell_type": "markdown",
   "metadata": {
    "slideshow": {
     "slide_type": "subslide"
    }
   },
   "source": [
    "### Calculix\n",
    "\n",
    "* 독일 제트엔진 개발 회사 엔지니어들이 직접 제트엔진을 해석하기 위해 만든 코드.\n",
    "* Abaqus 영향을 크게 받았다.  계산 퍼포먼스는 아바쿠스보다 약간 떨어진다고 한다.\n",
    "* GUI 도구는 따로 없고 해석자(Solver) 부분만 보통 가져다 쓴다."
   ]
  },
  {
   "cell_type": "markdown",
   "metadata": {
    "slideshow": {
     "slide_type": "subslide"
    }
   },
   "source": [
    "### Elmer FEM\n",
    "\n",
    "* 핀란드 국책연구소 연구원이 소규모 팀으로 개발.\n",
    "* 20년 동안 꾸준히 업데이트 해 오고 있다.\n",
    "* Multi Physics 문제를 다루기에 적합하다. (구조해석, 제한적인 접촉해석, 열해석, 제한적인 유체동역학, 전자기학 등등)\n",
    "* 사용법이 상당히 쉬운 편이다.  최초 개념만 잘 이해하면 그 다음부터는 쉽다.\n",
    "* GUI가 단순하기 때문에 얼핏 능력이 낮아 보이지만, 해킹이 매우 쉽도록 구성되어 있기 때문에 유럽에 존재하는 슈퍼컴퓨터들 중 60% 이상에 Elmer가 설치되어 사용중이라고 한다."
   ]
  },
  {
   "cell_type": "markdown",
   "metadata": {
    "slideshow": {
     "slide_type": "subslide"
    }
   },
   "source": [
    "### Z88 Aurora\n",
    "\n",
    "* 독일 대학교수가 학생들 가르치려고 개발.\n",
    "* 보통 FEM 코드는 포트란으로 만든 핵심 라이브러리를 쓰는데 (LAPACK, LINPACK 따위), Z88은 C++로 직접 밑바닥부터 전부 다 새로 개발했다.\n",
    "* 해석 가능한 범위는 제한적이지만, 사용법이 쉽기 때문에 기본적인 해석을 하기에 적합하다."
   ]
  },
  {
   "cell_type": "markdown",
   "metadata": {
    "slideshow": {
     "slide_type": "subslide"
    }
   },
   "source": [
    "### Code Aster\n",
    "\n",
    "* 구조해석 Solver.  원자력 발전소의 챔버 설계를 위해 개발되었다.\n",
    "* GUI는 Salome를 이용하여 해결한다.\n",
    "* 설치 및 사용법이 매우 어렵다. (프랑스어의 압박 + 불친절한 패키지)\n",
    "* 오픈소스 구조해석 솔버 중에서 가장 기능이 우수하고 완성도가 높다.\n",
    "* 상용 소프트웨어 수준의 멀티바디 접촉 문제는 물론 심지어 크랙 파단 및 전파까지 전부 모사 가능하다.\n",
    "* 진입장벽이 꽤 높기 때문에 국내에 사용자가 거의 없다.\n",
    "* 커뮤니티가 형성되어 활발하게 활용되어야 하는 중요 소프트웨어 제1순위."
   ]
  },
  {
   "cell_type": "markdown",
   "metadata": {
    "slideshow": {
     "slide_type": "subslide"
    }
   },
   "source": [
    "### Code Saturne \n",
    "\n",
    "* 유체동역학 Solver.\n",
    "* 역시 GUI는 Salome를 이용한다.\n",
    "* 완성도는 매우 높으나, 사용자층이 그다지 넓지는 못하다.\n",
    "* 이유는 OpenFOAM이 대세이기 때문."
   ]
  },
  {
   "cell_type": "markdown",
   "metadata": {
    "slideshow": {
     "slide_type": "subslide"
    }
   },
   "source": [
    "### Salome Meca\n",
    "\n",
    "* Code Aster와 Salome를 함께 엮어서 패키지로 제공하는 배포판."
   ]
  },
  {
   "cell_type": "markdown",
   "metadata": {
    "slideshow": {
     "slide_type": "subslide"
    }
   },
   "source": [
    "### OpenFOAM\n",
    "\n",
    "* 영국에서 만든 유체동역학 Solver.\n",
    "* 학계에서 주로 사용한다.\n",
    "* 실무에 사용된 대표적인 예로는, 아우디 자동차 회사에서 적극 사용중.\n",
    "* 고수준 유체동역학에 도전하려면 필수.\n",
    "* 다만 압축유동(초음속) 부분은 좀 약하다고 한다.  그에 적합한 다른 오픈소스 코드들이 또 따로 있다."
   ]
  },
  {
   "cell_type": "markdown",
   "metadata": {
    "slideshow": {
     "slide_type": "slide"
    }
   },
   "source": [
    "## 3.6. Online Services"
   ]
  },
  {
   "cell_type": "markdown",
   "metadata": {
    "slideshow": {
     "slide_type": "subslide"
    }
   },
   "source": [
    "### OnShape\n",
    "\n",
    "* 클라우드 CAD 서비스.\n",
    "* 3D CAD 자체를 웹브라우저로 제공한다.\n",
    "* 무료 계정을 제공하므로 한 번 써 볼만 하다.\n",
    "* SOlidWorks 창업자가 은퇴 후에, 웹기술 발전상을 보고 창업했다고 한다."
   ]
  },
  {
   "cell_type": "markdown",
   "metadata": {
    "slideshow": {
     "slide_type": "subslide"
    }
   },
   "source": [
    "### SimScale\n",
    "\n",
    "* 독일에서 창업된 클라우드 CAE 서비스.\n",
    "* 웹브라우저 상에서 GUI가 제공된다.\n",
    "* 아마존 클라우드를 통해 컴퓨팅 자원이 제공된다.\n",
    "* 솔버는 Code Aster, Calculix, OpenFOAM, S2 등이 제공된다.\n",
    "* 핵심 기술을 다른 오픈소스를 가져다 써서 수개월만에 급속 개발한 클라우드 서비스 모델의 전형.\n",
    "* 무료 계정을 제공하므로 가입해서 반드시 써 보기를 권한다."
   ]
  },
  {
   "cell_type": "markdown",
   "metadata": {
    "slideshow": {
     "slide_type": "subslide"
    }
   },
   "source": [
    "### Sage Math Cloud\n",
    "\n",
    "* 워싱턴 대학 수학교수가 스스로 개발한 오픈소스 Mathmetica 대체품.\n",
    "* 사용법이 상당히 쉽고, 오픈소스 라이브러리들을 있는대로 다 갖다 붙였다고 보면 된다.\n",
    "* 학교 수학 교육용으로 주로 사용된다.\n",
    "* 우리나라에서는 성균관대 수학과 이상구 교수가 가장 적극적으로 사용한다."
   ]
  },
  {
   "cell_type": "markdown",
   "metadata": {
    "slideshow": {
     "slide_type": "subslide"
    }
   },
   "source": [
    "### Github\n",
    "\n",
    "* 앞에서 소개했으니깐 생략."
   ]
  }
 ],
 "metadata": {
  "_draft": {
   "nbviewer_url": "https://gist.github.com/a4712554e00ac6076752ae7e3d9cee92"
  },
  "anaconda-cloud": {},
  "celltoolbar": "Slideshow",
  "gist": {
   "data": {
    "description": "mdwiki_Education/KIRIA/0103_로봇 구조설계자를 위한 강력한 오픈소스 소프트웨어들.ipynb",
    "public": true
   },
   "id": "a4712554e00ac6076752ae7e3d9cee92"
  },
  "kernelspec": {
   "display_name": "Python [conda root]",
   "language": "python",
   "name": "conda-root-py"
  },
  "language_info": {
   "codemirror_mode": {
    "name": "ipython",
    "version": 3
   },
   "file_extension": ".py",
   "mimetype": "text/x-python",
   "name": "python",
   "nbconvert_exporter": "python",
   "pygments_lexer": "ipython3",
   "version": "3.5.2"
  },
  "nav_menu": {},
  "toc": {
   "navigate_menu": true,
   "number_sections": true,
   "sideBar": true,
   "threshold": 6,
   "toc_cell": false,
   "toc_section_display": "block",
   "toc_window_display": false
  }
 },
 "nbformat": 4,
 "nbformat_minor": 0
}
