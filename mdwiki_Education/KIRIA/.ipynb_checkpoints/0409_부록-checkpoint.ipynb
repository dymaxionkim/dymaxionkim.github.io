{
 "cells": [
  {
   "cell_type": "markdown",
   "metadata": {
    "slideshow": {
     "slide_type": "slide"
    }
   },
   "source": [
    "# 부록"
   ]
  },
  {
   "cell_type": "markdown",
   "metadata": {
    "slideshow": {
     "slide_type": "slide"
    }
   },
   "source": [
    "## 1.1. 로봇 동역학"
   ]
  },
  {
   "cell_type": "markdown",
   "metadata": {
    "slideshow": {
     "slide_type": "subslide"
    }
   },
   "source": [
    "### Dynamics\n",
    "\n",
    "* Script Programming\n",
    "* MBDyn : https://www.mbdyn.org/\n",
    "* Robotics Simulators : https://en.wikipedia.org/wiki/Robotics_simulator\n"
   ]
  },
  {
   "cell_type": "markdown",
   "metadata": {
    "slideshow": {
     "slide_type": "subslide"
    }
   },
   "source": [
    "### Robotics Simulators\n",
    "\n",
    "* Gazebo : http://gazebosim.org\n",
    "* V-REP : http://www.coppeliarobotics.com/"
   ]
  },
  {
   "cell_type": "markdown",
   "metadata": {
    "slideshow": {
     "slide_type": "slide"
    }
   },
   "source": [
    "## 1.2. SimScale\n",
    "\n",
    "* https://www.simscale.com/\n",
    "* Online FEA with OpenFOAM, Code_aster, CalculiX, SU2, Yade\n",
    "* 무료 계정 제공"
   ]
  },
  {
   "cell_type": "markdown",
   "metadata": {
    "slideshow": {
     "slide_type": "subslide"
    }
   },
   "source": [
    "![](http://1.bp.blogspot.com/-Gk70kUNYK9A/VVvaRJPgZbI/AAAAAAAAcCE/XXBwwbQoMdo/s1600/20150520_003.png)"
   ]
  },
  {
   "cell_type": "markdown",
   "metadata": {
    "slideshow": {
     "slide_type": "slide"
    }
   },
   "source": [
    "## 1.3. Sage\n",
    "\n",
    "\n"
   ]
  },
  {
   "cell_type": "markdown",
   "metadata": {
    "slideshow": {
     "slide_type": "subslide"
    }
   },
   "source": [
    "### Sage Math Cloud\n",
    "\n",
    "* https://cloud.sagemath.com/"
   ]
  },
  {
   "cell_type": "markdown",
   "metadata": {
    "slideshow": {
     "slide_type": "subslide"
    }
   },
   "source": [
    "### Sage Notebook\n",
    "\n",
    "* 성균관대 수학과 : http://math1.skku.ac.kr/\n",
    "* 국가수리연구소 : https://sage.nims.re.kr/"
   ]
  },
  {
   "cell_type": "markdown",
   "metadata": {
    "slideshow": {
     "slide_type": "subslide"
    }
   },
   "source": [
    "### Sage Math Cell\n",
    "\n",
    "* https://sagecell.sagemath.org/"
   ]
  },
  {
   "cell_type": "markdown",
   "metadata": {
    "slideshow": {
     "slide_type": "slide"
    }
   },
   "source": [
    "## 1.4. Blender\n",
    "\n",
    "* https://www.blender.org/\n",
    "* http://www.slideshare.net/dymaxionkim/20140514-team-blenderv01\n",
    "* 자동 업데이트를 위한 [비공식 PPA](https://launchpad.net/~thomas-schiex/+archive/ubuntu/blender)로 설치\n",
    "```\n",
    "sudo add-apt-repository ppa:thomas-schiex/blender\n",
    "sudo apt-get update\n",
    "sudo apt-get install blender\n",
    "```"
   ]
  }
 ],
 "metadata": {
  "_draft": {
   "nbviewer_url": "https://gist.github.com/dfc503f9acfbbcdf2a4fa80a8e2f22f2"
  },
  "anaconda-cloud": {},
  "celltoolbar": "Slideshow",
  "gist": {
   "data": {
    "description": "mdwiki_Education/KIRIA/0409_부록.ipynb",
    "public": true
   },
   "id": "dfc503f9acfbbcdf2a4fa80a8e2f22f2"
  },
  "kernelspec": {
   "display_name": "Python [conda root]",
   "language": "python",
   "name": "conda-root-py"
  },
  "language_info": {
   "codemirror_mode": {
    "name": "ipython",
    "version": 3
   },
   "file_extension": ".py",
   "mimetype": "text/x-python",
   "name": "python",
   "nbconvert_exporter": "python",
   "pygments_lexer": "ipython3",
   "version": "3.5.2"
  },
  "nav_menu": {},
  "toc": {
   "navigate_menu": true,
   "number_sections": true,
   "sideBar": true,
   "threshold": 6,
   "toc_cell": false,
   "toc_section_display": "block",
   "toc_window_display": false
  }
 },
 "nbformat": 4,
 "nbformat_minor": 0
}
