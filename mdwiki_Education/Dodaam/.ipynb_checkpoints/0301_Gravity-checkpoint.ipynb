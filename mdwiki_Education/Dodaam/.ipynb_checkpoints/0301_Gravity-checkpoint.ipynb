{
 "cells": [
  {
   "cell_type": "markdown",
   "metadata": {
    "slideshow": {
     "slide_type": "slide"
    }
   },
   "source": [
    "# 0301 : Gravity Condition"
   ]
  },
  {
   "cell_type": "markdown",
   "metadata": {
    "slideshow": {
     "slide_type": "slide"
    }
   },
   "source": [
    "## FreeCAD\n",
    "\n",
    "* 3D Solid Modeling"
   ]
  },
  {
   "cell_type": "markdown",
   "metadata": {
    "slideshow": {
     "slide_type": "subslide"
    }
   },
   "source": [
    "## Sketch\n",
    "![](https://cloud.githubusercontent.com/assets/12775748/16608830/1e263d14-438a-11e6-9f2d-dfcb5d92ae61.png)"
   ]
  },
  {
   "cell_type": "markdown",
   "metadata": {
    "slideshow": {
     "slide_type": "subslide"
    }
   },
   "source": [
    "## Pad\n",
    "![](https://cloud.githubusercontent.com/assets/12775748/16608835/1e33d140-438a-11e6-8319-16066010e03d.png)"
   ]
  },
  {
   "cell_type": "markdown",
   "metadata": {
    "slideshow": {
     "slide_type": "subslide"
    }
   },
   "source": [
    "## Export to STEP\n",
    "![](https://cloud.githubusercontent.com/assets/12775748/16608834/1e3392e8-438a-11e6-84ce-67ed0a2b8e6a.png)"
   ]
  },
  {
   "cell_type": "markdown",
   "metadata": {
    "slideshow": {
     "slide_type": "slide"
    }
   },
   "source": [
    "## Gmsh\n",
    "\n",
    "* Mesh Generatoin"
   ]
  },
  {
   "cell_type": "markdown",
   "metadata": {
    "slideshow": {
     "slide_type": "subslide"
    }
   },
   "source": [
    "## Start Gmsh\n",
    "![](https://cloud.githubusercontent.com/assets/12775748/16608836/1f489e1c-438a-11e6-8b2d-5dbd37c1aa3d.png)"
   ]
  },
  {
   "cell_type": "markdown",
   "metadata": {
    "slideshow": {
     "slide_type": "subslide"
    }
   },
   "source": [
    "## Open STEP file\n",
    "![](https://cloud.githubusercontent.com/assets/12775748/16608837/1f4caa7a-438a-11e6-9316-87b62e4001bc.png)"
   ]
  },
  {
   "cell_type": "markdown",
   "metadata": {
    "slideshow": {
     "slide_type": "subslide"
    }
   },
   "source": [
    "## Check Geometry\n",
    "![](https://cloud.githubusercontent.com/assets/12775748/16608838/1f55c9e8-438a-11e6-8751-e42b1750e9cb.png)"
   ]
  },
  {
   "cell_type": "markdown",
   "metadata": {
    "slideshow": {
     "slide_type": "subslide"
    }
   },
   "source": [
    "## Tools - Options\n",
    "![](https://cloud.githubusercontent.com/assets/12775748/16608840/1f57bbc2-438a-11e6-9c59-a0840ef68b17.png)"
   ]
  },
  {
   "cell_type": "markdown",
   "metadata": {
    "slideshow": {
     "slide_type": "subslide"
    }
   },
   "source": [
    "## Check Geometry\n",
    "![](https://cloud.githubusercontent.com/assets/12775748/16608839/1f55ebb2-438a-11e6-906b-e1399795b2ce.png)"
   ]
  },
  {
   "cell_type": "markdown",
   "metadata": {
    "slideshow": {
     "slide_type": "subslide"
    }
   },
   "source": [
    "## Generate Mesh\n",
    "* Mesh - 3D - Optimize 3D - Set Order 2\n",
    "![](https://cloud.githubusercontent.com/assets/12775748/16608841/1f5f3244-438a-11e6-8e6d-6a0c96fef131.png)"
   ]
  },
  {
   "cell_type": "markdown",
   "metadata": {
    "slideshow": {
     "slide_type": "subslide"
    }
   },
   "source": [
    "## Options\n",
    "![](https://cloud.githubusercontent.com/assets/12775748/16608843/206e8c52-438a-11e6-94f6-31d95ad40152.png)"
   ]
  },
  {
   "cell_type": "markdown",
   "metadata": {
    "slideshow": {
     "slide_type": "subslide"
    }
   },
   "source": [
    "## Check & Export Mesh\n",
    "![](https://cloud.githubusercontent.com/assets/12775748/16608844/20773de8-438a-11e6-862d-4b63807cff74.png)"
   ]
  },
  {
   "cell_type": "markdown",
   "metadata": {
    "slideshow": {
     "slide_type": "slide"
    }
   },
   "source": [
    "## Elmer\n",
    "\n",
    "* \"StressSolver\" has no gravity condition in default setting."
   ]
  },
  {
   "cell_type": "markdown",
   "metadata": {
    "slideshow": {
     "slide_type": "subslide"
    }
   },
   "source": [
    "## Open Mesh\n",
    "![](https://cloud.githubusercontent.com/assets/12775748/16608846/2089bedc-438a-11e6-857a-35253710ee62.png)"
   ]
  },
  {
   "cell_type": "markdown",
   "metadata": {
    "slideshow": {
     "slide_type": "subslide"
    }
   },
   "source": [
    "## Setup\n",
    "* `Coordinate Scaling = Real 0.001`\n",
    "![](https://cloud.githubusercontent.com/assets/12775748/16608847/208a1f26-438a-11e6-94f8-665c16ef8a4b.png)"
   ]
  },
  {
   "cell_type": "markdown",
   "metadata": {
    "slideshow": {
     "slide_type": "subslide"
    }
   },
   "source": [
    "## Equation - Liniear Elasticity\n",
    "* Check `Active`, `Options`\n",
    "* Check `Body 1`\n",
    "* Press `Edit Solver Setting`\n",
    "![](https://cloud.githubusercontent.com/assets/12775748/16608845/20897e36-438a-11e6-9ba6-c0f89302df14.png)"
   ]
  },
  {
   "cell_type": "markdown",
   "metadata": {
    "slideshow": {
     "slide_type": "subslide"
    }
   },
   "source": [
    "## Solver\n",
    "* Check `Miscellaneous Options`\n",
    "![](https://cloud.githubusercontent.com/assets/12775748/16608848/20a739b2-438a-11e6-85e0-83296a1dfa9c.png)"
   ]
  },
  {
   "cell_type": "markdown",
   "metadata": {
    "slideshow": {
     "slide_type": "subslide"
    }
   },
   "source": [
    "## Equation - Result Output\n",
    "* Check `Active`\n",
    "* Press `Edit Solver Settings`\n",
    "![](https://cloud.githubusercontent.com/assets/12775748/16608849/21dfe96e-438a-11e6-9124-bd65a1b50da2.png)"
   ]
  },
  {
   "cell_type": "markdown",
   "metadata": {
    "slideshow": {
     "slide_type": "subslide"
    }
   },
   "source": [
    "## Solver\n",
    "* Tab `General` - Check `After Timestep`\n",
    "![](https://cloud.githubusercontent.com/assets/12775748/16608850/21ed7cd2-438a-11e6-8689-fc1b4378fd90.png)"
   ]
  },
  {
   "cell_type": "markdown",
   "metadata": {
    "slideshow": {
     "slide_type": "subslide"
    }
   },
   "source": [
    "## Material\n",
    "* Check `Body 1`\n",
    "* Press `Material Library`\n",
    "![](https://cloud.githubusercontent.com/assets/12775748/16608852/21fbc198-438a-11e6-9754-bce2f267e1bb.png)"
   ]
  },
  {
   "cell_type": "markdown",
   "metadata": {
    "slideshow": {
     "slide_type": "subslide"
    }
   },
   "source": [
    "## Material Library\n",
    "* Choice\n",
    "![](https://cloud.githubusercontent.com/assets/12775748/16608853/21fcc048-438a-11e6-8d24-bc949a43e87c.png)"
   ]
  },
  {
   "cell_type": "markdown",
   "metadata": {
    "slideshow": {
     "slide_type": "subslide"
    }
   },
   "source": [
    "## Apply Material\n",
    "* Check\n",
    "![](https://cloud.githubusercontent.com/assets/12775748/16608851/21fb7cf6-438a-11e6-8749-73f75a67d1a2.png)"
   ]
  },
  {
   "cell_type": "markdown",
   "metadata": {
    "slideshow": {
     "slide_type": "subslide"
    }
   },
   "source": [
    "## Body Force\n",
    "* Check `Body 1`\n",
    "![](https://cloud.githubusercontent.com/assets/12775748/16608854/220fa8fc-438a-11e6-8631-346e030071aa.png)"
   ]
  },
  {
   "cell_type": "markdown",
   "metadata": {
    "slideshow": {
     "slide_type": "subslide"
    }
   },
   "source": [
    "## Body Force - Linear Elasticity\n",
    "* Tab `Linear Elasticity`\n",
    "* Apply Gravitation like that :\n",
    "![](https://cloud.githubusercontent.com/assets/12775748/16608855/238e6d6c-438a-11e6-9a8d-77bec42672c9.png)"
   ]
  },
  {
   "cell_type": "markdown",
   "metadata": {
    "slideshow": {
     "slide_type": "subslide"
    }
   },
   "source": [
    "## Boundary Condition\n",
    "* Apply Boundary Condition like that :\n",
    "![](https://cloud.githubusercontent.com/assets/12775748/16608857/23920ec2-438a-11e6-9397-72b2bad19ce3.png)"
   ]
  },
  {
   "cell_type": "markdown",
   "metadata": {
    "slideshow": {
     "slide_type": "subslide"
    }
   },
   "source": [
    "## Boundary Condition\n",
    "* Check `Model` - `Set Boundary Properties`\n",
    "* Double Click on desired Surface & Choice :\n",
    "![](https://cloud.githubusercontent.com/assets/12775748/16608859/2393e33c-438a-11e6-8d5c-057d492d037d.png)"
   ]
  },
  {
   "cell_type": "markdown",
   "metadata": {
    "slideshow": {
     "slide_type": "subslide"
    }
   },
   "source": [
    "##  Check Models\n",
    "* Check directions with `Compas`\n",
    "![](https://cloud.githubusercontent.com/assets/12775748/16608856/238fb6c2-438a-11e6-941d-990e129fefdb.png)"
   ]
  },
  {
   "cell_type": "markdown",
   "metadata": {
    "slideshow": {
     "slide_type": "subslide"
    }
   },
   "source": [
    "## Run Solver\n",
    "* `Run` - `Start Solver`\n",
    "![](https://cloud.githubusercontent.com/assets/12775748/16608858/23930d04-438a-11e6-9ece-832d4678c6ae.png)"
   ]
  },
  {
   "cell_type": "markdown",
   "metadata": {
    "slideshow": {
     "slide_type": "subslide"
    }
   },
   "source": [
    "## Run Solvere - Convergence\n",
    "![](https://cloud.githubusercontent.com/assets/12775748/16608860/239a8b24-438a-11e6-970d-fedbf95b0628.png)"
   ]
  },
  {
   "cell_type": "markdown",
   "metadata": {
    "slideshow": {
     "slide_type": "slide"
    }
   },
   "source": [
    "## ParaView\n",
    "\n",
    "* 해석 결과 데이타 보기"
   ]
  },
  {
   "cell_type": "markdown",
   "metadata": {
    "slideshow": {
     "slide_type": "subslide"
    }
   },
   "source": [
    "## VonMises Stress\n",
    "![](https://cloud.githubusercontent.com/assets/12775748/16608862/24acf92a-438a-11e6-8c5b-75f5dd2f53a2.png)"
   ]
  },
  {
   "cell_type": "markdown",
   "metadata": {
    "slideshow": {
     "slide_type": "subslide"
    }
   },
   "source": [
    "## Displacement with Stress\n",
    "![](https://cloud.githubusercontent.com/assets/12775748/16608863/24b2c81e-438a-11e6-970c-5c6ff948a9f9.png)"
   ]
  },
  {
   "cell_type": "markdown",
   "metadata": {
    "slideshow": {
     "slide_type": "subslide"
    }
   },
   "source": [
    "## Displacement\n",
    "![](https://cloud.githubusercontent.com/assets/12775748/16608865/24b72ac6-438a-11e6-9a77-624365c998a4.png)"
   ]
  },
  {
   "cell_type": "markdown",
   "metadata": {
    "slideshow": {
     "slide_type": "subslide"
    }
   },
   "source": [
    "## Details\n",
    "![](https://cloud.githubusercontent.com/assets/12775748/16608832/1e28b4ae-438a-11e6-9bc3-e524db1457ee.png)"
   ]
  },
  {
   "cell_type": "markdown",
   "metadata": {
    "slideshow": {
     "slide_type": "subslide"
    }
   },
   "source": [
    "## Details\n",
    "![](https://cloud.githubusercontent.com/assets/12775748/16608831/1e268ce2-438a-11e6-8115-61b11c507e7e.png)"
   ]
  },
  {
   "cell_type": "markdown",
   "metadata": {
    "slideshow": {
     "slide_type": "subslide"
    }
   },
   "source": [
    "## Details\n",
    "![](https://cloud.githubusercontent.com/assets/12775748/16608833/1e2a071e-438a-11e6-878a-8165333e6c3d.png)"
   ]
  },
  {
   "cell_type": "markdown",
   "metadata": {
    "slideshow": {
     "slide_type": "slide"
    }
   },
   "source": [
    "# Thank you!"
   ]
  }
 ],
 "metadata": {
  "_draft": {
   "nbviewer_url": "https://gist.github.com/ececf525944a83bafa7e14c02391a876"
  },
  "anaconda-cloud": {},
  "celltoolbar": "Slideshow",
  "gist": {
   "data": {
    "description": "mdwiki_Education/Dodaam/0301_Gravity.ipynb",
    "public": true
   },
   "id": "ececf525944a83bafa7e14c02391a876"
  },
  "kernelspec": {
   "display_name": "Julia 0.5.0",
   "language": "julia",
   "name": "julia-0.5"
  },
  "language_info": {
   "file_extension": ".jl",
   "mimetype": "application/julia",
   "name": "julia",
   "version": "0.5.0"
  },
  "nav_menu": {},
  "toc": {
   "navigate_menu": true,
   "number_sections": true,
   "sideBar": true,
   "threshold": 6,
   "toc_cell": false,
   "toc_section_display": "block",
   "toc_window_display": false
  }
 },
 "nbformat": 4,
 "nbformat_minor": 0
}
