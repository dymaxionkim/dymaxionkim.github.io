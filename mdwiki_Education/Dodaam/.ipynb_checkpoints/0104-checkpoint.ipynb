{
 "cells": [
  {
   "cell_type": "markdown",
   "metadata": {
    "slideshow": {
     "slide_type": "slide"
    }
   },
   "source": [
    "0104\n",
    "# 따라하기 강좌 (입문판)"
   ]
  },
  {
   "cell_type": "markdown",
   "metadata": {
    "slideshow": {
     "slide_type": "slide"
    }
   },
   "source": [
    "## GMSH > ELMER FEM > PARAVIEW 작업 흐름\n",
    "http://dymaxionkim.blogspot.kr/2015/05/gmsh-elmer-fem-paraview.html"
   ]
  },
  {
   "cell_type": "markdown",
   "metadata": {
    "slideshow": {
     "slide_type": "subslide"
    }
   },
   "source": [
    "### 1. Gmsh 사용 방법 (매쉬 생성)\n",
    "[![](https://i.ytimg.com/vi/qts-H6novo0/hqdefault.jpg?custom=true&w=196&h=110&stc=true&jpg444=true&jpgq=90&sp=68&sigh=zGyjP9_VRpRcL7O2pPoKuh_94GU)](https://youtu.be/qts-H6novo0)"
   ]
  },
  {
   "cell_type": "markdown",
   "metadata": {
    "slideshow": {
     "slide_type": "subslide"
    }
   },
   "source": [
    "### 2. Elmer 사용 방법 (선형 탄성 해석)\n",
    "[![](https://i.ytimg.com/vi/NDuQikyDDlg/hqdefault.jpg?custom=true&w=196&h=110&stc=true&jpg444=true&jpgq=90&sp=68&sigh=KomziCO2qAnZvVmH8Kx9iNFUX7k)](https://youtu.be/NDuQikyDDlg)"
   ]
  },
  {
   "cell_type": "markdown",
   "metadata": {
    "slideshow": {
     "slide_type": "subslide"
    }
   },
   "source": [
    "### 3. Paraview 및 문서작성의 예\n",
    "[![](https://i.ytimg.com/vi/q_PAZZLYq-4/hqdefault.jpg?custom=true&w=196&h=110&stc=true&jpg444=true&jpgq=90&sp=68&sigh=2qndo79ME-OepYLnPcq4BHNEqnQ)](https://youtu.be/q_PAZZLYq-4)"
   ]
  },
  {
   "cell_type": "markdown",
   "metadata": {
    "slideshow": {
     "slide_type": "slide"
    }
   },
   "source": [
    "## GPG > DraftSight > FreeCAD > GMSH > ELMER > PARAVIEW 작업 흐름 (개정판) \n",
    "http://dymaxionkim.blogspot.kr/2015/05/gpg-draftsight-freecad-gmsh-elmer.html"
   ]
  },
  {
   "cell_type": "markdown",
   "metadata": {
    "slideshow": {
     "slide_type": "subslide"
    }
   },
   "source": [
    "### 1. GPG, DraftSight로 기어 이빨 형상 설계\n",
    "[![](https://i.ytimg.com/vi/kP2vP7fdTNU/hqdefault.jpg?custom=true&w=196&h=110&stc=true&jpg444=true&jpgq=90&sp=68&sigh=aXR3orSQPUjpRJ6BJsPJPE-dew8)](https://youtu.be/kP2vP7fdTNU)"
   ]
  },
  {
   "cell_type": "markdown",
   "metadata": {
    "slideshow": {
     "slide_type": "subslide"
    }
   },
   "source": [
    "### 2. FreeCAD로 3D 모델링\n",
    "[![](https://i.ytimg.com/vi/Mv2216jBlRk/hqdefault.jpg?custom=true&w=196&h=110&stc=true&jpg444=true&jpgq=90&sp=68&sigh=OmntxvfBZcRE1VOWbScTiwzG7Xo)](https://youtu.be/Mv2216jBlRk)"
   ]
  },
  {
   "cell_type": "markdown",
   "metadata": {
    "slideshow": {
     "slide_type": "subslide"
    }
   },
   "source": [
    "### 3. GMSH로 매쉬 작업\n",
    "[![](https://i.ytimg.com/vi/ErUgi6f1824/hqdefault.jpg?custom=true&w=196&h=110&stc=true&jpg444=true&jpgq=90&sp=68&sigh=ceI4XSCEEJy4rHH3RqW7R8IFm5E)](https://youtu.be/ErUgi6f1824)"
   ]
  },
  {
   "cell_type": "markdown",
   "metadata": {
    "slideshow": {
     "slide_type": "subslide"
    }
   },
   "source": [
    "### 4. ELMER로 해석, PARAVIEW로 결과확인 및 동영상 만들기\n",
    "[![](https://i.ytimg.com/vi/WHNpHxtqiwU/hqdefault.jpg?custom=true&w=196&h=110&stc=true&jpg444=true&jpgq=90&sp=68&sigh=HQb-aQzRnNg-CH4TKtvyw4K1c7c)](https://youtu.be/WHNpHxtqiwU)"
   ]
  },
  {
   "cell_type": "markdown",
   "metadata": {
    "slideshow": {
     "slide_type": "subslide"
    }
   },
   "source": [
    "### 5. 최종 결과물\n",
    "[![](https://i.ytimg.com/vi/2YdAMO66-n0/hqdefault.jpg?custom=true&w=196&h=110&stc=true&jpg444=true&jpgq=90&sp=68&sigh=Qyl4rVBsEbCDpJWrK7pzXFV4F-Y)](https://youtu.be/2YdAMO66-n0)"
   ]
  },
  {
   "cell_type": "markdown",
   "metadata": {
    "slideshow": {
     "slide_type": "slide"
    }
   },
   "source": [
    "# Thank you"
   ]
  }
 ],
 "metadata": {
  "_draft": {
   "nbviewer_url": "https://gist.github.com/d9ca9cafcf05daa28c969ba7db08d837"
  },
  "anaconda-cloud": {},
  "celltoolbar": "Slideshow",
  "gist": {
   "data": {
    "description": "mdwiki_Education/Dodaam/0104.ipynb",
    "public": true
   },
   "id": "d9ca9cafcf05daa28c969ba7db08d837"
  },
  "kernelspec": {
   "display_name": "Julia 0.5.0",
   "language": "julia",
   "name": "julia-0.5"
  },
  "language_info": {
   "file_extension": ".jl",
   "mimetype": "application/julia",
   "name": "julia",
   "version": "0.5.0"
  },
  "nav_menu": {},
  "toc": {
   "navigate_menu": true,
   "number_sections": true,
   "sideBar": true,
   "threshold": 6,
   "toc_cell": false,
   "toc_section_display": "block",
   "toc_window_display": false
  }
 },
 "nbformat": 4,
 "nbformat_minor": 0
}
