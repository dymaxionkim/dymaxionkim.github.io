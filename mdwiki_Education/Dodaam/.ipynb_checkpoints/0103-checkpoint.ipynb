{
 "cells": [
  {
   "cell_type": "markdown",
   "metadata": {
    "slideshow": {
     "slide_type": "slide"
    }
   },
   "source": [
    "0103\n",
    "\n",
    "# 윈도우 환경에 설치"
   ]
  },
  {
   "cell_type": "markdown",
   "metadata": {
    "slideshow": {
     "slide_type": "slide"
    }
   },
   "source": [
    "### CAD Exchanger GUI\n",
    "http://cadexchanger.com\n",
    "![](http://cadexchanger.com/images/screenshot_device.png)\n",
    "\n"
   ]
  },
  {
   "cell_type": "markdown",
   "metadata": {
    "slideshow": {
     "slide_type": "slide"
    }
   },
   "source": [
    "## DraftSight\n",
    "http://www.3ds.com/ko/products-services/draftsight-cad-software/\n",
    "![](http://www.machinistblog.com/wp-content/uploads/2010/07/Draftsight_logo.jpg)"
   ]
  },
  {
   "cell_type": "markdown",
   "metadata": {
    "slideshow": {
     "slide_type": "slide"
    }
   },
   "source": [
    "## GPG V0.8\n",
    "http://dymaxionkim.blogspot.kr/2012/11/gpg-v08.html\n",
    "![](http://cafefiles.naver.net/data23/2006/7/31/276/GPG_v0.8.jpg)"
   ]
  },
  {
   "cell_type": "markdown",
   "metadata": {
    "slideshow": {
     "slide_type": "slide"
    }
   },
   "source": [
    "## FGPG V11\n",
    "\n",
    "https://github.com/dymaxionkim/FGPG\n",
    "![](http://1.bp.blogspot.com/-F_kEDwR4niE/VW8n2-qTsiI/AAAAAAAAcJA/iV22T-clb6U/s640/20150603_006.png)"
   ]
  },
  {
   "cell_type": "markdown",
   "metadata": {
    "slideshow": {
     "slide_type": "slide"
    }
   },
   "source": [
    "## FreeCAD\n",
    "http://www.freecadweb.org/\n",
    "![](http://www.freecadweb.org/images/logo.png)"
   ]
  },
  {
   "cell_type": "markdown",
   "metadata": {
    "slideshow": {
     "slide_type": "slide"
    }
   },
   "source": [
    "## Gmsh\n",
    "http://gmsh.info/\n",
    "![](http://gmsh.info/gallery/Zylkopf3D_small.png)"
   ]
  },
  {
   "cell_type": "markdown",
   "metadata": {
    "slideshow": {
     "slide_type": "slide"
    }
   },
   "source": [
    "## Netgen\n",
    "\n",
    "https://sourceforge.net/projects/netgen-mesher/\n",
    "\n",
    "https://gitlab.asc.tuwien.ac.at/jschoeberl/ngsolve-docu/wikis/home\n",
    "![](https://a.fsdn.com/con/app/proj/netgen-mesher/screenshots/200972.jpg)"
   ]
  },
  {
   "cell_type": "markdown",
   "metadata": {
    "slideshow": {
     "slide_type": "slide"
    }
   },
   "source": [
    "## Paraview\n",
    "http://www.paraview.org/\n",
    "![](http://www.paraview.org/wp-content/uploads/2016/01/paraview_logo.png)"
   ]
  },
  {
   "cell_type": "markdown",
   "metadata": {
    "slideshow": {
     "slide_type": "slide"
    }
   },
   "source": [
    "## Elmer\n",
    "\n",
    "https://sourceforge.net/projects/elmerfem/\n",
    "\n",
    "http://www.nic.funet.fi/pub/sci/physics/elmer/\n",
    "![](https://www.csc.fi/documents/10180/18262/molten_silicon.png/199488ab-0fc4-4390-a398-14dcdf33b39b?t=1367994950000)"
   ]
  },
  {
   "cell_type": "markdown",
   "metadata": {
    "slideshow": {
     "slide_type": "slide"
    }
   },
   "source": [
    "## Z88Aurora\n",
    "http://z88.de/\n",
    "![](http://z88.de/wp-content/uploads/2014/08/Aurora_R1.png)"
   ]
  },
  {
   "cell_type": "markdown",
   "metadata": {
    "slideshow": {
     "slide_type": "slide"
    }
   },
   "source": [
    "# Thank you!"
   ]
  }
 ],
 "metadata": {
  "_draft": {
   "nbviewer_url": "https://gist.github.com/7a2f6d610a78891c726e7f230d576bc9"
  },
  "anaconda-cloud": {},
  "celltoolbar": "Slideshow",
  "gist": {
   "data": {
    "description": "mdwiki_Education/Dodaam/0103.ipynb",
    "public": true
   },
   "id": "7a2f6d610a78891c726e7f230d576bc9"
  },
  "kernelspec": {
   "display_name": "Julia 0.5.0",
   "language": "julia",
   "name": "julia-0.5"
  },
  "language_info": {
   "file_extension": ".jl",
   "mimetype": "application/julia",
   "name": "julia",
   "version": "0.5.0"
  },
  "nav_menu": {},
  "toc": {
   "navigate_menu": true,
   "number_sections": true,
   "sideBar": true,
   "threshold": 6,
   "toc_cell": false,
   "toc_section_display": "block",
   "toc_window_display": false
  }
 },
 "nbformat": 4,
 "nbformat_minor": 0
}
