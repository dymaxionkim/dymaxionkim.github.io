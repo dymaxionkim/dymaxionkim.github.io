{
 "cells": [
  {
   "cell_type": "markdown",
   "metadata": {
    "slideshow": {
     "slide_type": "slide"
    }
   },
   "source": [
    "0201\n",
    "\n",
    "# 따라하기"
   ]
  },
  {
   "cell_type": "markdown",
   "metadata": {
    "slideshow": {
     "slide_type": "slide"
    }
   },
   "source": [
    "### Static Linear Elastic\n",
    "http://dymaxionkim.blogspot.com/2015/04/open-source-cae-toolchain.html\n",
    "![](http://2.bp.blogspot.com/-rkKwkBb0JJ4/VSiw0TtICSI/AAAAAAAAa20/WL9jkWOHA2Q/s1600/20150411_014.png)"
   ]
  },
  {
   "cell_type": "markdown",
   "metadata": {
    "slideshow": {
     "slide_type": "slide"
    }
   },
   "source": [
    "### Paraview Post-Process with VTK\n",
    "http://dymaxionkim.blogspot.com/2015/04/open-source-cae-toolchain-2.html\n",
    "![](http://2.bp.blogspot.com/-rDXuJZyuUuA/VSpvG48IrUI/AAAAAAAAa6A/NDraQNyAhqI/s1600/paraview_02.png)"
   ]
  },
  {
   "cell_type": "markdown",
   "metadata": {
    "slideshow": {
     "slide_type": "slide"
    }
   },
   "source": [
    "### MidasNFX\n",
    "http://dymaxionkim.blogspot.com/2015/04/open-source-cae-toolchain-3-compared.html\n",
    "![](http://2.bp.blogspot.com/-oRPJkTaDlpU/VSsq2ytvRXI/AAAAAAAAa84/h3GCmP7o8Ac/s1600/03.png)"
   ]
  },
  {
   "cell_type": "markdown",
   "metadata": {
    "slideshow": {
     "slide_type": "slide"
    }
   },
   "source": [
    "### Z88Aurora\n",
    "http://dymaxionkim.blogspot.kr/2015/04/open-source-cae-toolchain-4-z88-aurora.html\n",
    "![](http://1.bp.blogspot.com/-UHnWTIoHBWg/VS-6KCo1LsI/AAAAAAAAbAg/nrcEHOdMTx0/s1600/20150416_013.png)"
   ]
  },
  {
   "cell_type": "markdown",
   "metadata": {
    "slideshow": {
     "slide_type": "slide"
    }
   },
   "source": [
    "### Elmer for Navier-Stokes (관로유동)\n",
    "http://dymaxionkim.blogspot.kr/2015/04/open-source-cae-toolchain-5-cfd-with.html\n",
    "![](http://4.bp.blogspot.com/-yxYBIm7FtnM/VTCbaVUs2GI/AAAAAAAAbCo/cSvldFQ_3UM/s1600/paraview03.png)"
   ]
  },
  {
   "cell_type": "markdown",
   "metadata": {
    "slideshow": {
     "slide_type": "slide"
    }
   },
   "source": [
    "### Elmer for Navier-Stokes (외부유동)\n",
    "http://dymaxionkim.blogspot.kr/2015/04/open-source-cae-toolchain-6-cfd-with.html\n",
    "![](http://1.bp.blogspot.com/-GOjWQZXUnxg/VTQ8xwTfIaI/AAAAAAAAbGs/zdLb-5wql9A/s1600/paraview02.png)"
   ]
  },
  {
   "cell_type": "markdown",
   "metadata": {
    "slideshow": {
     "slide_type": "slide"
    }
   },
   "source": [
    "### Simscale\n",
    "http://dymaxionkim.blogspot.kr/2015/04/open-source-cae-toolchain-7-web-services.html\n",
    "![](http://dymaxionkim.blogspot.kr/2015/04/open-source-cae-toolchain-7-web-services.html)"
   ]
  },
  {
   "cell_type": "markdown",
   "metadata": {
    "slideshow": {
     "slide_type": "slide"
    }
   },
   "source": [
    "### Elmer for Blower Heat Convection\n",
    "http://dymaxionkim.blogspot.kr/2015/04/open-source-cae-toolchain-8-cfd-with.html\n",
    "![](http://2.bp.blogspot.com/-mDiJ5Opfe6Y/VTWo0TAh1yI/AAAAAAAAbH8/5ylteA-D--0/s1600/paraview01.png)"
   ]
  },
  {
   "cell_type": "markdown",
   "metadata": {
    "slideshow": {
     "slide_type": "slide"
    }
   },
   "source": [
    "### Rayleigh-Benard Convection\n",
    "http://dymaxionkim.blogspot.kr/2015/04/open-source-cae-toolchain-9-cfd-with.html\n",
    "![](http://4.bp.blogspot.com/-4luijv4jYJs/VT2AM5meB1I/AAAAAAAAbN8/dSU2Dhy0tko/s1600/elmer_vtk_01.png)"
   ]
  },
  {
   "cell_type": "markdown",
   "metadata": {
    "slideshow": {
     "slide_type": "slide"
    }
   },
   "source": [
    "### Elmer for Scanning\n",
    "http://dymaxionkim.blogspot.kr/2015/04/open-source-cae-toolchain-10-fem-with.html\n",
    "![](http://2.bp.blogspot.com/-TdzDBGf4OG0/VT4dqAmrUpI/AAAAAAAAbOs/20flZwvhYk4/s1600/paraview01.png)"
   ]
  },
  {
   "cell_type": "markdown",
   "metadata": {
    "slideshow": {
     "slide_type": "slide"
    }
   },
   "source": [
    "### Elmer for Heat Conduction\n",
    "http://dymaxionkim.blogspot.kr/2015/04/open-source-cae-toolchain-11-salomeelmer.html\n",
    "![](http://1.bp.blogspot.com/-5VCKw-leWlo/VUHBJoLer7I/AAAAAAAAbQw/QXH4KSSeGWc/s1600/%ED%99%94%EB%A9%B4-ElmerVTK%2Bpostprocessor-5.png)"
   ]
  },
  {
   "cell_type": "markdown",
   "metadata": {
    "slideshow": {
     "slide_type": "slide"
    }
   },
   "source": [
    "### Code_Saturne\n",
    "http://dymaxionkim.blogspot.kr/2015/05/open-source-cae-toolchain-12-salome.html\n",
    "[![](https://i.ytimg.com/vi/_dc9r0VVfLw/hqdefault.jpg?custom=true&w=196&h=110&stc=true&jpg444=true&jpgq=90&sp=68&sigh=AsLoMt68g7qdao3tu1htmlYtV5o)](https://youtu.be/_dc9r0VVfLw)"
   ]
  },
  {
   "cell_type": "markdown",
   "metadata": {
    "slideshow": {
     "slide_type": "slide"
    }
   },
   "source": [
    "### Elmer for Fine Scanning\n",
    "http://dymaxionkim.blogspot.kr/2015/05/open-source-cae-toolchain-13-fem-with.html\n",
    "![](http://4.bp.blogspot.com/-b8wgzCPxwEo/VU_x0CHI8yI/AAAAAAAAb9Y/yBVPunOiFm8/s640/paraview03.png)"
   ]
  },
  {
   "cell_type": "markdown",
   "metadata": {
    "slideshow": {
     "slide_type": "slide"
    }
   },
   "source": [
    "### FreeCAD & CalculiX\n",
    "http://dymaxionkim.blogspot.kr/2015/05/open-source-cae-toolchain-14-fem-with.html\n",
    "![](http://2.bp.blogspot.com/-2tjCv0_PRtA/VVDX0OqrycI/AAAAAAAAcBM/iswoJBgPIMA/s640/%EC%8A%A4%ED%81%AC%EB%A6%B0%EC%83%B7%2C%2B2015-05-12%2B00%3A36%3A57.png)"
   ]
  },
  {
   "cell_type": "markdown",
   "metadata": {
    "slideshow": {
     "slide_type": "slide"
    }
   },
   "source": [
    "# Thank you"
   ]
  }
 ],
 "metadata": {
  "_draft": {
   "nbviewer_url": "https://gist.github.com/14ef2a1ecd00e9acd9ea7c618d113037"
  },
  "anaconda-cloud": {},
  "celltoolbar": "Slideshow",
  "gist": {
   "data": {
    "description": "mdwiki_Education/Dodaam/0102.ipynb",
    "public": true
   },
   "id": "14ef2a1ecd00e9acd9ea7c618d113037"
  },
  "kernelspec": {
   "display_name": "Julia 0.5.0",
   "language": "julia",
   "name": "julia-0.5"
  },
  "language_info": {
   "file_extension": ".jl",
   "mimetype": "application/julia",
   "name": "julia",
   "version": "0.5.0"
  },
  "nav_menu": {},
  "toc": {
   "navigate_menu": true,
   "number_sections": true,
   "sideBar": true,
   "threshold": 6,
   "toc_cell": false,
   "toc_section_display": "block",
   "toc_window_display": false
  }
 },
 "nbformat": 4,
 "nbformat_minor": 0
}
