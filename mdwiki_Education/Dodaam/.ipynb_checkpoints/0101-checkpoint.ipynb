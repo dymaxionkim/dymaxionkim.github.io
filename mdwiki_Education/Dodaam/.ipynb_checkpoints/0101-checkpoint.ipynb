{
 "cells": [
  {
   "cell_type": "markdown",
   "metadata": {
    "slideshow": {
     "slide_type": "slide"
    }
   },
   "source": [
    "0101\n",
    "# FEA 개요"
   ]
  },
  {
   "cell_type": "markdown",
   "metadata": {
    "slideshow": {
     "slide_type": "slide"
    }
   },
   "source": [
    "## Open Source?"
   ]
  },
  {
   "cell_type": "markdown",
   "metadata": {
    "slideshow": {
     "slide_type": "subslide"
    }
   },
   "source": [
    "### 오해\n",
    "\n",
    "오픈소스 소프트웨어는 믿을 수 없다?"
   ]
  },
  {
   "cell_type": "markdown",
   "metadata": {
    "slideshow": {
     "slide_type": "subslide"
    }
   },
   "source": [
    "* 공학용 오픈소스 소프트웨어는 오히려 기술/시장을 주도해나가기 시작하는 상황.\n",
    "* 오히려 상업용 공학 소프트웨어들이 오픈소스에 어떻게 대항해 생존할 것인지 걱정하는 상황."
   ]
  },
  {
   "cell_type": "markdown",
   "metadata": {
    "slideshow": {
     "slide_type": "subslide"
    }
   },
   "source": [
    "### 아우디, BMW, 폴크스바겐, 현대자동차 ....\n",
    "\n",
    "* 자동차 업계는 이미 오픈소스 해석 소프트웨어를 주력으로 바꾸기 시작하는 추세임."
   ]
  },
  {
   "cell_type": "markdown",
   "metadata": {
    "slideshow": {
     "slide_type": "subslide"
    }
   },
   "source": [
    "### 한화, 현대중공업 ...\n",
    "\n",
    "* 조선, 방산 업계 쪽에서도 적극 활용하는 엔지니어들이 나오고 있음.\n",
    "* 이번에 성공한 75톤 로켓 엔진 개발 과정에 오픈소스 툴을 적용했다고 함. (한화 한혁섭 박사 팀)"
   ]
  },
  {
   "cell_type": "markdown",
   "metadata": {
    "slideshow": {
     "slide_type": "subslide"
    }
   },
   "source": [
    "### 미래\n",
    "\n",
    "* 상업용 소프트웨어와, 오픈소스를 섞어서 사용하는 추세가 당분간 이어질 것으로 보임.\n",
    "* 이후 오픈소스 해석 소프트웨어의 저변이 점차 넓어지게 되면,\n",
    "* 상업용 소프트웨어 회사들은 생존을 위해 기존의 라이센스 정책을 대폭 수정하게 될 것으로 전망."
   ]
  },
  {
   "cell_type": "markdown",
   "metadata": {
    "slideshow": {
     "slide_type": "slide"
    }
   },
   "source": [
    "## 설계하기도 바쁜데 해석은 왜 하나?\n"
   ]
  },
  {
   "cell_type": "markdown",
   "metadata": {
    "slideshow": {
     "slide_type": "subslide"
    }
   },
   "source": [
    "### 올바른 공학적 방법론을 구사하려고 노력해야 좋은 엔지니어.\n",
    "\n",
    "* 합성(Synthesis)과 해석(Analysis)\n",
    "* 설계(Design)는 합성 과정의 일부에 해당.\n",
    "* '합성 - 해석 - 합성 - 해석'의 반복 과정을 통해 완성도를 높여 나가야 함.\n",
    "* 해석(Analysis) 능력이 없으면 엔지니어가 아니고 테크니션."
   ]
  },
  {
   "cell_type": "markdown",
   "metadata": {
    "slideshow": {
     "slide_type": "subslide"
    }
   },
   "source": [
    "### CAD Drawing만으로는 먹고 살 수 없다.\n",
    "\n",
    "* CAD Drawing으로 설계자의 능력을 가늠하는 시대는 이미 지나갔다.\n",
    "* 짬밥(Domain Knowledge) 만으로는 고객 요구에 대응이 불가능하다.\n",
    "* 시스템 전반을 이해하고 문제를 해결할 수 있어야 한다."
   ]
  },
  {
   "cell_type": "markdown",
   "metadata": {
    "slideshow": {
     "slide_type": "subslide"
    }
   },
   "source": [
    "### 명확한 목표가 있는 해석\n",
    "\n",
    "* 풀고자 하는 문제를 명확하고 단순하게 정의.\n",
    "* 최소한의 해석을 신속하게 수행하여 설계 핵심 변수들에 대한 근거 마련.\n",
    "* 방대하고 복합적인 해석 문제는 해석 전문 엔지니어에게 의뢰하면 됨."
   ]
  },
  {
   "cell_type": "markdown",
   "metadata": {
    "slideshow": {
     "slide_type": "subslide"
    }
   },
   "source": [
    "## 우리의 목표"
   ]
  },
  {
   "cell_type": "markdown",
   "metadata": {
    "slideshow": {
     "slide_type": "subslide"
    }
   },
   "source": [
    "### 기본적인 유한요소해석 기법 습득\n",
    "\n",
    "* 너무 욕심내지 말고 제일 간단한 것 부터.\n",
    "* 의외로 굉장히 유용하다.\n",
    "* 구조해석 소요의 80%는 가장 기본적인 선형 탄성 해석이다."
   ]
  },
  {
   "cell_type": "markdown",
   "metadata": {
    "slideshow": {
     "slide_type": "subslide"
    }
   },
   "source": [
    "### 수학을 못해도 된다.\n",
    "\n",
    "* 배경이 되는 수학의 아이디어 자체만 이해하면 된다.\n",
    "* 계산은 컴퓨터가 해 준다.\n",
    "* 이론을 알아야 한다는 것은 교수님들이 하는 이야기고...\n",
    "* 나중에 필요한 부분이 생기면 따로 공부하면 될 일."
   ]
  },
  {
   "cell_type": "markdown",
   "metadata": {
    "slideshow": {
     "slide_type": "subslide"
    }
   },
   "source": [
    "### 당장 써먹자.\n",
    "\n",
    "* 1개 주제를 해석하는데 하루 안에 끝내는 정도의 간단한 문제면 가능하다.\n",
    "* 프로젝트당 해석 주제를 2~3개 정도만 잡고 해 보자."
   ]
  },
  {
   "cell_type": "markdown",
   "metadata": {
    "slideshow": {
     "slide_type": "subslide"
    }
   },
   "source": [
    "### 후배에게 가르쳐 주자.\n",
    "\n",
    "* '좋은 기술은 혼자만 알아야지'는 꼰대적 마인드.\n",
    "* 개인적으로 흥미가 생기면 시간을 두고 천천히 탐험."
   ]
  },
  {
   "cell_type": "markdown",
   "metadata": {
    "slideshow": {
     "slide_type": "slide"
    }
   },
   "source": [
    "## 개념"
   ]
  },
  {
   "cell_type": "markdown",
   "metadata": {
    "slideshow": {
     "slide_type": "subslide"
    }
   },
   "source": [
    "### FEM\n",
    "\n",
    "* 1944년 경, 오스트리아 수학자 쿠란트와 소련의 흐르니체프가 각각 독자적으로 발안, FEM의 아이디어에 관한 논문을 씀.\n",
    "* 물체를 잘게 쪼개서 정글짐이나 트러스 구조처럼 모델을 만든 다음,\n",
    "* 각각의 절점(Node)과 절점 사이에 선형 미분방정식을 적용하면...\n",
    "* 연립 미분방정식이 된다.  이걸 손으로 푸는 것은 불가능하니깐 컴퓨터한테 시키자.\n",
    "* 다 풀고 나면, 예쁘게 색칠해서 화면으로 보고 분석하자....  는 아이디어."
   ]
  },
  {
   "cell_type": "markdown",
   "metadata": {
    "slideshow": {
     "slide_type": "subslide"
    }
   },
   "source": [
    "### 발전\n",
    "\n",
    "* 1960~1990년대에 걸쳐 자동차,건축 등의 수요를 타겟으로 완만하게 사업화 되다가...\n",
    "* 2000년대 접어들면서 PC 성능이 받쳐주면서 데스크탑 영역으로 들어왔다.\n",
    "* 중저가 상업용 해석 소프트웨어들이 등장하기 시작.\n",
    "* 이를 틈타 한국에서도 Recurdyn, DAFUL, MidasNFX 등이 등장.  중저가 시장 잠식.\n",
    "* 2010년대 접어들면서 오픈소스 해석 소프트웨어들이 상당히 쓸만해 지면서 시장이 또 변화하기 시작."
   ]
  },
  {
   "cell_type": "markdown",
   "metadata": {
    "slideshow": {
     "slide_type": "subslide"
    }
   },
   "source": [
    "### ANSYS가 안좋은 이유\n",
    "\n",
    "* 고성능 병렬 컴퓨터가 회사에 있다고 치자.\n",
    "* CPU코어가 50개쯤 지원되는 강력한 녀석이다.\n",
    "* ANSYS를 1카피 구매했다.  이걸 여기에 적용하려고 하니깐 CPU코어를 1개밖에 못 쓴다.\n",
    "* CPU코어를 다 쓸 수 있도록 라이센스를 받으려고 하니깐, ANSYS 20카피에 해당하는 돈을 매년 계속 지불하라고 한다.\n",
    "* 비싸서 못쓰겠다."
   ]
  },
  {
   "cell_type": "markdown",
   "metadata": {
    "slideshow": {
     "slide_type": "subslide"
    }
   },
   "source": [
    "### Elmer가 좋은 이유 (약간 과장해서)\n",
    "\n",
    "* 그 컴퓨터에 Elmer를 다운로드 받아서 설치했다.\n",
    "* 그냥 돌리면 되네...\n",
    "* 소스코드가 그냥 다 오픈되어 있다 보니, 필요할 때는 시스템 지배방정식을 내가 직접 개발해서 넣어도 되네.\n",
    "* Elmer를 사용할 수 있는 엔지니어는 결국 ANSYS 20카피에 해당하는 비용을 절약한 꼴."
   ]
  },
  {
   "cell_type": "markdown",
   "metadata": {
    "slideshow": {
     "slide_type": "slide"
    }
   },
   "source": [
    "## 순서\n",
    "\n",
    "* 전처리 (Pre-Process) : Mesh 생성, 바운더리 컨디션 설정 등\n",
    "* 계산 (Solve)\n",
    "* 후처리 (Post-Process) : 결과 데이타 가시화"
   ]
  },
  {
   "cell_type": "markdown",
   "metadata": {
    "slideshow": {
     "slide_type": "slide"
    }
   },
   "source": [
    "## Examples"
   ]
  },
  {
   "cell_type": "markdown",
   "metadata": {
    "slideshow": {
     "slide_type": "subslide"
    }
   },
   "source": [
    "### Linear Elastic\n",
    "with Pro/E\n",
    "[![](https://i.ytimg.com/vi/ZEC2YALtm7Q/hqdefault.jpg?custom=true&w=196&h=110&stc=true&jpg444=true&jpgq=90&sp=68&sigh=XFIS-GseRcQuFhxy359dBFWF7JU)](https://youtu.be/ZEC2YALtm7Q)"
   ]
  },
  {
   "cell_type": "markdown",
   "metadata": {
    "slideshow": {
     "slide_type": "subslide"
    }
   },
   "source": [
    "### Implicit Non-Linear Contact\n",
    "with MidasNFX\n",
    "[![](https://i.ytimg.com/vi/FyRVGS0yYAE/hqdefault.jpg?custom=true&w=196&h=110&stc=true&jpg444=true&jpgq=90&sp=68&sigh=-bVbNB23wrLlUzbki-vkcpVBEag)](https://youtu.be/FyRVGS0yYAE)\n",
    "\n"
   ]
  },
  {
   "cell_type": "markdown",
   "metadata": {
    "slideshow": {
     "slide_type": "subslide"
    }
   },
   "source": [
    "### Linear Elastic in Scanning\n",
    "with Elmer\n",
    "[![](https://i.ytimg.com/vi/czrIwudVzdI/hqdefault.jpg?custom=true&w=196&h=110&stc=true&jpg444=true&jpgq=90&sp=68&sigh=YalW_ZlorWIIMn8R_Ki08rwn854)](https://youtu.be/czrIwudVzdI)"
   ]
  },
  {
   "cell_type": "markdown",
   "metadata": {
    "slideshow": {
     "slide_type": "subslide"
    }
   },
   "source": [
    "### Navier-Stokes\n",
    "with Elmer\n",
    "[![](https://i.ytimg.com/vi/cjE4oQgGfT4/hqdefault.jpg?custom=true&w=196&h=110&stc=true&jpg444=true&jpgq=90&sp=68&sigh=9V2VzZK51mnMqPiXT5afr1gVL3o)](https://youtu.be/cjE4oQgGfT4)"
   ]
  },
  {
   "cell_type": "markdown",
   "metadata": {
    "slideshow": {
     "slide_type": "subslide"
    }
   },
   "source": [
    "### Navier-Stokes\n",
    "with Elmer\n",
    "[![](https://i.ytimg.com/vi/1ZdF38iEeaQ/hqdefault.jpg?custom=true&w=196&h=110&stc=true&jpg444=true&jpgq=90&sp=68&sigh=r-i_DnOV1JXuP4mPCgoII0J_vp8)](https://youtu.be/1ZdF38iEeaQ)"
   ]
  },
  {
   "cell_type": "markdown",
   "metadata": {
    "slideshow": {
     "slide_type": "subslide"
    }
   },
   "source": [
    "### Rayleigh-Bernard Convection\n",
    "with Elmer\n",
    "\n",
    "Navier-Stokes + Heat Convection + Buoyancy\n",
    "[![](https://i.ytimg.com/vi/Dp6M6J6wAIc/hqdefault.jpg?custom=true&w=196&h=110&stc=true&jpg444=true&jpgq=90&sp=68&sigh=YrmPMf8g8_wv4M5xHiXZ-WmUnMM)](https://youtu.be/Dp6M6J6wAIc)"
   ]
  },
  {
   "cell_type": "markdown",
   "metadata": {
    "slideshow": {
     "slide_type": "subslide"
    }
   },
   "source": [
    "### Karman Vortex\n",
    "with Elmer\n",
    "[![](https://i.ytimg.com/vi/nkyaWMNCFlQ/hqdefault.jpg?custom=true&w=196&h=110&stc=true&jpg444=true&jpgq=90&sp=68&sigh=9by5vRV-aa6OyznYFv5KwAyEwJQ)](https://youtu.be/nkyaWMNCFlQ)"
   ]
  },
  {
   "cell_type": "markdown",
   "metadata": {
    "slideshow": {
     "slide_type": "subslide"
    }
   },
   "source": [
    "### Natural Convection\n",
    "with Elmer\n",
    "[![](https://i.ytimg.com/vi/CAkcwYgb9_U/hqdefault.jpg?custom=true&w=196&h=110&stc=true&jpg444=true&jpgq=90&sp=68&sigh=im3mJcLuClyWINP6LzKng_AwwtE)](https://youtu.be/CAkcwYgb9_U)"
   ]
  },
  {
   "cell_type": "markdown",
   "metadata": {
    "slideshow": {
     "slide_type": "subslide"
    }
   },
   "source": [
    "### Dynamics without Damping\n",
    "with Elmer\n",
    "[![](https://i.ytimg.com/vi/RA9CPvdPU0Y/hqdefault.jpg?custom=true&w=196&h=110&stc=true&jpg444=true&jpgq=90&sp=68&sigh=Re5Y7bB00m3JAXIoCPgi9JQ4ASU)](https://youtu.be/RA9CPvdPU0Y)"
   ]
  },
  {
   "cell_type": "markdown",
   "metadata": {
    "slideshow": {
     "slide_type": "subslide"
    }
   },
   "source": [
    "### Dynamics with Damping\n",
    "\n",
    "[![](https://i.ytimg.com/vi/HGqn0NhYFFc/hqdefault.jpg?custom=true&w=196&h=110&stc=true&jpg444=true&jpgq=90&sp=68&sigh=mtsFmsd69CevaHWBkABRCKQ3V8M)](https://youtu.be/HGqn0NhYFFc)"
   ]
  },
  {
   "cell_type": "markdown",
   "metadata": {
    "slideshow": {
     "slide_type": "subslide"
    }
   },
   "source": [
    "### Contact without Slip\n",
    "with Elmer\n",
    "[![](https://i.ytimg.com/vi/we3vLBMvJ_8/hqdefault.jpg?custom=true&w=196&h=110&stc=true&jpg444=true&jpgq=90&sp=68&sigh=SxZzc3s3jtZCMvxZCSvKMoyRxGg)](https://youtu.be/we3vLBMvJ_8)"
   ]
  },
  {
   "cell_type": "markdown",
   "metadata": {
    "slideshow": {
     "slide_type": "subslide"
    }
   },
   "source": [
    "### Contact with Friction\n",
    "with Elmer\n",
    "[![](https://i.ytimg.com/vi/53TQZZ5CvjI/hqdefault.jpg?custom=true&w=196&h=110&stc=true&jpg444=true&jpgq=90&sp=68&sigh=5dVDW4Zu971EhDHRvnljvlztS8c)](https://youtu.be/53TQZZ5CvjI)"
   ]
  },
  {
   "cell_type": "markdown",
   "metadata": {
    "slideshow": {
     "slide_type": "slide"
    }
   },
   "source": [
    "# Thank you"
   ]
  }
 ],
 "metadata": {
  "_draft": {
   "nbviewer_url": "https://gist.github.com/d50fcb2dc6883cda5fab05d79b51c031"
  },
  "anaconda-cloud": {},
  "celltoolbar": "Slideshow",
  "gist": {
   "data": {
    "description": "mdwiki_Education/Dodaam/0101.ipynb",
    "public": true
   },
   "id": "d50fcb2dc6883cda5fab05d79b51c031"
  },
  "kernelspec": {
   "display_name": "Julia 0.5.0",
   "language": "julia",
   "name": "julia-0.5"
  },
  "language_info": {
   "file_extension": ".jl",
   "mimetype": "application/julia",
   "name": "julia",
   "version": "0.5.0"
  },
  "nav_menu": {},
  "notify_time": "30",
  "toc": {
   "navigate_menu": true,
   "number_sections": true,
   "sideBar": true,
   "threshold": 6,
   "toc_cell": false,
   "toc_section_display": "block",
   "toc_window_display": true
  },
  "toc_position": {
   "height": "810px",
   "left": "0px",
   "right": "962px",
   "top": "106px",
   "width": "212px"
  }
 },
 "nbformat": 4,
 "nbformat_minor": 0
}
